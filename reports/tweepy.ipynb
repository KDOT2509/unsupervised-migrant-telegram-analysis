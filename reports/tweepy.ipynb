{
 "cells": [
  {
   "cell_type": "code",
   "execution_count": 4,
   "metadata": {},
   "outputs": [
    {
     "name": "stdout",
     "output_type": "stream",
     "text": [
      "Failed authentication\n"
     ]
    }
   ],
   "source": [
    "import tweepy\n",
    "import os\n",
    "from dotenv import load_dotenv\n",
    "load_dotenv() \n",
    "\n",
    "# API keyws that yous saved earlier\n",
    "TWEEPY_API_KEY = os.getenv(\"TWEEPY_API_KEY\")\n",
    "TWEEPY_API_KEY_SECRET = os.getenv(\"TWEEPY_API_KEY\")\n",
    "TWEEPY_BEARER_KEY = os.getenv(\"TWEEPY_BEARER_KEY\")\n",
    "TWEEPY_ACCESS_TOKEN = os.getenv(\"TWEEPY_ACCESS_TOKEN\")\n",
    "TWEEPY_ACCESS_TOKEN_SECRET = os.getenv(\"TWEEPY_ACCESS_TOKEN_SECRET\")\n",
    "\n",
    " \n",
    "# Authenticate to Twitter\n",
    "auth = tweepy.OAuthHandler(TWEEPY_API_KEY,TWEEPY_API_KEY_SECRET)\n",
    "auth.set_access_token(TWEEPY_ACCESS_TOKEN,TWEEPY_ACCESS_TOKEN_SECRET)\n",
    " \n",
    "api = tweepy.API(auth)\n",
    " \n",
    "try:\n",
    "    api.verify_credentials()\n",
    "    print('Successful Authentication')\n",
    "except:\n",
    "    print('Failed authentication')"
   ]
  },
  {
   "cell_type": "code",
   "execution_count": 6,
   "metadata": {},
   "outputs": [
    {
     "name": "stdout",
     "output_type": "stream",
     "text": [
      "Failed authentication\n"
     ]
    }
   ],
   "source": [
    "import tweepy\n",
    " \n",
    "api_key = \"S0YbqGqHyMuNGZZvt8lyj4l9Y\"\n",
    "api_secrets = \"L73Bf7pKMPxPKCzzOZZ7KlxWLGtR6hZAIYgwgViJyxKQhUlAeu\"\n",
    "access_token = \"1427291807721918468-jzMV0TFWxGqzbRLVXqieDWBjBwC3O4\"\n",
    "access_secret = \"8KNe2tMPhF9AudwryLbFcTwohJBhxp9U4CcZ3SM4QoQc1\"\n",
    " \n",
    "# Authenticate to Twitter\n",
    "auth = tweepy.OAuthHandler(api_key,api_secrets)\n",
    "auth.set_access_token(access_token,access_secret)\n",
    " \n",
    "api = tweepy.API(auth)\n",
    " \n",
    "try:\n",
    "    api.verify_credentials()\n",
    "    print('Successful Authentication')\n",
    "except:\n",
    "    print('Failed authentication')"
   ]
  },
  {
   "cell_type": "code",
   "execution_count": 5,
   "metadata": {},
   "outputs": [
    {
     "data": {
      "text/plain": [
       "str"
      ]
     },
     "execution_count": 5,
     "metadata": {},
     "output_type": "execute_result"
    }
   ],
   "source": [
    "type(TWEEPY_ACCESS_TOKEN)"
   ]
  },
  {
   "cell_type": "code",
   "execution_count": 7,
   "metadata": {},
   "outputs": [
    {
     "ename": "Forbidden",
     "evalue": "403 Forbidden\n453 - You currently have Essential access which includes access to Twitter API v2 endpoints only. If you need access to this endpoint, you’ll need to apply for Elevated access via the Developer Portal. You can learn more here: https://developer.twitter.com/en/docs/twitter-api/getting-started/about-twitter-api#v2-access-leve",
     "output_type": "error",
     "traceback": [
      "\u001b[0;31m---------------------------------------------------------------------------\u001b[0m",
      "\u001b[0;31mForbidden\u001b[0m                                 Traceback (most recent call last)",
      "\u001b[1;32m/Users/kiliansprenkamp/Desktop/OneDrive - Universität Zürich UZH/migrantZurich/unsupervised-migrant-telegram-analysis/reports/tweepy.ipynb Cell 4\u001b[0m in \u001b[0;36m<cell line: 9>\u001b[0;34m()\u001b[0m\n\u001b[1;32m      <a href='vscode-notebook-cell:/Users/kiliansprenkamp/Desktop/OneDrive%20-%20Universit%C3%A4t%20Z%C3%BCrich%20UZH/migrantZurich/unsupervised-migrant-telegram-analysis/reports/tweepy.ipynb#W3sZmlsZQ%3D%3D?line=2'>3</a>\u001b[0m auth \u001b[39m=\u001b[39m tweepy\u001b[39m.\u001b[39mOAuth1UserHandler(\n\u001b[1;32m      <a href='vscode-notebook-cell:/Users/kiliansprenkamp/Desktop/OneDrive%20-%20Universit%C3%A4t%20Z%C3%BCrich%20UZH/migrantZurich/unsupervised-migrant-telegram-analysis/reports/tweepy.ipynb#W3sZmlsZQ%3D%3D?line=3'>4</a>\u001b[0m    api_key, api_secrets, access_token, access_secret\n\u001b[1;32m      <a href='vscode-notebook-cell:/Users/kiliansprenkamp/Desktop/OneDrive%20-%20Universit%C3%A4t%20Z%C3%BCrich%20UZH/migrantZurich/unsupervised-migrant-telegram-analysis/reports/tweepy.ipynb#W3sZmlsZQ%3D%3D?line=4'>5</a>\u001b[0m )\n\u001b[1;32m      <a href='vscode-notebook-cell:/Users/kiliansprenkamp/Desktop/OneDrive%20-%20Universit%C3%A4t%20Z%C3%BCrich%20UZH/migrantZurich/unsupervised-migrant-telegram-analysis/reports/tweepy.ipynb#W3sZmlsZQ%3D%3D?line=6'>7</a>\u001b[0m api \u001b[39m=\u001b[39m tweepy\u001b[39m.\u001b[39mAPI(auth)\n\u001b[0;32m----> <a href='vscode-notebook-cell:/Users/kiliansprenkamp/Desktop/OneDrive%20-%20Universit%C3%A4t%20Z%C3%BCrich%20UZH/migrantZurich/unsupervised-migrant-telegram-analysis/reports/tweepy.ipynb#W3sZmlsZQ%3D%3D?line=8'>9</a>\u001b[0m public_tweets \u001b[39m=\u001b[39m api\u001b[39m.\u001b[39;49mhome_timeline()\n\u001b[1;32m     <a href='vscode-notebook-cell:/Users/kiliansprenkamp/Desktop/OneDrive%20-%20Universit%C3%A4t%20Z%C3%BCrich%20UZH/migrantZurich/unsupervised-migrant-telegram-analysis/reports/tweepy.ipynb#W3sZmlsZQ%3D%3D?line=9'>10</a>\u001b[0m \u001b[39mfor\u001b[39;00m tweet \u001b[39min\u001b[39;00m public_tweets:\n\u001b[1;32m     <a href='vscode-notebook-cell:/Users/kiliansprenkamp/Desktop/OneDrive%20-%20Universit%C3%A4t%20Z%C3%BCrich%20UZH/migrantZurich/unsupervised-migrant-telegram-analysis/reports/tweepy.ipynb#W3sZmlsZQ%3D%3D?line=10'>11</a>\u001b[0m     \u001b[39mprint\u001b[39m(tweet\u001b[39m.\u001b[39mtext)\n",
      "File \u001b[0;32m~/miniconda3/envs/telegram/lib/python3.9/site-packages/tweepy/api.py:33\u001b[0m, in \u001b[0;36mpagination.<locals>.decorator.<locals>.wrapper\u001b[0;34m(*args, **kwargs)\u001b[0m\n\u001b[1;32m     31\u001b[0m \u001b[39m@functools\u001b[39m\u001b[39m.\u001b[39mwraps(method)\n\u001b[1;32m     32\u001b[0m \u001b[39mdef\u001b[39;00m \u001b[39mwrapper\u001b[39m(\u001b[39m*\u001b[39margs, \u001b[39m*\u001b[39m\u001b[39m*\u001b[39mkwargs):\n\u001b[0;32m---> 33\u001b[0m     \u001b[39mreturn\u001b[39;00m method(\u001b[39m*\u001b[39;49margs, \u001b[39m*\u001b[39;49m\u001b[39m*\u001b[39;49mkwargs)\n",
      "File \u001b[0;32m~/miniconda3/envs/telegram/lib/python3.9/site-packages/tweepy/api.py:46\u001b[0m, in \u001b[0;36mpayload.<locals>.decorator.<locals>.wrapper\u001b[0;34m(*args, **kwargs)\u001b[0m\n\u001b[1;32m     44\u001b[0m kwargs[\u001b[39m'\u001b[39m\u001b[39mpayload_list\u001b[39m\u001b[39m'\u001b[39m] \u001b[39m=\u001b[39m payload_list\n\u001b[1;32m     45\u001b[0m kwargs[\u001b[39m'\u001b[39m\u001b[39mpayload_type\u001b[39m\u001b[39m'\u001b[39m] \u001b[39m=\u001b[39m payload_type\n\u001b[0;32m---> 46\u001b[0m \u001b[39mreturn\u001b[39;00m method(\u001b[39m*\u001b[39;49margs, \u001b[39m*\u001b[39;49m\u001b[39m*\u001b[39;49mkwargs)\n",
      "File \u001b[0;32m~/miniconda3/envs/telegram/lib/python3.9/site-packages/tweepy/api.py:488\u001b[0m, in \u001b[0;36mAPI.home_timeline\u001b[0;34m(self, **kwargs)\u001b[0m\n\u001b[1;32m    455\u001b[0m \u001b[39m@pagination\u001b[39m(mode\u001b[39m=\u001b[39m\u001b[39m'\u001b[39m\u001b[39mid\u001b[39m\u001b[39m'\u001b[39m)\n\u001b[1;32m    456\u001b[0m \u001b[39m@payload\u001b[39m(\u001b[39m'\u001b[39m\u001b[39mstatus\u001b[39m\u001b[39m'\u001b[39m, \u001b[39mlist\u001b[39m\u001b[39m=\u001b[39m\u001b[39mTrue\u001b[39;00m)\n\u001b[1;32m    457\u001b[0m \u001b[39mdef\u001b[39;00m \u001b[39mhome_timeline\u001b[39m(\u001b[39mself\u001b[39m, \u001b[39m*\u001b[39m\u001b[39m*\u001b[39mkwargs):\n\u001b[1;32m    458\u001b[0m     \u001b[39m\"\"\"home_timeline(*, count, since_id, max_id, trim_user, \\\u001b[39;00m\n\u001b[1;32m    459\u001b[0m \u001b[39m                     exclude_replies, include_entities)\u001b[39;00m\n\u001b[1;32m    460\u001b[0m \n\u001b[0;32m   (...)\u001b[0m\n\u001b[1;32m    486\u001b[0m \u001b[39m    https://developer.twitter.com/en/docs/twitter-api/v1/tweets/timelines/api-reference/get-statuses-home_timeline\u001b[39;00m\n\u001b[1;32m    487\u001b[0m \u001b[39m    \"\"\"\u001b[39;00m\n\u001b[0;32m--> 488\u001b[0m     \u001b[39mreturn\u001b[39;00m \u001b[39mself\u001b[39;49m\u001b[39m.\u001b[39;49mrequest(\n\u001b[1;32m    489\u001b[0m         \u001b[39m'\u001b[39;49m\u001b[39mGET\u001b[39;49m\u001b[39m'\u001b[39;49m, \u001b[39m'\u001b[39;49m\u001b[39mstatuses/home_timeline\u001b[39;49m\u001b[39m'\u001b[39;49m, endpoint_parameters\u001b[39m=\u001b[39;49m(\n\u001b[1;32m    490\u001b[0m             \u001b[39m'\u001b[39;49m\u001b[39mcount\u001b[39;49m\u001b[39m'\u001b[39;49m, \u001b[39m'\u001b[39;49m\u001b[39msince_id\u001b[39;49m\u001b[39m'\u001b[39;49m, \u001b[39m'\u001b[39;49m\u001b[39mmax_id\u001b[39;49m\u001b[39m'\u001b[39;49m, \u001b[39m'\u001b[39;49m\u001b[39mtrim_user\u001b[39;49m\u001b[39m'\u001b[39;49m, \u001b[39m'\u001b[39;49m\u001b[39mexclude_replies\u001b[39;49m\u001b[39m'\u001b[39;49m,\n\u001b[1;32m    491\u001b[0m             \u001b[39m'\u001b[39;49m\u001b[39minclude_entities\u001b[39;49m\u001b[39m'\u001b[39;49m\n\u001b[1;32m    492\u001b[0m         ), \u001b[39m*\u001b[39;49m\u001b[39m*\u001b[39;49mkwargs\n\u001b[1;32m    493\u001b[0m     )\n",
      "File \u001b[0;32m~/miniconda3/envs/telegram/lib/python3.9/site-packages/tweepy/api.py:259\u001b[0m, in \u001b[0;36mAPI.request\u001b[0;34m(self, method, endpoint, endpoint_parameters, params, headers, json_payload, parser, payload_list, payload_type, post_data, files, require_auth, return_cursors, upload_api, use_cache, **kwargs)\u001b[0m\n\u001b[1;32m    257\u001b[0m     \u001b[39mraise\u001b[39;00m Unauthorized(resp)\n\u001b[1;32m    258\u001b[0m \u001b[39mif\u001b[39;00m resp\u001b[39m.\u001b[39mstatus_code \u001b[39m==\u001b[39m \u001b[39m403\u001b[39m:\n\u001b[0;32m--> 259\u001b[0m     \u001b[39mraise\u001b[39;00m Forbidden(resp)\n\u001b[1;32m    260\u001b[0m \u001b[39mif\u001b[39;00m resp\u001b[39m.\u001b[39mstatus_code \u001b[39m==\u001b[39m \u001b[39m404\u001b[39m:\n\u001b[1;32m    261\u001b[0m     \u001b[39mraise\u001b[39;00m NotFound(resp)\n",
      "\u001b[0;31mForbidden\u001b[0m: 403 Forbidden\n453 - You currently have Essential access which includes access to Twitter API v2 endpoints only. If you need access to this endpoint, you’ll need to apply for Elevated access via the Developer Portal. You can learn more here: https://developer.twitter.com/en/docs/twitter-api/getting-started/about-twitter-api#v2-access-leve"
     ]
    }
   ],
   "source": [
    "import tweepy\n",
    "\n",
    "auth = tweepy.OAuth1UserHandler(\n",
    "   api_key, api_secrets, access_token, access_secret\n",
    ")\n",
    "\n",
    "api = tweepy.API(auth)\n",
    "\n",
    "public_tweets = api.home_timeline()\n",
    "for tweet in public_tweets:\n",
    "    print(tweet.text)"
   ]
  },
  {
   "cell_type": "code",
   "execution_count": 18,
   "metadata": {},
   "outputs": [],
   "source": [
    "import tweepy\n",
    "# your bearer token\n",
    "MY_BEARER_TOKEN = \"AAAAAAAAAAAAAAAAAAAAAPt%2BhwEAAAAAwEJHBYFqDN9Dn2Q94U919u0GCog%3DpW0wpM10iccktQBeuHeMp7TSccV9ehUVtcSaR3O18XcqLecgjp\"\n",
    "# create your client \n",
    "client = tweepy.Client(bearer_token=MY_BEARER_TOKEN)"
   ]
  },
  {
   "cell_type": "code",
   "execution_count": 20,
   "metadata": {},
   "outputs": [
    {
     "ename": "BadRequest",
     "evalue": "400 Bad Request\nInvalid 'start_time':'2022-09-29T00:00Z'. 'start_time' must be on or after 2022-09-29T12:45Z",
     "output_type": "error",
     "traceback": [
      "\u001b[0;31m---------------------------------------------------------------------------\u001b[0m",
      "\u001b[0;31mBadRequest\u001b[0m                                Traceback (most recent call last)",
      "\u001b[1;32m/Users/kiliansprenkamp/Desktop/OneDrive - Universität Zürich UZH/migrantZurich/unsupervised-migrant-telegram-analysis/reports/tweepy.ipynb Cell 6\u001b[0m in \u001b[0;36m<cell line: 9>\u001b[0;34m()\u001b[0m\n\u001b[1;32m      <a href='vscode-notebook-cell:/Users/kiliansprenkamp/Desktop/OneDrive%20-%20Universit%C3%A4t%20Z%C3%BCrich%20UZH/migrantZurich/unsupervised-migrant-telegram-analysis/reports/tweepy.ipynb#W5sZmlsZQ%3D%3D?line=5'>6</a>\u001b[0m end_time \u001b[39m=\u001b[39m \u001b[39m\"\u001b[39m\u001b[39m2022-10-06T00:00:00Z\u001b[39m\u001b[39m\"\u001b[39m\n\u001b[1;32m      <a href='vscode-notebook-cell:/Users/kiliansprenkamp/Desktop/OneDrive%20-%20Universit%C3%A4t%20Z%C3%BCrich%20UZH/migrantZurich/unsupervised-migrant-telegram-analysis/reports/tweepy.ipynb#W5sZmlsZQ%3D%3D?line=7'>8</a>\u001b[0m \u001b[39m# get tweets from the API\u001b[39;00m\n\u001b[0;32m----> <a href='vscode-notebook-cell:/Users/kiliansprenkamp/Desktop/OneDrive%20-%20Universit%C3%A4t%20Z%C3%BCrich%20UZH/migrantZurich/unsupervised-migrant-telegram-analysis/reports/tweepy.ipynb#W5sZmlsZQ%3D%3D?line=8'>9</a>\u001b[0m tweets \u001b[39m=\u001b[39m client\u001b[39m.\u001b[39;49msearch_recent_tweets(query\u001b[39m=\u001b[39;49mquery,\n\u001b[1;32m     <a href='vscode-notebook-cell:/Users/kiliansprenkamp/Desktop/OneDrive%20-%20Universit%C3%A4t%20Z%C3%BCrich%20UZH/migrantZurich/unsupervised-migrant-telegram-analysis/reports/tweepy.ipynb#W5sZmlsZQ%3D%3D?line=9'>10</a>\u001b[0m                                      start_time\u001b[39m=\u001b[39;49mstart_time,\n\u001b[1;32m     <a href='vscode-notebook-cell:/Users/kiliansprenkamp/Desktop/OneDrive%20-%20Universit%C3%A4t%20Z%C3%BCrich%20UZH/migrantZurich/unsupervised-migrant-telegram-analysis/reports/tweepy.ipynb#W5sZmlsZQ%3D%3D?line=10'>11</a>\u001b[0m                                      end_time\u001b[39m=\u001b[39;49mend_time,\n\u001b[1;32m     <a href='vscode-notebook-cell:/Users/kiliansprenkamp/Desktop/OneDrive%20-%20Universit%C3%A4t%20Z%C3%BCrich%20UZH/migrantZurich/unsupervised-migrant-telegram-analysis/reports/tweepy.ipynb#W5sZmlsZQ%3D%3D?line=11'>12</a>\u001b[0m                                      tweet_fields \u001b[39m=\u001b[39;49m [\u001b[39m\"\u001b[39;49m\u001b[39mcreated_at\u001b[39;49m\u001b[39m\"\u001b[39;49m, \u001b[39m\"\u001b[39;49m\u001b[39mtext\u001b[39;49m\u001b[39m\"\u001b[39;49m, \u001b[39m\"\u001b[39;49m\u001b[39msource\u001b[39;49m\u001b[39m\"\u001b[39;49m],\n\u001b[1;32m     <a href='vscode-notebook-cell:/Users/kiliansprenkamp/Desktop/OneDrive%20-%20Universit%C3%A4t%20Z%C3%BCrich%20UZH/migrantZurich/unsupervised-migrant-telegram-analysis/reports/tweepy.ipynb#W5sZmlsZQ%3D%3D?line=12'>13</a>\u001b[0m                                      user_fields \u001b[39m=\u001b[39;49m [\u001b[39m\"\u001b[39;49m\u001b[39mname\u001b[39;49m\u001b[39m\"\u001b[39;49m, \u001b[39m\"\u001b[39;49m\u001b[39musername\u001b[39;49m\u001b[39m\"\u001b[39;49m, \u001b[39m\"\u001b[39;49m\u001b[39mlocation\u001b[39;49m\u001b[39m\"\u001b[39;49m, \u001b[39m\"\u001b[39;49m\u001b[39mverified\u001b[39;49m\u001b[39m\"\u001b[39;49m, \u001b[39m\"\u001b[39;49m\u001b[39mdescription\u001b[39;49m\u001b[39m\"\u001b[39;49m],\n\u001b[1;32m     <a href='vscode-notebook-cell:/Users/kiliansprenkamp/Desktop/OneDrive%20-%20Universit%C3%A4t%20Z%C3%BCrich%20UZH/migrantZurich/unsupervised-migrant-telegram-analysis/reports/tweepy.ipynb#W5sZmlsZQ%3D%3D?line=13'>14</a>\u001b[0m                                      max_results \u001b[39m=\u001b[39;49m \u001b[39m10\u001b[39;49m,\n\u001b[1;32m     <a href='vscode-notebook-cell:/Users/kiliansprenkamp/Desktop/OneDrive%20-%20Universit%C3%A4t%20Z%C3%BCrich%20UZH/migrantZurich/unsupervised-migrant-telegram-analysis/reports/tweepy.ipynb#W5sZmlsZQ%3D%3D?line=14'>15</a>\u001b[0m                                      expansions\u001b[39m=\u001b[39;49m\u001b[39m'\u001b[39;49m\u001b[39mauthor_id\u001b[39;49m\u001b[39m'\u001b[39;49m\n\u001b[1;32m     <a href='vscode-notebook-cell:/Users/kiliansprenkamp/Desktop/OneDrive%20-%20Universit%C3%A4t%20Z%C3%BCrich%20UZH/migrantZurich/unsupervised-migrant-telegram-analysis/reports/tweepy.ipynb#W5sZmlsZQ%3D%3D?line=15'>16</a>\u001b[0m                                      )\n",
      "File \u001b[0;32m~/miniconda3/envs/telegram/lib/python3.9/site-packages/tweepy/client.py:1248\u001b[0m, in \u001b[0;36mClient.search_recent_tweets\u001b[0;34m(self, query, user_auth, **params)\u001b[0m\n\u001b[1;32m   1156\u001b[0m \u001b[39m\"\"\"search_recent_tweets( \\\u001b[39;00m\n\u001b[1;32m   1157\u001b[0m \u001b[39m    query, *, end_time=None, expansions=None, max_results=None, \\\u001b[39;00m\n\u001b[1;32m   1158\u001b[0m \u001b[39m    media_fields=None, next_token=None, place_fields=None, \\\u001b[39;00m\n\u001b[0;32m   (...)\u001b[0m\n\u001b[1;32m   1245\u001b[0m \u001b[39m.. _Academic Research Project: https://developer.twitter.com/en/docs/projects\u001b[39;00m\n\u001b[1;32m   1246\u001b[0m \u001b[39m\"\"\"\u001b[39;00m\n\u001b[1;32m   1247\u001b[0m params[\u001b[39m\"\u001b[39m\u001b[39mquery\u001b[39m\u001b[39m\"\u001b[39m] \u001b[39m=\u001b[39m query\n\u001b[0;32m-> 1248\u001b[0m \u001b[39mreturn\u001b[39;00m \u001b[39mself\u001b[39;49m\u001b[39m.\u001b[39;49m_make_request(\n\u001b[1;32m   1249\u001b[0m     \u001b[39m\"\u001b[39;49m\u001b[39mGET\u001b[39;49m\u001b[39m\"\u001b[39;49m, \u001b[39m\"\u001b[39;49m\u001b[39m/2/tweets/search/recent\u001b[39;49m\u001b[39m\"\u001b[39;49m, params\u001b[39m=\u001b[39;49mparams,\n\u001b[1;32m   1250\u001b[0m     endpoint_parameters\u001b[39m=\u001b[39;49m(\n\u001b[1;32m   1251\u001b[0m         \u001b[39m\"\u001b[39;49m\u001b[39mend_time\u001b[39;49m\u001b[39m\"\u001b[39;49m, \u001b[39m\"\u001b[39;49m\u001b[39mexpansions\u001b[39;49m\u001b[39m\"\u001b[39;49m, \u001b[39m\"\u001b[39;49m\u001b[39mmax_results\u001b[39;49m\u001b[39m\"\u001b[39;49m, \u001b[39m\"\u001b[39;49m\u001b[39mmedia.fields\u001b[39;49m\u001b[39m\"\u001b[39;49m,\n\u001b[1;32m   1252\u001b[0m         \u001b[39m\"\u001b[39;49m\u001b[39mnext_token\u001b[39;49m\u001b[39m\"\u001b[39;49m, \u001b[39m\"\u001b[39;49m\u001b[39mplace.fields\u001b[39;49m\u001b[39m\"\u001b[39;49m, \u001b[39m\"\u001b[39;49m\u001b[39mpoll.fields\u001b[39;49m\u001b[39m\"\u001b[39;49m, \u001b[39m\"\u001b[39;49m\u001b[39mquery\u001b[39;49m\u001b[39m\"\u001b[39;49m,\n\u001b[1;32m   1253\u001b[0m         \u001b[39m\"\u001b[39;49m\u001b[39msince_id\u001b[39;49m\u001b[39m\"\u001b[39;49m, \u001b[39m\"\u001b[39;49m\u001b[39msort_order\u001b[39;49m\u001b[39m\"\u001b[39;49m, \u001b[39m\"\u001b[39;49m\u001b[39mstart_time\u001b[39;49m\u001b[39m\"\u001b[39;49m, \u001b[39m\"\u001b[39;49m\u001b[39mtweet.fields\u001b[39;49m\u001b[39m\"\u001b[39;49m,\n\u001b[1;32m   1254\u001b[0m         \u001b[39m\"\u001b[39;49m\u001b[39muntil_id\u001b[39;49m\u001b[39m\"\u001b[39;49m, \u001b[39m\"\u001b[39;49m\u001b[39muser.fields\u001b[39;49m\u001b[39m\"\u001b[39;49m\n\u001b[1;32m   1255\u001b[0m     ), data_type\u001b[39m=\u001b[39;49mTweet, user_auth\u001b[39m=\u001b[39;49muser_auth\n\u001b[1;32m   1256\u001b[0m )\n",
      "File \u001b[0;32m~/miniconda3/envs/telegram/lib/python3.9/site-packages/tweepy/client.py:126\u001b[0m, in \u001b[0;36mBaseClient._make_request\u001b[0;34m(self, method, route, params, endpoint_parameters, json, data_type, user_auth)\u001b[0m\n\u001b[1;32m    122\u001b[0m \u001b[39mdef\u001b[39;00m \u001b[39m_make_request\u001b[39m(\u001b[39mself\u001b[39m, method, route, params\u001b[39m=\u001b[39m{}, endpoint_parameters\u001b[39m=\u001b[39m\u001b[39mNone\u001b[39;00m,\n\u001b[1;32m    123\u001b[0m                   json\u001b[39m=\u001b[39m\u001b[39mNone\u001b[39;00m, data_type\u001b[39m=\u001b[39m\u001b[39mNone\u001b[39;00m, user_auth\u001b[39m=\u001b[39m\u001b[39mFalse\u001b[39;00m):\n\u001b[1;32m    124\u001b[0m     request_params \u001b[39m=\u001b[39m \u001b[39mself\u001b[39m\u001b[39m.\u001b[39m_process_params(params, endpoint_parameters)\n\u001b[0;32m--> 126\u001b[0m     response \u001b[39m=\u001b[39m \u001b[39mself\u001b[39;49m\u001b[39m.\u001b[39;49mrequest(method, route, params\u001b[39m=\u001b[39;49mrequest_params,\n\u001b[1;32m    127\u001b[0m                             json\u001b[39m=\u001b[39;49mjson, user_auth\u001b[39m=\u001b[39;49muser_auth)\n\u001b[1;32m    129\u001b[0m     \u001b[39mif\u001b[39;00m \u001b[39mself\u001b[39m\u001b[39m.\u001b[39mreturn_type \u001b[39mis\u001b[39;00m requests\u001b[39m.\u001b[39mResponse:\n\u001b[1;32m    130\u001b[0m         \u001b[39mreturn\u001b[39;00m response\n",
      "File \u001b[0;32m~/miniconda3/envs/telegram/lib/python3.9/site-packages/tweepy/client.py:95\u001b[0m, in \u001b[0;36mBaseClient.request\u001b[0;34m(self, method, route, params, json, user_auth)\u001b[0m\n\u001b[1;32m     87\u001b[0m log\u001b[39m.\u001b[39mdebug(\n\u001b[1;32m     88\u001b[0m     \u001b[39m\"\u001b[39m\u001b[39mReceived API response: \u001b[39m\u001b[39m\"\u001b[39m\n\u001b[1;32m     89\u001b[0m     \u001b[39mf\u001b[39m\u001b[39m\"\u001b[39m\u001b[39m{\u001b[39;00mresponse\u001b[39m.\u001b[39mstatus_code\u001b[39m}\u001b[39;00m\u001b[39m \u001b[39m\u001b[39m{\u001b[39;00mresponse\u001b[39m.\u001b[39mreason\u001b[39m}\u001b[39;00m\u001b[39m\\n\u001b[39;00m\u001b[39m\"\u001b[39m\n\u001b[1;32m     90\u001b[0m     \u001b[39mf\u001b[39m\u001b[39m\"\u001b[39m\u001b[39mHeaders: \u001b[39m\u001b[39m{\u001b[39;00mresponse\u001b[39m.\u001b[39mheaders\u001b[39m}\u001b[39;00m\u001b[39m\\n\u001b[39;00m\u001b[39m\"\u001b[39m\n\u001b[1;32m     91\u001b[0m     \u001b[39mf\u001b[39m\u001b[39m\"\u001b[39m\u001b[39mContent: \u001b[39m\u001b[39m{\u001b[39;00mresponse\u001b[39m.\u001b[39mcontent\u001b[39m}\u001b[39;00m\u001b[39m\"\u001b[39m\n\u001b[1;32m     92\u001b[0m )\n\u001b[1;32m     94\u001b[0m \u001b[39mif\u001b[39;00m response\u001b[39m.\u001b[39mstatus_code \u001b[39m==\u001b[39m \u001b[39m400\u001b[39m:\n\u001b[0;32m---> 95\u001b[0m     \u001b[39mraise\u001b[39;00m BadRequest(response)\n\u001b[1;32m     96\u001b[0m \u001b[39mif\u001b[39;00m response\u001b[39m.\u001b[39mstatus_code \u001b[39m==\u001b[39m \u001b[39m401\u001b[39m:\n\u001b[1;32m     97\u001b[0m     \u001b[39mraise\u001b[39;00m Unauthorized(response)\n",
      "\u001b[0;31mBadRequest\u001b[0m: 400 Bad Request\nInvalid 'start_time':'2022-09-29T00:00Z'. 'start_time' must be on or after 2022-09-29T12:45Z"
     ]
    }
   ],
   "source": [
    "# query to search for tweets\n",
    "query = \"#covid19 lang:en -is:retweet\"\n",
    "\n",
    "# your start and end time for fetching tweets\n",
    "start_time = \"2022-09-29T00:00:00Z\"\n",
    "end_time = \"2022-10-06T00:00:00Z\"\n",
    "\n",
    "# get tweets from the API\n",
    "tweets = client.search_recent_tweets(query=query,\n",
    "                                     start_time=start_time,\n",
    "                                     end_time=end_time,\n",
    "                                     tweet_fields = [\"created_at\", \"text\", \"source\"],\n",
    "                                     user_fields = [\"name\", \"username\", \"location\", \"verified\", \"description\"],\n",
    "                                     max_results = 10,\n",
    "                                     expansions='author_id'\n",
    "                                     )"
   ]
  },
  {
   "cell_type": "code",
   "execution_count": 17,
   "metadata": {},
   "outputs": [
    {
     "data": {
      "text/plain": [
       "Response(data=[<Tweet id=1577810656765566978 text='The latest Diario de Mesa! https://t.co/qSr78KY3RC Thanks to @ACTINOSProject @ishaantharoor @Peter_Grinspoon #cannabis #covid19'>, <Tweet id=1577810654844665856 text='The famous are dropping like flies\\nYou blink and another one dies\\nIt\\'s more than a trend\\nA sign of the end\\nAnd \"\"science\"\" will be our demise!\\n\\n#GreatReset #Covid19 #WWWIII #GlobalistTotalitarians\\n\\nhttps://t.co/7aSoWNdrs6'>, <Tweet id=1577810562733441024 text='The latest Random Musing of a Doctor! https://t.co/QVHxT7yWFx Thanks to @LSHTM @AdrianHolme #covid19 #covidinquiry'>, <Tweet id=1577810103407108096 text='My podcast for reliable information about #COVID19. @normanswan disagrees with ending mandatory isolation, along with many other health experts. So @PKelly_CBR made decision on his own. Prediction is disaster when virus mutates &amp; next wave hits.  https://t.co/Xb6Zpc5BOe'>, <Tweet id=1577809964118278145 text=\"So IF #Carbon #Tax can fix #Climate Change, why didn't we do a #COVID19 Tax? oh shit, forget i said that, I hope #Trudeau or #Biden doesn't read this! 🤣 https://t.co/c0Y6dYqYKt\">, <Tweet id=1577809695116492800 text=\"@Pilates4BC My guess is part-#COVID19 effect and part-staff shortages. But it's hard on the younger ones who just want to feel better and return to normal life; time, when you're sick, is painstakingly long.\">, <Tweet id=1577809576757694464 text='Is Canada in for another \\nwinter wave of COVID-19?\\n@PeterLinMD @CBCStephenQuinn\\n\\nHold your breath while you hug GrandMa???\\nExcellent piece, but sadly sullied by the summary at the end.\\n\\n#Covid19 #PeterLin #Winter2022 #Commentary \\n\\nhttps://t.co/gCxEeyMZzD\\n\\nhttps://t.co/2w4eL5nbWX'>, <Tweet id=1577809575620870145 text='NEXT at 8 pm ET on #TheIncrementalist News You Can Use w/ @drnic1 &amp; Dr. @CraigJoseph: the Lancets Commission report on the worldwide response to #COVID19, the @CVSHealth purchase of Signify health, the return of housecalls by doctors and more. #healthcare https://t.co/d5c2Lp5CAE https://t.co/H7jyT2eEkT'>, <Tweet id=1577809527533191170 text=\"Here's what I'm telling friends...\\n\\n🔥 There is #covid19 EVERYWHERE!\\n \\n⚠️ Even MILD infections have potential to give you #LongCovid\\n\\n😬 New Omicron subvariants have EVOLVED\\n\\n🤯 OLD vaccine doesn't work well against their NEW SPIKE SHAPE\\n\\n🛡️ Update your DEFENSES w/ NEW booster!\">, <Tweet id=1577809359454732288 text='What we know about the new Covid-19 variant. (World Economic Forum) #CoronaVirus #COVIDー19 #COVID19 #CoronaVirusOutbreak #CoronaVirusPandemic https://t.co/aSx86XPwgU'>], includes={'users': [<User id=164839420 name=Luis Mesa username=mesaluis>, <User id=413344125 name=Limerick King: End Times Poet username=TheLimerickKing>, <User id=336095418 name=Ojia F username=DrSweetness1>, <User id=4020997153 name=Amelia Kerr 💉💉💉 username=ameliakerr17>, <User id=1267156557550235650 name=American K9 username=smallharddog1>, <User id=308646618 name=Susan H. Lin, ScD, OTR/L, FAOTA, FACRM username=SusanLinOT>, <User id=1442190500702818304 name=Zoomers of the Sunshine Coast, BC username=SCZoomers>, <User id=758004846 name=HealthcareNOWradio username=HCNowRadio>, <User id=16851144 name=Peter Bowden 😃 username=PeterBowdenLive>, <User id=15221598 name=James Gingerich, @Expeflow #WorkEasier #RPA username=jamesvgingerich>]}, errors=[], meta={'newest_id': '1577810656765566978', 'oldest_id': '1577809359454732288', 'result_count': 10, 'next_token': 'b26v89c19zqg8o3fpzbmmesdi4zugref6kkr0wkwbc0hp'})"
      ]
     },
     "execution_count": 17,
     "metadata": {},
     "output_type": "execute_result"
    }
   ],
   "source": [
    "tweets"
   ]
  },
  {
   "cell_type": "code",
   "execution_count": 3,
   "metadata": {},
   "outputs": [],
   "source": [
    "# importing libraries and packages\n",
    "import snscrape.modules.twitter as sntwitter\n",
    "import pandas as pd\n",
    "\n",
    "# Creating list to append tweet data \n",
    "tweets_list1 = []\n",
    "\n",
    "# Using TwitterSearchScraper to scrape data and append tweets to list\n",
    "for i,tweet in enumerate(sntwitter.TwitterSearchScraper('Ukraine near:\"Switzerland\"').get_items()): #declare a username \n",
    "    if i>1000: #number of tweets you want to scrape\n",
    "        break\n",
    "    tweets_list1.append([tweet.date, tweet.id, tweet.content, tweet.user.username]) #declare the attributes to be returned\n",
    "    \n",
    "# Creating a dataframe from the tweets list above \n",
    "tweets_df1 = pd.DataFrame(tweets_list1, columns=['Datetime', 'Tweet Id', 'Text', 'Username'])"
   ]
  },
  {
   "cell_type": "code",
   "execution_count": 6,
   "metadata": {},
   "outputs": [
    {
     "data": {
      "text/plain": [
       "'@elonmusk @LindseyGrahamSC Even IF a majority in some Ukrainian regions prefer to join Russia (which I think isn’t true), is this justifying the Russian attack on Ukraine and even denying the right to exist? Listen to latest speeches of Putin. You complete miss the bigger picture behind all of his actions.'"
      ]
     },
     "execution_count": 6,
     "metadata": {},
     "output_type": "execute_result"
    }
   ],
   "source": [
    "tweets_df1.loc[4].Text"
   ]
  },
  {
   "cell_type": "code",
   "execution_count": 7,
   "metadata": {},
   "outputs": [
    {
     "data": {
      "text/plain": [
       "Tweet(url='https://twitter.com/diane_keniston/status/1033895180552814597', date=datetime.datetime(2018, 8, 27, 1, 53, 14, tzinfo=datetime.timezone.utc), content='@MSNBC @cnnbrk Why aren’t you covering Joe Biden’s son Hunter traveling on AF2 along w his dad while VP &amp; making BILLIONS from shady deals in Ukraine, China etc! Dem crime like Clinton &amp; up the chain goes in checked! Where’s the Justice?!', renderedContent='@MSNBC @cnnbrk Why aren’t you covering Joe Biden’s son Hunter traveling on AF2 along w his dad while VP &amp; making BILLIONS from shady deals in Ukraine, China etc! Dem crime like Clinton &amp; up the chain goes in checked! Where’s the Justice?!', id=1033895180552814597, user=User(username='diane_keniston', id=2229651353, displayname='Diane Keniston', description='Patriotic, GSW/ Vietnam Love family, friends, music football & animals. Native Floridian. Now live in Clarksville TN', rawDescription='Patriotic, GSW/ Vietnam Love family, friends, music football & animals. Native Floridian. Now live in Clarksville TN', descriptionUrls=None, verified=False, created=datetime.datetime(2013, 12, 17, 5, 7, 45, tzinfo=datetime.timezone.utc), followersCount=1126, friendsCount=1883, statusesCount=16830, favouritesCount=8939, listedCount=6, mediaCount=290, location='Clarksville, TN', protected=False, linkUrl=None, linkTcourl=None, profileImageUrl='https://pbs.twimg.com/profile_images/413508939700248577/VQRh0OcM_normal.jpeg', profileBannerUrl=None, label=None), replyCount=0, retweetCount=0, likeCount=0, quoteCount=0, conversationId=1033895180552814597, lang='en', source='<a href=\"http://twitter.com/download/iphone\" rel=\"nofollow\">Twitter for iPhone</a>', sourceUrl='http://twitter.com/download/iphone', sourceLabel='Twitter for iPhone', outlinks=None, tcooutlinks=None, media=None, retweetedTweet=None, quotedTweet=None, inReplyToTweetId=None, inReplyToUser=None, mentionedUsers=[User(username='MSNBC', id=2836421, displayname='MSNBC', description=None, rawDescription=None, descriptionUrls=None, verified=None, created=None, followersCount=None, friendsCount=None, statusesCount=None, favouritesCount=None, listedCount=None, mediaCount=None, location=None, protected=None, linkUrl=None, linkTcourl=None, profileImageUrl=None, profileBannerUrl=None, label=None), User(username='cnnbrk', id=428333, displayname='CNN Breaking News', description=None, rawDescription=None, descriptionUrls=None, verified=None, created=None, followersCount=None, friendsCount=None, statusesCount=None, favouritesCount=None, listedCount=None, mediaCount=None, location=None, protected=None, linkUrl=None, linkTcourl=None, profileImageUrl=None, profileBannerUrl=None, label=None)], coordinates=Coordinates(longitude=-81.748593, latitude=30.041009), place=Place(fullName='Fleming Island, FL', name='Fleming Island', type='city', country='United States', countryCode='US'), hashtags=None, cashtags=None)"
      ]
     },
     "execution_count": 7,
     "metadata": {},
     "output_type": "execute_result"
    }
   ],
   "source": [
    "tweet"
   ]
  },
  {
   "cell_type": "code",
   "execution_count": null,
   "metadata": {},
   "outputs": [],
   "source": []
  }
 ],
 "metadata": {
  "kernelspec": {
   "display_name": "Python 3.9.13 ('telegram')",
   "language": "python",
   "name": "python3"
  },
  "language_info": {
   "codemirror_mode": {
    "name": "ipython",
    "version": 3
   },
   "file_extension": ".py",
   "mimetype": "text/x-python",
   "name": "python",
   "nbconvert_exporter": "python",
   "pygments_lexer": "ipython3",
   "version": "3.9.13"
  },
  "orig_nbformat": 4,
  "vscode": {
   "interpreter": {
    "hash": "d2386c381fab908a4e48f3c5849d193fc799b9f792c037a48abb7a588aa93a14"
   }
  }
 },
 "nbformat": 4,
 "nbformat_minor": 2
}
