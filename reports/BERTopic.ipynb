{
 "cells": [
  {
   "cell_type": "code",
   "execution_count": 1,
   "metadata": {},
   "outputs": [],
   "source": [
    "import os\n",
    "import argparse\n",
    "from bertopic import BERTopic\n",
    "from nltk.corpus import stopwords\n",
    "from sklearn.feature_extraction.text import CountVectorizer\n",
    "import pandas as pd\n",
    "import numpy as np"
   ]
  },
  {
   "cell_type": "code",
   "execution_count": 17,
   "metadata": {},
   "outputs": [],
   "source": [
    "def read_data(input_file):\n",
    "    with open(input_file) as file:\n",
    "        lines = file.readlines()\n",
    "        text_to_analyse_list = [line.rstrip() for line in lines]\n",
    "    return text_to_analyse_list"
   ]
  },
  {
   "cell_type": "code",
   "execution_count": 18,
   "metadata": {},
   "outputs": [],
   "source": [
    "data = read_data(\"../data/BERTopicInput.csv\")"
   ]
  },
  {
   "cell_type": "code",
   "execution_count": 19,
   "metadata": {},
   "outputs": [
    {
     "data": {
      "application/vnd.jupyter.widget-view+json": {
       "model_id": "c2d34a225282403eba6b16bf8577c20f",
       "version_major": 2,
       "version_minor": 0
      },
      "text/plain": [
       "Batches:   0%|          | 0/9287 [00:00<?, ?it/s]"
      ]
     },
     "metadata": {},
     "output_type": "display_data"
    },
    {
     "name": "stderr",
     "output_type": "stream",
     "text": [
      "2022-09-16 17:39:19,988 - BERTopic - Transformed documents to Embeddings\n",
      "OMP: Info #276: omp_set_nested routine deprecated, please use omp_set_max_active_levels instead.\n",
      "2022-09-16 17:42:25,477 - BERTopic - Reduced dimensionality\n"
     ]
    },
    {
     "name": "stdout",
     "output_type": "stream",
     "text": [
      "huggingface/tokenizers: The current process just got forked, after parallelism has already been used. Disabling parallelism to avoid deadlocks...\n",
      "To disable this warning, you can either:\n",
      "\t- Avoid using `tokenizers` before the fork if possible\n",
      "\t- Explicitly set the environment variable TOKENIZERS_PARALLELISM=(true | false)\n",
      "huggingface/tokenizers: The current process just got forked, after parallelism has already been used. Disabling parallelism to avoid deadlocks...\n",
      "To disable this warning, you can either:\n",
      "\t- Avoid using `tokenizers` before the fork if possible\n",
      "\t- Explicitly set the environment variable TOKENIZERS_PARALLELISM=(true | false)\n",
      "huggingface/tokenizers: The current process just got forked, after parallelism has already been used. Disabling parallelism to avoid deadlocks...\n",
      "To disable this warning, you can either:\n",
      "\t- Avoid using `tokenizers` before the fork if possible\n",
      "\t- Explicitly set the environment variable TOKENIZERS_PARALLELISM=(true | false)\n",
      "huggingface/tokenizers: The current process just got forked, after parallelism has already been used. Disabling parallelism to avoid deadlocks...\n",
      "To disable this warning, you can either:\n",
      "\t- Avoid using `tokenizers` before the fork if possible\n",
      "\t- Explicitly set the environment variable TOKENIZERS_PARALLELISM=(true | false)\n",
      "huggingface/tokenizers: The current process just got forked, after parallelism has already been used. Disabling parallelism to avoid deadlocks...\n",
      "To disable this warning, you can either:\n",
      "\t- Avoid using `tokenizers` before the fork if possible\n",
      "\t- Explicitly set the environment variable TOKENIZERS_PARALLELISM=(true | false)\n"
     ]
    },
    {
     "name": "stderr",
     "output_type": "stream",
     "text": [
      "2022-09-16 17:42:48,170 - BERTopic - Clustered reduced embeddings\n",
      "2022-09-16 17:44:54,904 - BERTopic - Reduced number of topics from 2461 to 31\n"
     ]
    }
   ],
   "source": [
    "model = BERTopic(verbose=True, language=\"multilingual\", nr_topics=30) # vectorizer_model=vectorizer_model)#, nr_topics=20)\n",
    "topics, probs = model.fit_transform(data)"
   ]
  },
  {
   "cell_type": "code",
   "execution_count": 20,
   "metadata": {},
   "outputs": [
    {
     "data": {
      "application/vnd.plotly.v1+json": {
       "config": {
        "plotlyServerURL": "https://plot.ly"
       },
       "data": [
        {
         "customdata": [
          [
           0,
           "страховка | не | страховку | что | если",
           8281
          ],
          [
           1,
           "беженцев | не | для | что | на",
           5754
          ],
          [
           2,
           "спасибо | информацию | за | информация | інформацію",
           4142
          ],
          [
           3,
           "україна | швейцарія | украину | из | кто",
           3692
          ],
          [
           4,
           "спасибо | дякую | поняла | ок | большое",
           3430
          ],
          [
           5,
           "для | та | школу | заняття | до",
           3243
          ],
          [
           6,
           "https | me | www | com | ch",
           3220
          ],
          [
           7,
           "да | так | конечно | согласна | me",
           3208
          ],
          [
           8,
           "поезд | до | поезда | на | поезде",
           3206
          ],
          [
           9,
           "swissua | закріпленими | інформаційною | ознайомтеся | сторінкою",
           3116
          ],
          [
           10,
           "банке | банк | франки | карту | банка",
           2675
          ],
          [
           11,
           "соц | помощь | не | социальной | youtu",
           2539
          ],
          [
           12,
           "билет | билеты | на | halbtax | zvv",
           2509
          ],
          [
           13,
           "goo | gl | maps | user | волонтеры",
           2506
          ],
          [
           14,
           "паспорт | паспорта | паспорту | паспортом | загран",
           2505
          ],
          [
           15,
           "языка | на | та | роботи | немецкий",
           2362
          ],
          [
           16,
           "дякую | дуже | спасибо | благодарю | щиро",
           2356
          ],
          [
           17,
           "жилья | квартиру | жилье | жильё | сайты",
           2172
          ],
          [
           18,
           "d0 | d1 | https | для | b0",
           2115
          ],
          [
           19,
           "большое | спасибо | огромное | дякую | вам",
           2089
          ],
          [
           20,
           "мне | личку | пожалуйста | напишите | мені",
           1888
          ],
          [
           21,
           "йога | 00 | 06 | instagram | https",
           1808
          ],
          [
           22,
           "благодарю | ответ | спасибо | за | дякую",
           1798
          ],
          [
           23,
           "добавьте | пожалуйста | группу | меня | лугано",
           1767
          ],
          [
           24,
           "женеве | женеві | женева | женевы | женеву",
           1761
          ],
          [
           25,
           "франков | месяц | на | франків | 100",
           1709
          ],
          [
           26,
           "вокзале | на | вокзала | вокзал | полицию",
           1705
          ],
          [
           27,
           "to | group | the | for | and",
           1701
          ],
          [
           28,
           "курсы | немецкого | языка | французского | курси",
           1514
          ],
          [
           29,
           "интересует | интересно | тоже | цікавить | та",
           1507
          ]
         ],
         "hovertemplate": "<b>Topic %{customdata[0]}</b><br>Words: %{customdata[1]}<br>Size: %{customdata[2]}",
         "legendgroup": "",
         "marker": {
          "color": "#B0BEC5",
          "line": {
           "color": "DarkSlateGrey",
           "width": 2
          },
          "size": [
           8281,
           5754,
           4142,
           3692,
           3430,
           3243,
           3220,
           3208,
           3206,
           3116,
           2675,
           2539,
           2509,
           2506,
           2505,
           2362,
           2356,
           2172,
           2115,
           2089,
           1888,
           1808,
           1798,
           1767,
           1761,
           1709,
           1705,
           1701,
           1514,
           1507
          ],
          "sizemode": "area",
          "sizeref": 5.175625,
          "symbol": "circle"
         },
         "mode": "markers",
         "name": "",
         "orientation": "v",
         "showlegend": false,
         "type": "scatter",
         "x": [
          9.071352005004883,
          9.370488166809082,
          -5.339184761047363,
          -0.26161453127861023,
          -5.541436672210693,
          -1.2841191291809082,
          0.5818749070167542,
          -5.447937488555908,
          -0.03842907398939133,
          10.700640678405762,
          10.195009231567383,
          10.081385612487793,
          0.34016135334968567,
          11.885642051696777,
          -0.3089761435985565,
          -1.0207651853561401,
          -5.892516136169434,
          10.928778648376465,
          0.6638659834861755,
          -5.75355863571167,
          -4.767351150512695,
          -1.2942190170288086,
          -1.7426154613494873,
          11.673271179199219,
          11.578389167785645,
          9.999674797058105,
          11.735051155090332,
          8.998564720153809,
          -1.6405565738677979,
          -4.540733337402344
         ],
         "xaxis": "x",
         "y": [
          9.593603134155273,
          9.981831550598145,
          9.075312614440918,
          3.082434892654419,
          9.001729965209961,
          -4.636033058166504,
          3.6855080127716064,
          8.850279808044434,
          3.264025926589966,
          9.454641342163086,
          9.447877883911133,
          9.894298553466797,
          3.500352382659912,
          10.4589262008667,
          2.993248701095581,
          -4.375245571136475,
          8.144129753112793,
          9.790346145629883,
          3.780864953994751,
          8.379007339477539,
          9.033904075622559,
          -4.6234235763549805,
          -5.1974029541015625,
          9.775323867797852,
          9.925512313842773,
          9.881669044494629,
          10.28014087677002,
          10.099944114685059,
          -5.091546535491943,
          9.146259307861328
         ],
         "yaxis": "y"
        }
       ],
       "layout": {
        "annotations": [
         {
          "showarrow": false,
          "text": "D1",
          "x": -6.776393556594849,
          "y": 3.0253758668899535,
          "yshift": 10
         },
         {
          "showarrow": false,
          "text": "D2",
          "x": 3.4460474014282223,
          "xshift": 10,
          "y": 12.027765130996704
         }
        ],
        "height": 650,
        "hoverlabel": {
         "bgcolor": "white",
         "font": {
          "family": "Rockwell",
          "size": 16
         }
        },
        "legend": {
         "itemsizing": "constant",
         "tracegroupgap": 0
        },
        "margin": {
         "t": 60
        },
        "shapes": [
         {
          "line": {
           "color": "#CFD8DC",
           "width": 2
          },
          "type": "line",
          "x0": 3.4460474014282223,
          "x1": 3.4460474014282223,
          "y0": -5.977013397216797,
          "y1": 12.027765130996704
         },
         {
          "line": {
           "color": "#9E9E9E",
           "width": 2
          },
          "type": "line",
          "x0": -6.776393556594849,
          "x1": 13.668488359451294,
          "y0": 3.0253758668899535,
          "y1": 3.0253758668899535
         }
        ],
        "sliders": [
         {
          "active": 0,
          "pad": {
           "t": 50
          },
          "steps": [
           {
            "args": [
             {
              "marker.color": [
               [
                "red",
                "#B0BEC5",
                "#B0BEC5",
                "#B0BEC5",
                "#B0BEC5",
                "#B0BEC5",
                "#B0BEC5",
                "#B0BEC5",
                "#B0BEC5",
                "#B0BEC5",
                "#B0BEC5",
                "#B0BEC5",
                "#B0BEC5",
                "#B0BEC5",
                "#B0BEC5",
                "#B0BEC5",
                "#B0BEC5",
                "#B0BEC5",
                "#B0BEC5",
                "#B0BEC5",
                "#B0BEC5",
                "#B0BEC5",
                "#B0BEC5",
                "#B0BEC5",
                "#B0BEC5",
                "#B0BEC5",
                "#B0BEC5",
                "#B0BEC5",
                "#B0BEC5",
                "#B0BEC5"
               ]
              ]
             }
            ],
            "label": "Topic 0",
            "method": "update"
           },
           {
            "args": [
             {
              "marker.color": [
               [
                "#B0BEC5",
                "red",
                "#B0BEC5",
                "#B0BEC5",
                "#B0BEC5",
                "#B0BEC5",
                "#B0BEC5",
                "#B0BEC5",
                "#B0BEC5",
                "#B0BEC5",
                "#B0BEC5",
                "#B0BEC5",
                "#B0BEC5",
                "#B0BEC5",
                "#B0BEC5",
                "#B0BEC5",
                "#B0BEC5",
                "#B0BEC5",
                "#B0BEC5",
                "#B0BEC5",
                "#B0BEC5",
                "#B0BEC5",
                "#B0BEC5",
                "#B0BEC5",
                "#B0BEC5",
                "#B0BEC5",
                "#B0BEC5",
                "#B0BEC5",
                "#B0BEC5",
                "#B0BEC5"
               ]
              ]
             }
            ],
            "label": "Topic 1",
            "method": "update"
           },
           {
            "args": [
             {
              "marker.color": [
               [
                "#B0BEC5",
                "#B0BEC5",
                "red",
                "#B0BEC5",
                "#B0BEC5",
                "#B0BEC5",
                "#B0BEC5",
                "#B0BEC5",
                "#B0BEC5",
                "#B0BEC5",
                "#B0BEC5",
                "#B0BEC5",
                "#B0BEC5",
                "#B0BEC5",
                "#B0BEC5",
                "#B0BEC5",
                "#B0BEC5",
                "#B0BEC5",
                "#B0BEC5",
                "#B0BEC5",
                "#B0BEC5",
                "#B0BEC5",
                "#B0BEC5",
                "#B0BEC5",
                "#B0BEC5",
                "#B0BEC5",
                "#B0BEC5",
                "#B0BEC5",
                "#B0BEC5",
                "#B0BEC5"
               ]
              ]
             }
            ],
            "label": "Topic 2",
            "method": "update"
           },
           {
            "args": [
             {
              "marker.color": [
               [
                "#B0BEC5",
                "#B0BEC5",
                "#B0BEC5",
                "red",
                "#B0BEC5",
                "#B0BEC5",
                "#B0BEC5",
                "#B0BEC5",
                "#B0BEC5",
                "#B0BEC5",
                "#B0BEC5",
                "#B0BEC5",
                "#B0BEC5",
                "#B0BEC5",
                "#B0BEC5",
                "#B0BEC5",
                "#B0BEC5",
                "#B0BEC5",
                "#B0BEC5",
                "#B0BEC5",
                "#B0BEC5",
                "#B0BEC5",
                "#B0BEC5",
                "#B0BEC5",
                "#B0BEC5",
                "#B0BEC5",
                "#B0BEC5",
                "#B0BEC5",
                "#B0BEC5",
                "#B0BEC5"
               ]
              ]
             }
            ],
            "label": "Topic 3",
            "method": "update"
           },
           {
            "args": [
             {
              "marker.color": [
               [
                "#B0BEC5",
                "#B0BEC5",
                "#B0BEC5",
                "#B0BEC5",
                "red",
                "#B0BEC5",
                "#B0BEC5",
                "#B0BEC5",
                "#B0BEC5",
                "#B0BEC5",
                "#B0BEC5",
                "#B0BEC5",
                "#B0BEC5",
                "#B0BEC5",
                "#B0BEC5",
                "#B0BEC5",
                "#B0BEC5",
                "#B0BEC5",
                "#B0BEC5",
                "#B0BEC5",
                "#B0BEC5",
                "#B0BEC5",
                "#B0BEC5",
                "#B0BEC5",
                "#B0BEC5",
                "#B0BEC5",
                "#B0BEC5",
                "#B0BEC5",
                "#B0BEC5",
                "#B0BEC5"
               ]
              ]
             }
            ],
            "label": "Topic 4",
            "method": "update"
           },
           {
            "args": [
             {
              "marker.color": [
               [
                "#B0BEC5",
                "#B0BEC5",
                "#B0BEC5",
                "#B0BEC5",
                "#B0BEC5",
                "red",
                "#B0BEC5",
                "#B0BEC5",
                "#B0BEC5",
                "#B0BEC5",
                "#B0BEC5",
                "#B0BEC5",
                "#B0BEC5",
                "#B0BEC5",
                "#B0BEC5",
                "#B0BEC5",
                "#B0BEC5",
                "#B0BEC5",
                "#B0BEC5",
                "#B0BEC5",
                "#B0BEC5",
                "#B0BEC5",
                "#B0BEC5",
                "#B0BEC5",
                "#B0BEC5",
                "#B0BEC5",
                "#B0BEC5",
                "#B0BEC5",
                "#B0BEC5",
                "#B0BEC5"
               ]
              ]
             }
            ],
            "label": "Topic 5",
            "method": "update"
           },
           {
            "args": [
             {
              "marker.color": [
               [
                "#B0BEC5",
                "#B0BEC5",
                "#B0BEC5",
                "#B0BEC5",
                "#B0BEC5",
                "#B0BEC5",
                "red",
                "#B0BEC5",
                "#B0BEC5",
                "#B0BEC5",
                "#B0BEC5",
                "#B0BEC5",
                "#B0BEC5",
                "#B0BEC5",
                "#B0BEC5",
                "#B0BEC5",
                "#B0BEC5",
                "#B0BEC5",
                "#B0BEC5",
                "#B0BEC5",
                "#B0BEC5",
                "#B0BEC5",
                "#B0BEC5",
                "#B0BEC5",
                "#B0BEC5",
                "#B0BEC5",
                "#B0BEC5",
                "#B0BEC5",
                "#B0BEC5",
                "#B0BEC5"
               ]
              ]
             }
            ],
            "label": "Topic 6",
            "method": "update"
           },
           {
            "args": [
             {
              "marker.color": [
               [
                "#B0BEC5",
                "#B0BEC5",
                "#B0BEC5",
                "#B0BEC5",
                "#B0BEC5",
                "#B0BEC5",
                "#B0BEC5",
                "red",
                "#B0BEC5",
                "#B0BEC5",
                "#B0BEC5",
                "#B0BEC5",
                "#B0BEC5",
                "#B0BEC5",
                "#B0BEC5",
                "#B0BEC5",
                "#B0BEC5",
                "#B0BEC5",
                "#B0BEC5",
                "#B0BEC5",
                "#B0BEC5",
                "#B0BEC5",
                "#B0BEC5",
                "#B0BEC5",
                "#B0BEC5",
                "#B0BEC5",
                "#B0BEC5",
                "#B0BEC5",
                "#B0BEC5",
                "#B0BEC5"
               ]
              ]
             }
            ],
            "label": "Topic 7",
            "method": "update"
           },
           {
            "args": [
             {
              "marker.color": [
               [
                "#B0BEC5",
                "#B0BEC5",
                "#B0BEC5",
                "#B0BEC5",
                "#B0BEC5",
                "#B0BEC5",
                "#B0BEC5",
                "#B0BEC5",
                "red",
                "#B0BEC5",
                "#B0BEC5",
                "#B0BEC5",
                "#B0BEC5",
                "#B0BEC5",
                "#B0BEC5",
                "#B0BEC5",
                "#B0BEC5",
                "#B0BEC5",
                "#B0BEC5",
                "#B0BEC5",
                "#B0BEC5",
                "#B0BEC5",
                "#B0BEC5",
                "#B0BEC5",
                "#B0BEC5",
                "#B0BEC5",
                "#B0BEC5",
                "#B0BEC5",
                "#B0BEC5",
                "#B0BEC5"
               ]
              ]
             }
            ],
            "label": "Topic 8",
            "method": "update"
           },
           {
            "args": [
             {
              "marker.color": [
               [
                "#B0BEC5",
                "#B0BEC5",
                "#B0BEC5",
                "#B0BEC5",
                "#B0BEC5",
                "#B0BEC5",
                "#B0BEC5",
                "#B0BEC5",
                "#B0BEC5",
                "red",
                "#B0BEC5",
                "#B0BEC5",
                "#B0BEC5",
                "#B0BEC5",
                "#B0BEC5",
                "#B0BEC5",
                "#B0BEC5",
                "#B0BEC5",
                "#B0BEC5",
                "#B0BEC5",
                "#B0BEC5",
                "#B0BEC5",
                "#B0BEC5",
                "#B0BEC5",
                "#B0BEC5",
                "#B0BEC5",
                "#B0BEC5",
                "#B0BEC5",
                "#B0BEC5",
                "#B0BEC5"
               ]
              ]
             }
            ],
            "label": "Topic 9",
            "method": "update"
           },
           {
            "args": [
             {
              "marker.color": [
               [
                "#B0BEC5",
                "#B0BEC5",
                "#B0BEC5",
                "#B0BEC5",
                "#B0BEC5",
                "#B0BEC5",
                "#B0BEC5",
                "#B0BEC5",
                "#B0BEC5",
                "#B0BEC5",
                "red",
                "#B0BEC5",
                "#B0BEC5",
                "#B0BEC5",
                "#B0BEC5",
                "#B0BEC5",
                "#B0BEC5",
                "#B0BEC5",
                "#B0BEC5",
                "#B0BEC5",
                "#B0BEC5",
                "#B0BEC5",
                "#B0BEC5",
                "#B0BEC5",
                "#B0BEC5",
                "#B0BEC5",
                "#B0BEC5",
                "#B0BEC5",
                "#B0BEC5",
                "#B0BEC5"
               ]
              ]
             }
            ],
            "label": "Topic 10",
            "method": "update"
           },
           {
            "args": [
             {
              "marker.color": [
               [
                "#B0BEC5",
                "#B0BEC5",
                "#B0BEC5",
                "#B0BEC5",
                "#B0BEC5",
                "#B0BEC5",
                "#B0BEC5",
                "#B0BEC5",
                "#B0BEC5",
                "#B0BEC5",
                "#B0BEC5",
                "red",
                "#B0BEC5",
                "#B0BEC5",
                "#B0BEC5",
                "#B0BEC5",
                "#B0BEC5",
                "#B0BEC5",
                "#B0BEC5",
                "#B0BEC5",
                "#B0BEC5",
                "#B0BEC5",
                "#B0BEC5",
                "#B0BEC5",
                "#B0BEC5",
                "#B0BEC5",
                "#B0BEC5",
                "#B0BEC5",
                "#B0BEC5",
                "#B0BEC5"
               ]
              ]
             }
            ],
            "label": "Topic 11",
            "method": "update"
           },
           {
            "args": [
             {
              "marker.color": [
               [
                "#B0BEC5",
                "#B0BEC5",
                "#B0BEC5",
                "#B0BEC5",
                "#B0BEC5",
                "#B0BEC5",
                "#B0BEC5",
                "#B0BEC5",
                "#B0BEC5",
                "#B0BEC5",
                "#B0BEC5",
                "#B0BEC5",
                "red",
                "#B0BEC5",
                "#B0BEC5",
                "#B0BEC5",
                "#B0BEC5",
                "#B0BEC5",
                "#B0BEC5",
                "#B0BEC5",
                "#B0BEC5",
                "#B0BEC5",
                "#B0BEC5",
                "#B0BEC5",
                "#B0BEC5",
                "#B0BEC5",
                "#B0BEC5",
                "#B0BEC5",
                "#B0BEC5",
                "#B0BEC5"
               ]
              ]
             }
            ],
            "label": "Topic 12",
            "method": "update"
           },
           {
            "args": [
             {
              "marker.color": [
               [
                "#B0BEC5",
                "#B0BEC5",
                "#B0BEC5",
                "#B0BEC5",
                "#B0BEC5",
                "#B0BEC5",
                "#B0BEC5",
                "#B0BEC5",
                "#B0BEC5",
                "#B0BEC5",
                "#B0BEC5",
                "#B0BEC5",
                "#B0BEC5",
                "red",
                "#B0BEC5",
                "#B0BEC5",
                "#B0BEC5",
                "#B0BEC5",
                "#B0BEC5",
                "#B0BEC5",
                "#B0BEC5",
                "#B0BEC5",
                "#B0BEC5",
                "#B0BEC5",
                "#B0BEC5",
                "#B0BEC5",
                "#B0BEC5",
                "#B0BEC5",
                "#B0BEC5",
                "#B0BEC5"
               ]
              ]
             }
            ],
            "label": "Topic 13",
            "method": "update"
           },
           {
            "args": [
             {
              "marker.color": [
               [
                "#B0BEC5",
                "#B0BEC5",
                "#B0BEC5",
                "#B0BEC5",
                "#B0BEC5",
                "#B0BEC5",
                "#B0BEC5",
                "#B0BEC5",
                "#B0BEC5",
                "#B0BEC5",
                "#B0BEC5",
                "#B0BEC5",
                "#B0BEC5",
                "#B0BEC5",
                "red",
                "#B0BEC5",
                "#B0BEC5",
                "#B0BEC5",
                "#B0BEC5",
                "#B0BEC5",
                "#B0BEC5",
                "#B0BEC5",
                "#B0BEC5",
                "#B0BEC5",
                "#B0BEC5",
                "#B0BEC5",
                "#B0BEC5",
                "#B0BEC5",
                "#B0BEC5",
                "#B0BEC5"
               ]
              ]
             }
            ],
            "label": "Topic 14",
            "method": "update"
           },
           {
            "args": [
             {
              "marker.color": [
               [
                "#B0BEC5",
                "#B0BEC5",
                "#B0BEC5",
                "#B0BEC5",
                "#B0BEC5",
                "#B0BEC5",
                "#B0BEC5",
                "#B0BEC5",
                "#B0BEC5",
                "#B0BEC5",
                "#B0BEC5",
                "#B0BEC5",
                "#B0BEC5",
                "#B0BEC5",
                "#B0BEC5",
                "red",
                "#B0BEC5",
                "#B0BEC5",
                "#B0BEC5",
                "#B0BEC5",
                "#B0BEC5",
                "#B0BEC5",
                "#B0BEC5",
                "#B0BEC5",
                "#B0BEC5",
                "#B0BEC5",
                "#B0BEC5",
                "#B0BEC5",
                "#B0BEC5",
                "#B0BEC5"
               ]
              ]
             }
            ],
            "label": "Topic 15",
            "method": "update"
           },
           {
            "args": [
             {
              "marker.color": [
               [
                "#B0BEC5",
                "#B0BEC5",
                "#B0BEC5",
                "#B0BEC5",
                "#B0BEC5",
                "#B0BEC5",
                "#B0BEC5",
                "#B0BEC5",
                "#B0BEC5",
                "#B0BEC5",
                "#B0BEC5",
                "#B0BEC5",
                "#B0BEC5",
                "#B0BEC5",
                "#B0BEC5",
                "#B0BEC5",
                "red",
                "#B0BEC5",
                "#B0BEC5",
                "#B0BEC5",
                "#B0BEC5",
                "#B0BEC5",
                "#B0BEC5",
                "#B0BEC5",
                "#B0BEC5",
                "#B0BEC5",
                "#B0BEC5",
                "#B0BEC5",
                "#B0BEC5",
                "#B0BEC5"
               ]
              ]
             }
            ],
            "label": "Topic 16",
            "method": "update"
           },
           {
            "args": [
             {
              "marker.color": [
               [
                "#B0BEC5",
                "#B0BEC5",
                "#B0BEC5",
                "#B0BEC5",
                "#B0BEC5",
                "#B0BEC5",
                "#B0BEC5",
                "#B0BEC5",
                "#B0BEC5",
                "#B0BEC5",
                "#B0BEC5",
                "#B0BEC5",
                "#B0BEC5",
                "#B0BEC5",
                "#B0BEC5",
                "#B0BEC5",
                "#B0BEC5",
                "red",
                "#B0BEC5",
                "#B0BEC5",
                "#B0BEC5",
                "#B0BEC5",
                "#B0BEC5",
                "#B0BEC5",
                "#B0BEC5",
                "#B0BEC5",
                "#B0BEC5",
                "#B0BEC5",
                "#B0BEC5",
                "#B0BEC5"
               ]
              ]
             }
            ],
            "label": "Topic 17",
            "method": "update"
           },
           {
            "args": [
             {
              "marker.color": [
               [
                "#B0BEC5",
                "#B0BEC5",
                "#B0BEC5",
                "#B0BEC5",
                "#B0BEC5",
                "#B0BEC5",
                "#B0BEC5",
                "#B0BEC5",
                "#B0BEC5",
                "#B0BEC5",
                "#B0BEC5",
                "#B0BEC5",
                "#B0BEC5",
                "#B0BEC5",
                "#B0BEC5",
                "#B0BEC5",
                "#B0BEC5",
                "#B0BEC5",
                "red",
                "#B0BEC5",
                "#B0BEC5",
                "#B0BEC5",
                "#B0BEC5",
                "#B0BEC5",
                "#B0BEC5",
                "#B0BEC5",
                "#B0BEC5",
                "#B0BEC5",
                "#B0BEC5",
                "#B0BEC5"
               ]
              ]
             }
            ],
            "label": "Topic 18",
            "method": "update"
           },
           {
            "args": [
             {
              "marker.color": [
               [
                "#B0BEC5",
                "#B0BEC5",
                "#B0BEC5",
                "#B0BEC5",
                "#B0BEC5",
                "#B0BEC5",
                "#B0BEC5",
                "#B0BEC5",
                "#B0BEC5",
                "#B0BEC5",
                "#B0BEC5",
                "#B0BEC5",
                "#B0BEC5",
                "#B0BEC5",
                "#B0BEC5",
                "#B0BEC5",
                "#B0BEC5",
                "#B0BEC5",
                "#B0BEC5",
                "red",
                "#B0BEC5",
                "#B0BEC5",
                "#B0BEC5",
                "#B0BEC5",
                "#B0BEC5",
                "#B0BEC5",
                "#B0BEC5",
                "#B0BEC5",
                "#B0BEC5",
                "#B0BEC5"
               ]
              ]
             }
            ],
            "label": "Topic 19",
            "method": "update"
           },
           {
            "args": [
             {
              "marker.color": [
               [
                "#B0BEC5",
                "#B0BEC5",
                "#B0BEC5",
                "#B0BEC5",
                "#B0BEC5",
                "#B0BEC5",
                "#B0BEC5",
                "#B0BEC5",
                "#B0BEC5",
                "#B0BEC5",
                "#B0BEC5",
                "#B0BEC5",
                "#B0BEC5",
                "#B0BEC5",
                "#B0BEC5",
                "#B0BEC5",
                "#B0BEC5",
                "#B0BEC5",
                "#B0BEC5",
                "#B0BEC5",
                "red",
                "#B0BEC5",
                "#B0BEC5",
                "#B0BEC5",
                "#B0BEC5",
                "#B0BEC5",
                "#B0BEC5",
                "#B0BEC5",
                "#B0BEC5",
                "#B0BEC5"
               ]
              ]
             }
            ],
            "label": "Topic 20",
            "method": "update"
           },
           {
            "args": [
             {
              "marker.color": [
               [
                "#B0BEC5",
                "#B0BEC5",
                "#B0BEC5",
                "#B0BEC5",
                "#B0BEC5",
                "#B0BEC5",
                "#B0BEC5",
                "#B0BEC5",
                "#B0BEC5",
                "#B0BEC5",
                "#B0BEC5",
                "#B0BEC5",
                "#B0BEC5",
                "#B0BEC5",
                "#B0BEC5",
                "#B0BEC5",
                "#B0BEC5",
                "#B0BEC5",
                "#B0BEC5",
                "#B0BEC5",
                "#B0BEC5",
                "red",
                "#B0BEC5",
                "#B0BEC5",
                "#B0BEC5",
                "#B0BEC5",
                "#B0BEC5",
                "#B0BEC5",
                "#B0BEC5",
                "#B0BEC5"
               ]
              ]
             }
            ],
            "label": "Topic 21",
            "method": "update"
           },
           {
            "args": [
             {
              "marker.color": [
               [
                "#B0BEC5",
                "#B0BEC5",
                "#B0BEC5",
                "#B0BEC5",
                "#B0BEC5",
                "#B0BEC5",
                "#B0BEC5",
                "#B0BEC5",
                "#B0BEC5",
                "#B0BEC5",
                "#B0BEC5",
                "#B0BEC5",
                "#B0BEC5",
                "#B0BEC5",
                "#B0BEC5",
                "#B0BEC5",
                "#B0BEC5",
                "#B0BEC5",
                "#B0BEC5",
                "#B0BEC5",
                "#B0BEC5",
                "#B0BEC5",
                "red",
                "#B0BEC5",
                "#B0BEC5",
                "#B0BEC5",
                "#B0BEC5",
                "#B0BEC5",
                "#B0BEC5",
                "#B0BEC5"
               ]
              ]
             }
            ],
            "label": "Topic 22",
            "method": "update"
           },
           {
            "args": [
             {
              "marker.color": [
               [
                "#B0BEC5",
                "#B0BEC5",
                "#B0BEC5",
                "#B0BEC5",
                "#B0BEC5",
                "#B0BEC5",
                "#B0BEC5",
                "#B0BEC5",
                "#B0BEC5",
                "#B0BEC5",
                "#B0BEC5",
                "#B0BEC5",
                "#B0BEC5",
                "#B0BEC5",
                "#B0BEC5",
                "#B0BEC5",
                "#B0BEC5",
                "#B0BEC5",
                "#B0BEC5",
                "#B0BEC5",
                "#B0BEC5",
                "#B0BEC5",
                "#B0BEC5",
                "red",
                "#B0BEC5",
                "#B0BEC5",
                "#B0BEC5",
                "#B0BEC5",
                "#B0BEC5",
                "#B0BEC5"
               ]
              ]
             }
            ],
            "label": "Topic 23",
            "method": "update"
           },
           {
            "args": [
             {
              "marker.color": [
               [
                "#B0BEC5",
                "#B0BEC5",
                "#B0BEC5",
                "#B0BEC5",
                "#B0BEC5",
                "#B0BEC5",
                "#B0BEC5",
                "#B0BEC5",
                "#B0BEC5",
                "#B0BEC5",
                "#B0BEC5",
                "#B0BEC5",
                "#B0BEC5",
                "#B0BEC5",
                "#B0BEC5",
                "#B0BEC5",
                "#B0BEC5",
                "#B0BEC5",
                "#B0BEC5",
                "#B0BEC5",
                "#B0BEC5",
                "#B0BEC5",
                "#B0BEC5",
                "#B0BEC5",
                "red",
                "#B0BEC5",
                "#B0BEC5",
                "#B0BEC5",
                "#B0BEC5",
                "#B0BEC5"
               ]
              ]
             }
            ],
            "label": "Topic 24",
            "method": "update"
           },
           {
            "args": [
             {
              "marker.color": [
               [
                "#B0BEC5",
                "#B0BEC5",
                "#B0BEC5",
                "#B0BEC5",
                "#B0BEC5",
                "#B0BEC5",
                "#B0BEC5",
                "#B0BEC5",
                "#B0BEC5",
                "#B0BEC5",
                "#B0BEC5",
                "#B0BEC5",
                "#B0BEC5",
                "#B0BEC5",
                "#B0BEC5",
                "#B0BEC5",
                "#B0BEC5",
                "#B0BEC5",
                "#B0BEC5",
                "#B0BEC5",
                "#B0BEC5",
                "#B0BEC5",
                "#B0BEC5",
                "#B0BEC5",
                "#B0BEC5",
                "red",
                "#B0BEC5",
                "#B0BEC5",
                "#B0BEC5",
                "#B0BEC5"
               ]
              ]
             }
            ],
            "label": "Topic 25",
            "method": "update"
           },
           {
            "args": [
             {
              "marker.color": [
               [
                "#B0BEC5",
                "#B0BEC5",
                "#B0BEC5",
                "#B0BEC5",
                "#B0BEC5",
                "#B0BEC5",
                "#B0BEC5",
                "#B0BEC5",
                "#B0BEC5",
                "#B0BEC5",
                "#B0BEC5",
                "#B0BEC5",
                "#B0BEC5",
                "#B0BEC5",
                "#B0BEC5",
                "#B0BEC5",
                "#B0BEC5",
                "#B0BEC5",
                "#B0BEC5",
                "#B0BEC5",
                "#B0BEC5",
                "#B0BEC5",
                "#B0BEC5",
                "#B0BEC5",
                "#B0BEC5",
                "#B0BEC5",
                "red",
                "#B0BEC5",
                "#B0BEC5",
                "#B0BEC5"
               ]
              ]
             }
            ],
            "label": "Topic 26",
            "method": "update"
           },
           {
            "args": [
             {
              "marker.color": [
               [
                "#B0BEC5",
                "#B0BEC5",
                "#B0BEC5",
                "#B0BEC5",
                "#B0BEC5",
                "#B0BEC5",
                "#B0BEC5",
                "#B0BEC5",
                "#B0BEC5",
                "#B0BEC5",
                "#B0BEC5",
                "#B0BEC5",
                "#B0BEC5",
                "#B0BEC5",
                "#B0BEC5",
                "#B0BEC5",
                "#B0BEC5",
                "#B0BEC5",
                "#B0BEC5",
                "#B0BEC5",
                "#B0BEC5",
                "#B0BEC5",
                "#B0BEC5",
                "#B0BEC5",
                "#B0BEC5",
                "#B0BEC5",
                "#B0BEC5",
                "red",
                "#B0BEC5",
                "#B0BEC5"
               ]
              ]
             }
            ],
            "label": "Topic 27",
            "method": "update"
           },
           {
            "args": [
             {
              "marker.color": [
               [
                "#B0BEC5",
                "#B0BEC5",
                "#B0BEC5",
                "#B0BEC5",
                "#B0BEC5",
                "#B0BEC5",
                "#B0BEC5",
                "#B0BEC5",
                "#B0BEC5",
                "#B0BEC5",
                "#B0BEC5",
                "#B0BEC5",
                "#B0BEC5",
                "#B0BEC5",
                "#B0BEC5",
                "#B0BEC5",
                "#B0BEC5",
                "#B0BEC5",
                "#B0BEC5",
                "#B0BEC5",
                "#B0BEC5",
                "#B0BEC5",
                "#B0BEC5",
                "#B0BEC5",
                "#B0BEC5",
                "#B0BEC5",
                "#B0BEC5",
                "#B0BEC5",
                "red",
                "#B0BEC5"
               ]
              ]
             }
            ],
            "label": "Topic 28",
            "method": "update"
           },
           {
            "args": [
             {
              "marker.color": [
               [
                "#B0BEC5",
                "#B0BEC5",
                "#B0BEC5",
                "#B0BEC5",
                "#B0BEC5",
                "#B0BEC5",
                "#B0BEC5",
                "#B0BEC5",
                "#B0BEC5",
                "#B0BEC5",
                "#B0BEC5",
                "#B0BEC5",
                "#B0BEC5",
                "#B0BEC5",
                "#B0BEC5",
                "#B0BEC5",
                "#B0BEC5",
                "#B0BEC5",
                "#B0BEC5",
                "#B0BEC5",
                "#B0BEC5",
                "#B0BEC5",
                "#B0BEC5",
                "#B0BEC5",
                "#B0BEC5",
                "#B0BEC5",
                "#B0BEC5",
                "#B0BEC5",
                "#B0BEC5",
                "red"
               ]
              ]
             }
            ],
            "label": "Topic 29",
            "method": "update"
           }
          ]
         }
        ],
        "template": {
         "data": {
          "bar": [
           {
            "error_x": {
             "color": "rgb(36,36,36)"
            },
            "error_y": {
             "color": "rgb(36,36,36)"
            },
            "marker": {
             "line": {
              "color": "white",
              "width": 0.5
             },
             "pattern": {
              "fillmode": "overlay",
              "size": 10,
              "solidity": 0.2
             }
            },
            "type": "bar"
           }
          ],
          "barpolar": [
           {
            "marker": {
             "line": {
              "color": "white",
              "width": 0.5
             },
             "pattern": {
              "fillmode": "overlay",
              "size": 10,
              "solidity": 0.2
             }
            },
            "type": "barpolar"
           }
          ],
          "carpet": [
           {
            "aaxis": {
             "endlinecolor": "rgb(36,36,36)",
             "gridcolor": "white",
             "linecolor": "white",
             "minorgridcolor": "white",
             "startlinecolor": "rgb(36,36,36)"
            },
            "baxis": {
             "endlinecolor": "rgb(36,36,36)",
             "gridcolor": "white",
             "linecolor": "white",
             "minorgridcolor": "white",
             "startlinecolor": "rgb(36,36,36)"
            },
            "type": "carpet"
           }
          ],
          "choropleth": [
           {
            "colorbar": {
             "outlinewidth": 1,
             "tickcolor": "rgb(36,36,36)",
             "ticks": "outside"
            },
            "type": "choropleth"
           }
          ],
          "contour": [
           {
            "colorbar": {
             "outlinewidth": 1,
             "tickcolor": "rgb(36,36,36)",
             "ticks": "outside"
            },
            "colorscale": [
             [
              0,
              "#440154"
             ],
             [
              0.1111111111111111,
              "#482878"
             ],
             [
              0.2222222222222222,
              "#3e4989"
             ],
             [
              0.3333333333333333,
              "#31688e"
             ],
             [
              0.4444444444444444,
              "#26828e"
             ],
             [
              0.5555555555555556,
              "#1f9e89"
             ],
             [
              0.6666666666666666,
              "#35b779"
             ],
             [
              0.7777777777777778,
              "#6ece58"
             ],
             [
              0.8888888888888888,
              "#b5de2b"
             ],
             [
              1,
              "#fde725"
             ]
            ],
            "type": "contour"
           }
          ],
          "contourcarpet": [
           {
            "colorbar": {
             "outlinewidth": 1,
             "tickcolor": "rgb(36,36,36)",
             "ticks": "outside"
            },
            "type": "contourcarpet"
           }
          ],
          "heatmap": [
           {
            "colorbar": {
             "outlinewidth": 1,
             "tickcolor": "rgb(36,36,36)",
             "ticks": "outside"
            },
            "colorscale": [
             [
              0,
              "#440154"
             ],
             [
              0.1111111111111111,
              "#482878"
             ],
             [
              0.2222222222222222,
              "#3e4989"
             ],
             [
              0.3333333333333333,
              "#31688e"
             ],
             [
              0.4444444444444444,
              "#26828e"
             ],
             [
              0.5555555555555556,
              "#1f9e89"
             ],
             [
              0.6666666666666666,
              "#35b779"
             ],
             [
              0.7777777777777778,
              "#6ece58"
             ],
             [
              0.8888888888888888,
              "#b5de2b"
             ],
             [
              1,
              "#fde725"
             ]
            ],
            "type": "heatmap"
           }
          ],
          "heatmapgl": [
           {
            "colorbar": {
             "outlinewidth": 1,
             "tickcolor": "rgb(36,36,36)",
             "ticks": "outside"
            },
            "colorscale": [
             [
              0,
              "#440154"
             ],
             [
              0.1111111111111111,
              "#482878"
             ],
             [
              0.2222222222222222,
              "#3e4989"
             ],
             [
              0.3333333333333333,
              "#31688e"
             ],
             [
              0.4444444444444444,
              "#26828e"
             ],
             [
              0.5555555555555556,
              "#1f9e89"
             ],
             [
              0.6666666666666666,
              "#35b779"
             ],
             [
              0.7777777777777778,
              "#6ece58"
             ],
             [
              0.8888888888888888,
              "#b5de2b"
             ],
             [
              1,
              "#fde725"
             ]
            ],
            "type": "heatmapgl"
           }
          ],
          "histogram": [
           {
            "marker": {
             "line": {
              "color": "white",
              "width": 0.6
             }
            },
            "type": "histogram"
           }
          ],
          "histogram2d": [
           {
            "colorbar": {
             "outlinewidth": 1,
             "tickcolor": "rgb(36,36,36)",
             "ticks": "outside"
            },
            "colorscale": [
             [
              0,
              "#440154"
             ],
             [
              0.1111111111111111,
              "#482878"
             ],
             [
              0.2222222222222222,
              "#3e4989"
             ],
             [
              0.3333333333333333,
              "#31688e"
             ],
             [
              0.4444444444444444,
              "#26828e"
             ],
             [
              0.5555555555555556,
              "#1f9e89"
             ],
             [
              0.6666666666666666,
              "#35b779"
             ],
             [
              0.7777777777777778,
              "#6ece58"
             ],
             [
              0.8888888888888888,
              "#b5de2b"
             ],
             [
              1,
              "#fde725"
             ]
            ],
            "type": "histogram2d"
           }
          ],
          "histogram2dcontour": [
           {
            "colorbar": {
             "outlinewidth": 1,
             "tickcolor": "rgb(36,36,36)",
             "ticks": "outside"
            },
            "colorscale": [
             [
              0,
              "#440154"
             ],
             [
              0.1111111111111111,
              "#482878"
             ],
             [
              0.2222222222222222,
              "#3e4989"
             ],
             [
              0.3333333333333333,
              "#31688e"
             ],
             [
              0.4444444444444444,
              "#26828e"
             ],
             [
              0.5555555555555556,
              "#1f9e89"
             ],
             [
              0.6666666666666666,
              "#35b779"
             ],
             [
              0.7777777777777778,
              "#6ece58"
             ],
             [
              0.8888888888888888,
              "#b5de2b"
             ],
             [
              1,
              "#fde725"
             ]
            ],
            "type": "histogram2dcontour"
           }
          ],
          "mesh3d": [
           {
            "colorbar": {
             "outlinewidth": 1,
             "tickcolor": "rgb(36,36,36)",
             "ticks": "outside"
            },
            "type": "mesh3d"
           }
          ],
          "parcoords": [
           {
            "line": {
             "colorbar": {
              "outlinewidth": 1,
              "tickcolor": "rgb(36,36,36)",
              "ticks": "outside"
             }
            },
            "type": "parcoords"
           }
          ],
          "pie": [
           {
            "automargin": true,
            "type": "pie"
           }
          ],
          "scatter": [
           {
            "fillpattern": {
             "fillmode": "overlay",
             "size": 10,
             "solidity": 0.2
            },
            "type": "scatter"
           }
          ],
          "scatter3d": [
           {
            "line": {
             "colorbar": {
              "outlinewidth": 1,
              "tickcolor": "rgb(36,36,36)",
              "ticks": "outside"
             }
            },
            "marker": {
             "colorbar": {
              "outlinewidth": 1,
              "tickcolor": "rgb(36,36,36)",
              "ticks": "outside"
             }
            },
            "type": "scatter3d"
           }
          ],
          "scattercarpet": [
           {
            "marker": {
             "colorbar": {
              "outlinewidth": 1,
              "tickcolor": "rgb(36,36,36)",
              "ticks": "outside"
             }
            },
            "type": "scattercarpet"
           }
          ],
          "scattergeo": [
           {
            "marker": {
             "colorbar": {
              "outlinewidth": 1,
              "tickcolor": "rgb(36,36,36)",
              "ticks": "outside"
             }
            },
            "type": "scattergeo"
           }
          ],
          "scattergl": [
           {
            "marker": {
             "colorbar": {
              "outlinewidth": 1,
              "tickcolor": "rgb(36,36,36)",
              "ticks": "outside"
             }
            },
            "type": "scattergl"
           }
          ],
          "scattermapbox": [
           {
            "marker": {
             "colorbar": {
              "outlinewidth": 1,
              "tickcolor": "rgb(36,36,36)",
              "ticks": "outside"
             }
            },
            "type": "scattermapbox"
           }
          ],
          "scatterpolar": [
           {
            "marker": {
             "colorbar": {
              "outlinewidth": 1,
              "tickcolor": "rgb(36,36,36)",
              "ticks": "outside"
             }
            },
            "type": "scatterpolar"
           }
          ],
          "scatterpolargl": [
           {
            "marker": {
             "colorbar": {
              "outlinewidth": 1,
              "tickcolor": "rgb(36,36,36)",
              "ticks": "outside"
             }
            },
            "type": "scatterpolargl"
           }
          ],
          "scatterternary": [
           {
            "marker": {
             "colorbar": {
              "outlinewidth": 1,
              "tickcolor": "rgb(36,36,36)",
              "ticks": "outside"
             }
            },
            "type": "scatterternary"
           }
          ],
          "surface": [
           {
            "colorbar": {
             "outlinewidth": 1,
             "tickcolor": "rgb(36,36,36)",
             "ticks": "outside"
            },
            "colorscale": [
             [
              0,
              "#440154"
             ],
             [
              0.1111111111111111,
              "#482878"
             ],
             [
              0.2222222222222222,
              "#3e4989"
             ],
             [
              0.3333333333333333,
              "#31688e"
             ],
             [
              0.4444444444444444,
              "#26828e"
             ],
             [
              0.5555555555555556,
              "#1f9e89"
             ],
             [
              0.6666666666666666,
              "#35b779"
             ],
             [
              0.7777777777777778,
              "#6ece58"
             ],
             [
              0.8888888888888888,
              "#b5de2b"
             ],
             [
              1,
              "#fde725"
             ]
            ],
            "type": "surface"
           }
          ],
          "table": [
           {
            "cells": {
             "fill": {
              "color": "rgb(237,237,237)"
             },
             "line": {
              "color": "white"
             }
            },
            "header": {
             "fill": {
              "color": "rgb(217,217,217)"
             },
             "line": {
              "color": "white"
             }
            },
            "type": "table"
           }
          ]
         },
         "layout": {
          "annotationdefaults": {
           "arrowhead": 0,
           "arrowwidth": 1
          },
          "autotypenumbers": "strict",
          "coloraxis": {
           "colorbar": {
            "outlinewidth": 1,
            "tickcolor": "rgb(36,36,36)",
            "ticks": "outside"
           }
          },
          "colorscale": {
           "diverging": [
            [
             0,
             "rgb(103,0,31)"
            ],
            [
             0.1,
             "rgb(178,24,43)"
            ],
            [
             0.2,
             "rgb(214,96,77)"
            ],
            [
             0.3,
             "rgb(244,165,130)"
            ],
            [
             0.4,
             "rgb(253,219,199)"
            ],
            [
             0.5,
             "rgb(247,247,247)"
            ],
            [
             0.6,
             "rgb(209,229,240)"
            ],
            [
             0.7,
             "rgb(146,197,222)"
            ],
            [
             0.8,
             "rgb(67,147,195)"
            ],
            [
             0.9,
             "rgb(33,102,172)"
            ],
            [
             1,
             "rgb(5,48,97)"
            ]
           ],
           "sequential": [
            [
             0,
             "#440154"
            ],
            [
             0.1111111111111111,
             "#482878"
            ],
            [
             0.2222222222222222,
             "#3e4989"
            ],
            [
             0.3333333333333333,
             "#31688e"
            ],
            [
             0.4444444444444444,
             "#26828e"
            ],
            [
             0.5555555555555556,
             "#1f9e89"
            ],
            [
             0.6666666666666666,
             "#35b779"
            ],
            [
             0.7777777777777778,
             "#6ece58"
            ],
            [
             0.8888888888888888,
             "#b5de2b"
            ],
            [
             1,
             "#fde725"
            ]
           ],
           "sequentialminus": [
            [
             0,
             "#440154"
            ],
            [
             0.1111111111111111,
             "#482878"
            ],
            [
             0.2222222222222222,
             "#3e4989"
            ],
            [
             0.3333333333333333,
             "#31688e"
            ],
            [
             0.4444444444444444,
             "#26828e"
            ],
            [
             0.5555555555555556,
             "#1f9e89"
            ],
            [
             0.6666666666666666,
             "#35b779"
            ],
            [
             0.7777777777777778,
             "#6ece58"
            ],
            [
             0.8888888888888888,
             "#b5de2b"
            ],
            [
             1,
             "#fde725"
            ]
           ]
          },
          "colorway": [
           "#1F77B4",
           "#FF7F0E",
           "#2CA02C",
           "#D62728",
           "#9467BD",
           "#8C564B",
           "#E377C2",
           "#7F7F7F",
           "#BCBD22",
           "#17BECF"
          ],
          "font": {
           "color": "rgb(36,36,36)"
          },
          "geo": {
           "bgcolor": "white",
           "lakecolor": "white",
           "landcolor": "white",
           "showlakes": true,
           "showland": true,
           "subunitcolor": "white"
          },
          "hoverlabel": {
           "align": "left"
          },
          "hovermode": "closest",
          "mapbox": {
           "style": "light"
          },
          "paper_bgcolor": "white",
          "plot_bgcolor": "white",
          "polar": {
           "angularaxis": {
            "gridcolor": "rgb(232,232,232)",
            "linecolor": "rgb(36,36,36)",
            "showgrid": false,
            "showline": true,
            "ticks": "outside"
           },
           "bgcolor": "white",
           "radialaxis": {
            "gridcolor": "rgb(232,232,232)",
            "linecolor": "rgb(36,36,36)",
            "showgrid": false,
            "showline": true,
            "ticks": "outside"
           }
          },
          "scene": {
           "xaxis": {
            "backgroundcolor": "white",
            "gridcolor": "rgb(232,232,232)",
            "gridwidth": 2,
            "linecolor": "rgb(36,36,36)",
            "showbackground": true,
            "showgrid": false,
            "showline": true,
            "ticks": "outside",
            "zeroline": false,
            "zerolinecolor": "rgb(36,36,36)"
           },
           "yaxis": {
            "backgroundcolor": "white",
            "gridcolor": "rgb(232,232,232)",
            "gridwidth": 2,
            "linecolor": "rgb(36,36,36)",
            "showbackground": true,
            "showgrid": false,
            "showline": true,
            "ticks": "outside",
            "zeroline": false,
            "zerolinecolor": "rgb(36,36,36)"
           },
           "zaxis": {
            "backgroundcolor": "white",
            "gridcolor": "rgb(232,232,232)",
            "gridwidth": 2,
            "linecolor": "rgb(36,36,36)",
            "showbackground": true,
            "showgrid": false,
            "showline": true,
            "ticks": "outside",
            "zeroline": false,
            "zerolinecolor": "rgb(36,36,36)"
           }
          },
          "shapedefaults": {
           "fillcolor": "black",
           "line": {
            "width": 0
           },
           "opacity": 0.3
          },
          "ternary": {
           "aaxis": {
            "gridcolor": "rgb(232,232,232)",
            "linecolor": "rgb(36,36,36)",
            "showgrid": false,
            "showline": true,
            "ticks": "outside"
           },
           "baxis": {
            "gridcolor": "rgb(232,232,232)",
            "linecolor": "rgb(36,36,36)",
            "showgrid": false,
            "showline": true,
            "ticks": "outside"
           },
           "bgcolor": "white",
           "caxis": {
            "gridcolor": "rgb(232,232,232)",
            "linecolor": "rgb(36,36,36)",
            "showgrid": false,
            "showline": true,
            "ticks": "outside"
           }
          },
          "title": {
           "x": 0.05
          },
          "xaxis": {
           "automargin": true,
           "gridcolor": "rgb(232,232,232)",
           "linecolor": "rgb(36,36,36)",
           "showgrid": false,
           "showline": true,
           "ticks": "outside",
           "title": {
            "standoff": 15
           },
           "zeroline": false,
           "zerolinecolor": "rgb(36,36,36)"
          },
          "yaxis": {
           "automargin": true,
           "gridcolor": "rgb(232,232,232)",
           "linecolor": "rgb(36,36,36)",
           "showgrid": false,
           "showline": true,
           "ticks": "outside",
           "title": {
            "standoff": 15
           },
           "zeroline": false,
           "zerolinecolor": "rgb(36,36,36)"
          }
         }
        },
        "title": {
         "font": {
          "color": "Black",
          "size": 22
         },
         "text": "<b>Intertopic Distance Map",
         "x": 0.5,
         "xanchor": "center",
         "y": 0.95,
         "yanchor": "top"
        },
        "width": 650,
        "xaxis": {
         "anchor": "y",
         "domain": [
          0,
          1
         ],
         "range": [
          -6.776393556594849,
          13.668488359451294
         ],
         "title": {
          "text": ""
         },
         "visible": false
        },
        "yaxis": {
         "anchor": "x",
         "domain": [
          0,
          1
         ],
         "range": [
          -5.977013397216797,
          12.027765130996704
         ],
         "title": {
          "text": ""
         },
         "visible": false
        }
       }
      }
     },
     "metadata": {},
     "output_type": "display_data"
    }
   ],
   "source": [
    "model.visualize_topics()"
   ]
  },
  {
   "cell_type": "code",
   "execution_count": 30,
   "metadata": {},
   "outputs": [],
   "source": [
    "model.save(\"../models/BERTopic_nr_topics_30/model.pt\")"
   ]
  },
  {
   "cell_type": "code",
   "execution_count": 23,
   "metadata": {},
   "outputs": [
    {
     "data": {
      "text/plain": [
       "[('страховка', 0.028077297879774903),\n",
       " ('не', 0.022384155421570337),\n",
       " ('страховку', 0.021156553169979674),\n",
       " ('что', 0.01846529112426534),\n",
       " ('если', 0.018018322418894242),\n",
       " ('врачу', 0.01670027983337885),\n",
       " ('то', 0.016662626628479314),\n",
       " ('на', 0.015105606257534286),\n",
       " ('врача', 0.014956702343045511),\n",
       " ('страховки', 0.014838015330133235)]"
      ]
     },
     "execution_count": 23,
     "metadata": {},
     "output_type": "execute_result"
    }
   ],
   "source": [
    "model.get_topics()[0]"
   ]
  },
  {
   "cell_type": "code",
   "execution_count": 28,
   "metadata": {},
   "outputs": [
    {
     "data": {
      "text/plain": [
       "['Как и ко всем остальным беженцам.',\n",
       " '\"Здравствуйте, важно понимать цель которую преследуете..Вы едите за соц выплатой,  или же ради безопасности деток, будете ли Вы работать или же просто хотите в тихое место. Золотых гор, как все привыкли видеть на картинке для беженцев не будет.. и разница по выплате соц помощи тоже не будет огромной (30/50/70) франков максимум. Почитайте выше, там описывают схему выплаты. Жилье заранее забронить без статуса S нельзя.\"',\n",
       " '\"Та сума 1500 - це середня бюджетована в розрахунку на людину, яку федеральний орган перераховує кантонам. На утримання біженців йде більше, кантони свої кошти докладають. Ця фінансова спроможність впливає і на квоти розподілу. Умовно, приїхала бабця, ходить по лікарях лікувати все, що в Україні за все життя не лікувала, коштів на 10000 на місяць назбирала, ви і ваші родичі/знайомі - нічого не використали… сума витрат на біженців розподілилася. Аналогічно, оренда якогось готелю (з кейтерінгом, медсестрою, перекладачем) виходить в перерахунку по 1000 на місяць на сім‘ю, біженці, які живуть приватно не коштують кантону нічого, в середньому виходить по 500 на біженця. Ну і зарплати людей для гарячих ліній, перекладачів - вони теж з тих середньо-нарахованих 1500 на людину (плюс кантони свої докладають хто скільки може).\"',\n",
       " '\"Добрый день кто знает Швейцария будет принимать беженцев с Украины в сентябре,слышала что Польша и Германия  уже заканчивает этот процесс, хотят приехать родственники , не знаю пустит ли их Швейцария,спасибо\"',\n",
       " '\"Всім привітЯ вагітна і не маю уяви, чи припиниться війна до листопаду. Чи швейцарія може допомогти з родами, якщо з україни приїхати тільки на сам процес? Статус біженця чи інший не планую отримувати, тому що повернусь в україну\"',\n",
       " '\"Здравствуйте!подскажите пожалуста,а в Швейцарии уже приняли закон,именно в стране,закон что связанный с беженцами с Украины,который предусматривает вид на жительство?Спасибо всем большое!\"',\n",
       " '\"В лагере нет, ищите предложения в боте из чата, на одну ночь должно быть несложно.\"',\n",
       " '\"Якщо вас хтось забере до себе під свою відповідальність, то можна покинути табір\"',\n",
       " '\"Не знаю, это тяжело. Завтра попробую поехать в лагерь\"',\n",
       " 'Мы во Фрике. Это лагерь.',\n",
       " '3 недели и большеЭто будет пионерский лагерь)',\n",
       " 'А есть в группе кто сейчас находится в лагере. Расскажите пожалуйста как условия и сколько дней пребываете ?!',\n",
       " 'Поскажите пожплуйста сколько дают беженцам пособие в Швейцарии',\n",
       " '\"Подскажите, пожалуйста, контакты волонтеров или службы, которая занимается в Швейцарии беженцами. Хочу написать им письмо. Заранее огромное спасибо! 🙏\"',\n",
       " '\"Добрый день, подскажите пожалуйста, центр для беженцев в Цюрихе работает с 9-16, а если позже приеду, то где быть\"',\n",
       " '\"**❓КАК РАБОТАЕТ CAMPAX❓**📰 Источник: https://campax.org/standwithukraine-fluechtende-russisch/**CAMPAX: как это работает?**\\xa01. Беженцы сначала будут зарегистрированы Государственным секретариатом по миграции (SEM). После этого Campax направляет людей к принимающим семьямю прибывающих из Украины. Campax и Швейцарское агентство по делам беженцев (SFH) тесно сотрудничают в этом вопросе. В Цюрихе мы уже начали в понедельник распределение по частным квартирам. В Берне мы начнем в субботу, а во всех остальных регионах - с понедельника.2. Обычно мы сначала организуем встречу для знакомства, а затем уже собираем вместе гостей и принимающие семьи. В нынешней ситуации это невозможно, так как слишком много людей прибывает в Швейцарию в одно и то же время. Наша общая цель - действовать быстро и без бюрократических проволочек, чтобы прибывшие не испытывали неоправданно долгих периодов ожидания после тяжелого перелета.3. Будет заключен договор между принимающей стороной и беженцами. Этот договор будет служить безопасности соответствующих лиц, разъяснять права и обязанности участвующих сторон, содержать специальное положение на случай взимания арендной платы и регулировать возможность расторжения договора, а также срок его действия. Мы проинформируем вас как можно скорее о деталях и рамках и будем держать вас в курсе событий.4. Мы также находимся в процессе создания консультации для принимающих семей, чтобы у людей было достаточно рекомендаций и ответов на все вопросы. Для нас важно, чтобы это соглашение в первую очередь помогло беженцам и обеспечило им и вам безопасность. Оно не направлено на достижение договоренности \"\"услуга за услугу\"\".\\xa0Самое главное на данный момент - это чтобы беженцы были размещены как можно быстрее и имели крышу над головой. На нашем сайте мы опубликовали FAQ (часто задаваемые вопросы), которые мы постоянно обновляем. На сайте организации Refugee Aid также есть подробные ответы на часто задаваемые вопросы.https://campax.org/standwithukraine-fluechtende-russisch/https://www.fluechtlingshilfe.ch/\"',\n",
       " '\"Інформація українською мовоюТут Ви знайдете найважливіші відповіді: про що мають знати біженці після в\\'їзду в Швейцарію, як і де можна розмістити біженців, як вирішуються медичні питання, як можна організувати своє життя біженцям у Цюриху.https://www.stadt-zuerich.ch/portal/de/index/aktuelles/ukraine/ua-faq-unterstuezung-gefluechtete-ukraine.html\"',\n",
       " '**Центры приема беженцев в Швейцарии**[ТУТ](https://www.sem.admin.ch/sem/de/home/sem/aktuell/ukraine-hilfe.html) почти все необходимые ответы на вопросы (жмём на синее слово)',\n",
       " 'Доброго дня. Можливо хтось знає чи виплачують українцям соціалку як біженцям?',\n",
       " '\"Всім привіт!Хтось може пояснити, чи це є правильно і законно.?Коли біженцю українцю потрібно сплачувати податок 350 франків за телерадіо , яких у нього не має.Тобто, ту мізерну соцвиплату обкладено податком на телебачення, якого ти жодного разу не бачив.Чи є такий досвід в інших країнах, які приймають біженців? Тобто допомогу потрібно розподілити не тільки на правильну утилізацію сміття та платне прання, дорогу в Белінзону і роздруківку банківських (у кого,є, нема рахунків) , а і ...а що залишиться на продукти?Я не розумію, чому українські біженці повинні сплачувати за те, чим не користуються?\"',\n",
       " 'А что тут только украинские беженцы берут деньги у налогоплатильщиков?Да и многие уже работают несмотря на то что недавно приехали.',\n",
       " 'График столовой в лагере. Город Цюрих.',\n",
       " 'Кто знает адрес лагеря в Цюрихе?',\n",
       " 'Лагерь в Цюрихе.',\n",
       " '\"Ну если получится, то дай бог. Просто ожидание и реальность могут сильно не совпадать. Нужно понимать, что Швейцария дала на старте беспрецедентные преференции беженцам с Украины, которые она дальше будет поэтапно отменять. Тут нужно работать, тут очень сложно  дорого с детьми, животными и медициной. Реальный уровень жизни и того что может позволить себе семья ниже чем в довоенной Украине\"',\n",
       " '\"Так потребности беженца изучены, отсюда и такие выплаты. Считают, что должно хватить.  Не хватает, то есть право на работу., что уже большой плюс. Если приехавшие не знают, то это не проблема Швейцарии, а проблема укр. Образования, которое не дотягивает до европейцев. То, что сложно - это ясно, но такой путь у беженцев. Это дорогая страна, волонтёры все покупают за свои деньги. А социалка выделила на базовое, как и другим беженцам до Украины.\"',\n",
       " '\"Не всегда. С меня, например, не брали. Было достаточно контракта на работу, рекомендаций и т.д. Но, тут да речь идёт ещё и о жильё, что швейцарцы бесплатно предоставляют беженцам с Украины. На такое жильё не нужно контрактов и т.д.\"',\n",
       " '\"Ну, не сразу, но будут. Так уже было с югославскими беженцами.\"',\n",
       " '\"Беженцы из Украины - это вынужденные беженцы. Учитывается, что они бежали от военных действий. У них больше прав, чем у обычного статуса беженцев.\"',\n",
       " '\"А є прецеденти отримання туристичних віз до США біженцями з України зараз? Оскільки до війни ситуація \"\"типового біженця\"\" це 100% шанс на відмову у візі.\"',\n",
       " '\"Вы можете отказаться от статуса в Швейцарии, но после этого маловероятно что вам даст статус убежища другая европейская страна. Это убежище от войны, а не конкурс красоты на лучшую помощь🤷\\u200d♀\"',\n",
       " '\"Уточните в sem, не будет ли проблем, по новым правилам , если человек имел статус беженца в ЕС, в Швейцарии могут отказать.\"',\n",
       " '\"А какой статус просили ? Если подавались на статус беженца и еще его не получили то, по правильному поехать в миграционку и написать отказ от беженства. Но по законодательству БОЛЬШЕНСТВА стран( не знаю как в Швейцарии) то выезд за границу автоматически анулирует прошение на беженство, если вам его конечно уже не дали.\"',\n",
       " 'Лохотрон тюремный',\n",
       " 'Во многих городах во всех странах рядом с тюрьмами тоже живут люди',\n",
       " 'Это вид из окна))) с видом на тюрьму',\n",
       " 'Нам 150 в лагере платят)))',\n",
       " '\"В Роде или таком лагере где вы будете проходить интервью с полицией  ничего не платят. Кормят. Это первый этап. Далее вас перевозят во второй лагерь пансионат отель. Там в зависимости от того вас кормят или нет, дают продукты или нет. Если кормят, то около 220 крон в месяц. Если не кормят больше. Далее поселение в арендованное жилье для вас.  Если до интеграционной программы одна сумма. Если курсы начались и вы ходите на них другая. 13000 крон. Из этой суммы забирается на аренду. От 1 этапа до 3 может пройти 4 месяца. У нас есть такие люди. Не думайте что приведите в Норвегию и через месяц будете зарабатывать хотя бы 1500 евро. Разочаруетесь. А насчёт зарплат в 3-4 к евро вообще смешно.\"',\n",
       " '\"В лагере дают из расчета  3 франка в день, но могут выдать , могут не выдать, могут за меньше дней выдать\"',\n",
       " 'Что за центр?',\n",
       " 'а де знаходиться цей центр?',\n",
       " 'Cool! Do you know how to find the center on Turnerstrasse?',\n",
       " '\"Привіт всім. Допоможу інвалідам, які потребують догляду, вивезти з України до Швейцарії. (Виїзд із Вінниці) (плата за послугу непотрібна)!!!Допоможу у процесі набуття статусу біженця та в оформленні документів.Пишіть у личку.\"',\n",
       " '\"Мы с мужем готовим небольшую памятку про что ждать если вы беженцы из Украины в Швейцарии. Желающие помочь, напишите в ЛС. Вечером добавлю если что в Гуглдок\"',\n",
       " '\"Добрый день! Может кто есть в группе,кто едет в Швейцарию с Греции как беженец? Ищу попутчиков. С Украины с Днепропетровской обл уехала в марте с 2мя детьми к знакомым в Грецию.\"',\n",
       " '\"Это само разумеется, но некоторые пишут что в лагере уже более 2-х месяцев ждут жилье, насколько это типично? Я про Швейцарию в этом плане знаю мало. Многие знакомые в Германии получили отдельное жилье достаточно быстро и без лагерей.\"',\n",
       " '\"Я не хочу распределение в Цюрих, мне все равно где жить.Не хочу с ребенком жить где в поле в палатке с незнакомыми людьми разных рас и национальностей неопределенное время.(только приехал - уже качает права)))Местные пугают, что жить в лагере можно месяц\"',\n",
       " '\"Мне просто интересно их сразу в спортзал поселили?) Я просто знаю случаи когда из нормального общежитие переселяли вот типа в спортзалы, потому что режим общежития не соблюдали, вечный крик вопли и швейцарцы тихонечко их выпроважали в более \"\"интересные\"\" условия\"',\n",
       " '\"Всем доброго дня , пожалуйста подскажите где в Невшателе беженцам из Украины выдают продукты, заранее благодарю\"',\n",
       " '\"Добрий день! Підскажіть, будь ласка, в якому місці Ви офорлялися в Цюріху: у федеральному центрі біженців на Дутвайлершстрассе, чи в щойно відкритому центрі для оформлення українців? Чи великі черги? Дякую\"',\n",
       " '\"Добрый день,подскажите пожалуйста,для беженцев из Украины предоставляют жильё и какое-то пособие,за ранее спасибо 🙏\"',\n",
       " 'Вот условия',\n",
       " 'Это давно было? И как условия?',\n",
       " 'А какие там условия?',\n",
       " '\"Здравствуйте, подскажите, пожалуйста, лагерь для ребёнка для 8 лет бесплатный или недорогой\"',\n",
       " '\"Добрый день, подскажите, пожалуйста, кто интересовался детскими лагерями , чем занять детей вне школы на июль и август - большое спасибо\"',\n",
       " '\"Ещё, как вариант про лагеря, можете обратиться в Maison de quartier своего района проживания, чтобы уточнить, что они предлагают на лето для детей. Там Можно найти бюджетные варианты\"',\n",
       " '\"На самом деле,сейчас лучше смотреть на количество принятых беженцев в разных странах европы и уже на основании этого принимать решения.Тогда можно уже будет склонить вероятность к получению нормального отдельного жилья…\"',\n",
       " '\"https://reopen.europa.eu/enможе це поможе, але я не знаю чи стосується це біженців\"',\n",
       " '\"Велике європейське дослідження щодо прийому біженців у кожній із європейських країнПорівняння умов прийому, проживання та проживання в кожній країні Європи, Опитування анонімне. Результати будуть передані представникам влади для того, щоб поліпшити ситуацію, Оприлюднення результатів 20 червня 2022 року.https(://)forms(.)gle/L4KpL2oz6KKUHyJ76Дякую\"',\n",
       " 'В центрах біженців безкоштовна їжа є',\n",
       " 'Где-нибудь можно покушать бесплатно в Лугано для беженцев ?',\n",
       " 'А где в Базеле есть продукты для беженцев?',\n",
       " '\"ВНИМАНИЕ ‼️‼️‼️‼️‼️‼️Важная информация Я созвонилась с AOZ и ZAFОни дали четкое объяснение:1. Всех кто регистрируется на статус S отправлять на Duttweilerstrasse 11 в центр для беженцев. Они обязаны принять всех!!!!! Это их прямая задача 2. Кто не регистрируется, а нуждается просто в ночлеге/перекусе (будь это 1 день, или 3 дня или неделя)  отправлять в Kasernenareal. Тут же они выдают гутчайны от мигроса на покушать, тут же они консультируют по транспорту и жилью. Но сюда отправлять ТОЛЬКО ТЕХ, кто НЕ ПРОСИТ СТАТУС S 3. Больница тримли - принимает только на ночь с перекусом, только тех, кто прибыл вечерними поездами и не имеет возможности пойти в Kasernenareal (работает только до 20:00) и перед отправкой туда нужно им звонить !!!!\"',\n",
       " '\"❗️Информация для граждан Украины 🇺🇦, вынужденных покинуть родную страну❗️Для получения статуса защиты «S» Вам необходимо встать на учет в одном из Федеральных центров по предоставлению убежища. ✏️ У Вас есть 90 дней для того, чтобы встать на учёт (пожалуйста, без паники - Вы не обязаны делать это сегодня-завтра).✏️ Для экономии времени Вы можете отслеживать загруженность центров на сайте https://www.sem.admin.ch/sem/en/home.html  ✏️Пожалуйста, обращайте внимание на загруженность центров согласно цвету:• КРАСНЫЙ ЦВЕТ - центр полностью загружен (нет смысла идти туда в этот день).• ОРАНЖЕВЫЙ ЦВЕТ - высокая загруженность центра (возможно длительное ожидание в очереди).•ЗЕЛЁНЫЙ ЦВЕТ - низкая загруженность центра (высокая возможность регистрации без длительного ожидания в очереди).⏰ График работы Федеральных центров для регистрации украинских беженцев: ЕЖЕДНЕВНО с 9.00 до 16.00 часов.Источник: https://www.sem.admin.ch/sem/en/home.html\"',\n",
       " '\"💥💥💥 Today, 20 July, more than **60’000** status S applications received, of which 58 095 persons have been granted S status in Switzerland 🇨🇭. Source: SEM\"']"
      ]
     },
     "execution_count": 28,
     "metadata": {},
     "output_type": "execute_result"
    }
   ],
   "source": [
    "model.get_representative_docs()[1]"
   ]
  },
  {
   "cell_type": "code",
   "execution_count": 25,
   "metadata": {},
   "outputs": [
    {
     "data": {
      "text/html": [
       "<div>\n",
       "<style scoped>\n",
       "    .dataframe tbody tr th:only-of-type {\n",
       "        vertical-align: middle;\n",
       "    }\n",
       "\n",
       "    .dataframe tbody tr th {\n",
       "        vertical-align: top;\n",
       "    }\n",
       "\n",
       "    .dataframe thead th {\n",
       "        text-align: right;\n",
       "    }\n",
       "</style>\n",
       "<table border=\"1\" class=\"dataframe\">\n",
       "  <thead>\n",
       "    <tr style=\"text-align: right;\">\n",
       "      <th></th>\n",
       "      <th>Topic</th>\n",
       "      <th>Count</th>\n",
       "      <th>Name</th>\n",
       "    </tr>\n",
       "  </thead>\n",
       "  <tbody>\n",
       "    <tr>\n",
       "      <th>0</th>\n",
       "      <td>-1</td>\n",
       "      <td>214902</td>\n",
       "      <td>-1_не_на_что_то</td>\n",
       "    </tr>\n",
       "    <tr>\n",
       "      <th>1</th>\n",
       "      <td>0</td>\n",
       "      <td>8281</td>\n",
       "      <td>0_страховка_не_страховку_что</td>\n",
       "    </tr>\n",
       "    <tr>\n",
       "      <th>2</th>\n",
       "      <td>1</td>\n",
       "      <td>5754</td>\n",
       "      <td>1_беженцев_не_для_что</td>\n",
       "    </tr>\n",
       "    <tr>\n",
       "      <th>3</th>\n",
       "      <td>2</td>\n",
       "      <td>4142</td>\n",
       "      <td>2_спасибо_информацию_за_информация</td>\n",
       "    </tr>\n",
       "    <tr>\n",
       "      <th>4</th>\n",
       "      <td>3</td>\n",
       "      <td>3692</td>\n",
       "      <td>3_україна_швейцарія_украину_из</td>\n",
       "    </tr>\n",
       "    <tr>\n",
       "      <th>5</th>\n",
       "      <td>4</td>\n",
       "      <td>3430</td>\n",
       "      <td>4_спасибо_дякую_поняла_ок</td>\n",
       "    </tr>\n",
       "    <tr>\n",
       "      <th>6</th>\n",
       "      <td>5</td>\n",
       "      <td>3243</td>\n",
       "      <td>5_для_та_школу_заняття</td>\n",
       "    </tr>\n",
       "    <tr>\n",
       "      <th>7</th>\n",
       "      <td>6</td>\n",
       "      <td>3220</td>\n",
       "      <td>6_https_me_www_com</td>\n",
       "    </tr>\n",
       "    <tr>\n",
       "      <th>8</th>\n",
       "      <td>7</td>\n",
       "      <td>3208</td>\n",
       "      <td>7_да_так_конечно_согласна</td>\n",
       "    </tr>\n",
       "    <tr>\n",
       "      <th>9</th>\n",
       "      <td>8</td>\n",
       "      <td>3206</td>\n",
       "      <td>8_поезд_до_поезда_на</td>\n",
       "    </tr>\n",
       "    <tr>\n",
       "      <th>10</th>\n",
       "      <td>9</td>\n",
       "      <td>3116</td>\n",
       "      <td>9_swissua_закріпленими_інформаційною_ознайомтеся</td>\n",
       "    </tr>\n",
       "    <tr>\n",
       "      <th>11</th>\n",
       "      <td>10</td>\n",
       "      <td>2675</td>\n",
       "      <td>10_банке_банк_франки_карту</td>\n",
       "    </tr>\n",
       "    <tr>\n",
       "      <th>12</th>\n",
       "      <td>11</td>\n",
       "      <td>2539</td>\n",
       "      <td>11_соц_помощь_не_социальной</td>\n",
       "    </tr>\n",
       "    <tr>\n",
       "      <th>13</th>\n",
       "      <td>12</td>\n",
       "      <td>2509</td>\n",
       "      <td>12_билет_билеты_на_halbtax</td>\n",
       "    </tr>\n",
       "    <tr>\n",
       "      <th>14</th>\n",
       "      <td>13</td>\n",
       "      <td>2506</td>\n",
       "      <td>13_goo_gl_maps_user</td>\n",
       "    </tr>\n",
       "    <tr>\n",
       "      <th>15</th>\n",
       "      <td>14</td>\n",
       "      <td>2505</td>\n",
       "      <td>14_паспорт_паспорта_паспорту_паспортом</td>\n",
       "    </tr>\n",
       "    <tr>\n",
       "      <th>16</th>\n",
       "      <td>15</td>\n",
       "      <td>2362</td>\n",
       "      <td>15_языка_на_та_роботи</td>\n",
       "    </tr>\n",
       "    <tr>\n",
       "      <th>17</th>\n",
       "      <td>16</td>\n",
       "      <td>2356</td>\n",
       "      <td>16_дякую_дуже_спасибо_благодарю</td>\n",
       "    </tr>\n",
       "    <tr>\n",
       "      <th>18</th>\n",
       "      <td>17</td>\n",
       "      <td>2172</td>\n",
       "      <td>17_жилья_квартиру_жилье_жильё</td>\n",
       "    </tr>\n",
       "    <tr>\n",
       "      <th>19</th>\n",
       "      <td>18</td>\n",
       "      <td>2115</td>\n",
       "      <td>18_d0_d1_https_для</td>\n",
       "    </tr>\n",
       "    <tr>\n",
       "      <th>20</th>\n",
       "      <td>19</td>\n",
       "      <td>2089</td>\n",
       "      <td>19_большое_спасибо_огромное_дякую</td>\n",
       "    </tr>\n",
       "    <tr>\n",
       "      <th>21</th>\n",
       "      <td>20</td>\n",
       "      <td>1888</td>\n",
       "      <td>20_мне_личку_пожалуйста_напишите</td>\n",
       "    </tr>\n",
       "    <tr>\n",
       "      <th>22</th>\n",
       "      <td>21</td>\n",
       "      <td>1808</td>\n",
       "      <td>21_йога_00_06_instagram</td>\n",
       "    </tr>\n",
       "    <tr>\n",
       "      <th>23</th>\n",
       "      <td>22</td>\n",
       "      <td>1798</td>\n",
       "      <td>22_благодарю_ответ_спасибо_за</td>\n",
       "    </tr>\n",
       "    <tr>\n",
       "      <th>24</th>\n",
       "      <td>23</td>\n",
       "      <td>1767</td>\n",
       "      <td>23_добавьте_пожалуйста_группу_меня</td>\n",
       "    </tr>\n",
       "    <tr>\n",
       "      <th>25</th>\n",
       "      <td>24</td>\n",
       "      <td>1761</td>\n",
       "      <td>24_женеве_женеві_женева_женевы</td>\n",
       "    </tr>\n",
       "    <tr>\n",
       "      <th>26</th>\n",
       "      <td>25</td>\n",
       "      <td>1709</td>\n",
       "      <td>25_франков_месяц_на_франків</td>\n",
       "    </tr>\n",
       "    <tr>\n",
       "      <th>27</th>\n",
       "      <td>26</td>\n",
       "      <td>1705</td>\n",
       "      <td>26_вокзале_на_вокзала_вокзал</td>\n",
       "    </tr>\n",
       "    <tr>\n",
       "      <th>28</th>\n",
       "      <td>27</td>\n",
       "      <td>1701</td>\n",
       "      <td>27_to_group_the_for</td>\n",
       "    </tr>\n",
       "    <tr>\n",
       "      <th>29</th>\n",
       "      <td>28</td>\n",
       "      <td>1514</td>\n",
       "      <td>28_курсы_немецкого_языка_французского</td>\n",
       "    </tr>\n",
       "    <tr>\n",
       "      <th>30</th>\n",
       "      <td>29</td>\n",
       "      <td>1507</td>\n",
       "      <td>29_интересует_интересно_тоже_цікавить</td>\n",
       "    </tr>\n",
       "  </tbody>\n",
       "</table>\n",
       "</div>"
      ],
      "text/plain": [
       "    Topic   Count                                              Name\n",
       "0      -1  214902                                   -1_не_на_что_то\n",
       "1       0    8281                      0_страховка_не_страховку_что\n",
       "2       1    5754                             1_беженцев_не_для_что\n",
       "3       2    4142                2_спасибо_информацию_за_информация\n",
       "4       3    3692                    3_україна_швейцарія_украину_из\n",
       "5       4    3430                         4_спасибо_дякую_поняла_ок\n",
       "6       5    3243                            5_для_та_школу_заняття\n",
       "7       6    3220                                6_https_me_www_com\n",
       "8       7    3208                         7_да_так_конечно_согласна\n",
       "9       8    3206                              8_поезд_до_поезда_на\n",
       "10      9    3116  9_swissua_закріпленими_інформаційною_ознайомтеся\n",
       "11     10    2675                        10_банке_банк_франки_карту\n",
       "12     11    2539                       11_соц_помощь_не_социальной\n",
       "13     12    2509                        12_билет_билеты_на_halbtax\n",
       "14     13    2506                               13_goo_gl_maps_user\n",
       "15     14    2505            14_паспорт_паспорта_паспорту_паспортом\n",
       "16     15    2362                             15_языка_на_та_роботи\n",
       "17     16    2356                   16_дякую_дуже_спасибо_благодарю\n",
       "18     17    2172                     17_жилья_квартиру_жилье_жильё\n",
       "19     18    2115                                18_d0_d1_https_для\n",
       "20     19    2089                 19_большое_спасибо_огромное_дякую\n",
       "21     20    1888                  20_мне_личку_пожалуйста_напишите\n",
       "22     21    1808                           21_йога_00_06_instagram\n",
       "23     22    1798                     22_благодарю_ответ_спасибо_за\n",
       "24     23    1767                23_добавьте_пожалуйста_группу_меня\n",
       "25     24    1761                    24_женеве_женеві_женева_женевы\n",
       "26     25    1709                       25_франков_месяц_на_франків\n",
       "27     26    1705                      26_вокзале_на_вокзала_вокзал\n",
       "28     27    1701                               27_to_group_the_for\n",
       "29     28    1514             28_курсы_немецкого_языка_французского\n",
       "30     29    1507             29_интересует_интересно_тоже_цікавить"
      ]
     },
     "execution_count": 25,
     "metadata": {},
     "output_type": "execute_result"
    }
   ],
   "source": [
    "model.get_topic_info()"
   ]
  },
  {
   "cell_type": "code",
   "execution_count": 24,
   "metadata": {},
   "outputs": [
    {
     "data": {
      "text/html": [
       "<div>\n",
       "<style scoped>\n",
       "    .dataframe tbody tr th:only-of-type {\n",
       "        vertical-align: middle;\n",
       "    }\n",
       "\n",
       "    .dataframe tbody tr th {\n",
       "        vertical-align: top;\n",
       "    }\n",
       "\n",
       "    .dataframe thead th {\n",
       "        text-align: right;\n",
       "    }\n",
       "</style>\n",
       "<table border=\"1\" class=\"dataframe\">\n",
       "  <thead>\n",
       "    <tr style=\"text-align: right;\">\n",
       "      <th></th>\n",
       "      <th>Topic</th>\n",
       "      <th>Count</th>\n",
       "    </tr>\n",
       "  </thead>\n",
       "  <tbody>\n",
       "    <tr>\n",
       "      <th>0</th>\n",
       "      <td>-1</td>\n",
       "      <td>214902</td>\n",
       "    </tr>\n",
       "    <tr>\n",
       "      <th>1</th>\n",
       "      <td>0</td>\n",
       "      <td>8281</td>\n",
       "    </tr>\n",
       "    <tr>\n",
       "      <th>2</th>\n",
       "      <td>1</td>\n",
       "      <td>5754</td>\n",
       "    </tr>\n",
       "    <tr>\n",
       "      <th>3</th>\n",
       "      <td>2</td>\n",
       "      <td>4142</td>\n",
       "    </tr>\n",
       "    <tr>\n",
       "      <th>4</th>\n",
       "      <td>3</td>\n",
       "      <td>3692</td>\n",
       "    </tr>\n",
       "    <tr>\n",
       "      <th>5</th>\n",
       "      <td>4</td>\n",
       "      <td>3430</td>\n",
       "    </tr>\n",
       "    <tr>\n",
       "      <th>6</th>\n",
       "      <td>5</td>\n",
       "      <td>3243</td>\n",
       "    </tr>\n",
       "    <tr>\n",
       "      <th>7</th>\n",
       "      <td>6</td>\n",
       "      <td>3220</td>\n",
       "    </tr>\n",
       "    <tr>\n",
       "      <th>8</th>\n",
       "      <td>7</td>\n",
       "      <td>3208</td>\n",
       "    </tr>\n",
       "    <tr>\n",
       "      <th>9</th>\n",
       "      <td>8</td>\n",
       "      <td>3206</td>\n",
       "    </tr>\n",
       "    <tr>\n",
       "      <th>10</th>\n",
       "      <td>9</td>\n",
       "      <td>3116</td>\n",
       "    </tr>\n",
       "    <tr>\n",
       "      <th>11</th>\n",
       "      <td>10</td>\n",
       "      <td>2675</td>\n",
       "    </tr>\n",
       "    <tr>\n",
       "      <th>12</th>\n",
       "      <td>11</td>\n",
       "      <td>2539</td>\n",
       "    </tr>\n",
       "    <tr>\n",
       "      <th>13</th>\n",
       "      <td>12</td>\n",
       "      <td>2509</td>\n",
       "    </tr>\n",
       "    <tr>\n",
       "      <th>14</th>\n",
       "      <td>13</td>\n",
       "      <td>2506</td>\n",
       "    </tr>\n",
       "    <tr>\n",
       "      <th>15</th>\n",
       "      <td>14</td>\n",
       "      <td>2505</td>\n",
       "    </tr>\n",
       "    <tr>\n",
       "      <th>16</th>\n",
       "      <td>15</td>\n",
       "      <td>2362</td>\n",
       "    </tr>\n",
       "    <tr>\n",
       "      <th>17</th>\n",
       "      <td>16</td>\n",
       "      <td>2356</td>\n",
       "    </tr>\n",
       "    <tr>\n",
       "      <th>18</th>\n",
       "      <td>17</td>\n",
       "      <td>2172</td>\n",
       "    </tr>\n",
       "    <tr>\n",
       "      <th>19</th>\n",
       "      <td>18</td>\n",
       "      <td>2115</td>\n",
       "    </tr>\n",
       "    <tr>\n",
       "      <th>20</th>\n",
       "      <td>19</td>\n",
       "      <td>2089</td>\n",
       "    </tr>\n",
       "    <tr>\n",
       "      <th>21</th>\n",
       "      <td>20</td>\n",
       "      <td>1888</td>\n",
       "    </tr>\n",
       "    <tr>\n",
       "      <th>22</th>\n",
       "      <td>21</td>\n",
       "      <td>1808</td>\n",
       "    </tr>\n",
       "    <tr>\n",
       "      <th>23</th>\n",
       "      <td>22</td>\n",
       "      <td>1798</td>\n",
       "    </tr>\n",
       "    <tr>\n",
       "      <th>24</th>\n",
       "      <td>23</td>\n",
       "      <td>1767</td>\n",
       "    </tr>\n",
       "    <tr>\n",
       "      <th>25</th>\n",
       "      <td>24</td>\n",
       "      <td>1761</td>\n",
       "    </tr>\n",
       "    <tr>\n",
       "      <th>26</th>\n",
       "      <td>25</td>\n",
       "      <td>1709</td>\n",
       "    </tr>\n",
       "    <tr>\n",
       "      <th>27</th>\n",
       "      <td>26</td>\n",
       "      <td>1705</td>\n",
       "    </tr>\n",
       "    <tr>\n",
       "      <th>28</th>\n",
       "      <td>27</td>\n",
       "      <td>1701</td>\n",
       "    </tr>\n",
       "    <tr>\n",
       "      <th>29</th>\n",
       "      <td>28</td>\n",
       "      <td>1514</td>\n",
       "    </tr>\n",
       "    <tr>\n",
       "      <th>30</th>\n",
       "      <td>29</td>\n",
       "      <td>1507</td>\n",
       "    </tr>\n",
       "  </tbody>\n",
       "</table>\n",
       "</div>"
      ],
      "text/plain": [
       "    Topic   Count\n",
       "0      -1  214902\n",
       "1       0    8281\n",
       "2       1    5754\n",
       "3       2    4142\n",
       "4       3    3692\n",
       "5       4    3430\n",
       "6       5    3243\n",
       "7       6    3220\n",
       "8       7    3208\n",
       "9       8    3206\n",
       "10      9    3116\n",
       "11     10    2675\n",
       "12     11    2539\n",
       "13     12    2509\n",
       "14     13    2506\n",
       "15     14    2505\n",
       "16     15    2362\n",
       "17     16    2356\n",
       "18     17    2172\n",
       "19     18    2115\n",
       "20     19    2089\n",
       "21     20    1888\n",
       "22     21    1808\n",
       "23     22    1798\n",
       "24     23    1767\n",
       "25     24    1761\n",
       "26     25    1709\n",
       "27     26    1705\n",
       "28     27    1701\n",
       "29     28    1514\n",
       "30     29    1507"
      ]
     },
     "execution_count": 24,
     "metadata": {},
     "output_type": "execute_result"
    }
   ],
   "source": [
    "model.get_topic_freq()"
   ]
  },
  {
   "cell_type": "code",
   "execution_count": 2,
   "metadata": {},
   "outputs": [],
   "source": [
    "model=BERTopic.load(\"../models/BERTopicFirstTry/BERTopicmodel\")"
   ]
  },
  {
   "cell_type": "code",
   "execution_count": 12,
   "metadata": {},
   "outputs": [
    {
     "ename": "AttributeError",
     "evalue": "'BERTopic' object has no attribute 'topics_'",
     "output_type": "error",
     "traceback": [
      "\u001b[0;31m---------------------------------------------------------------------------\u001b[0m",
      "\u001b[0;31mAttributeError\u001b[0m                            Traceback (most recent call last)",
      "\u001b[1;32m/Users/kiliansprenkamp/Library/CloudStorage/OneDrive-UniversitätZürichUZH/migrantZurich/ECIS-migrant-unsupervised/reports/BERTopic.ipynb Cell 5\u001b[0m in \u001b[0;36m<cell line: 1>\u001b[0;34m()\u001b[0m\n\u001b[0;32m----> <a href='vscode-notebook-cell:/Users/kiliansprenkamp/Library/CloudStorage/OneDrive-Universita%CC%88tZu%CC%88richUZH/migrantZurich/ECIS-migrant-unsupervised/reports/BERTopic.ipynb#W2sZmlsZQ%3D%3D?line=0'>1</a>\u001b[0m model\u001b[39m.\u001b[39mreduce_topics(docs\u001b[39m=\u001b[39mdata,topics\u001b[39m=\u001b[39mmodel\u001b[39m.\u001b[39;49mtopics_,nr_topics\u001b[39m=\u001b[39m\u001b[39m30\u001b[39m)\n",
      "\u001b[0;31mAttributeError\u001b[0m: 'BERTopic' object has no attribute 'topics_'"
     ]
    }
   ],
   "source": [
    "model.reduce_topics(docs=data,topics=model.topics_,nr_topics=30)"
   ]
  },
  {
   "cell_type": "code",
   "execution_count": null,
   "metadata": {},
   "outputs": [],
   "source": []
  }
 ],
 "metadata": {
  "kernelspec": {
   "display_name": "Python 3.9.13 ('telegram')",
   "language": "python",
   "name": "python3"
  },
  "language_info": {
   "codemirror_mode": {
    "name": "ipython",
    "version": 3
   },
   "file_extension": ".py",
   "mimetype": "text/x-python",
   "name": "python",
   "nbconvert_exporter": "python",
   "pygments_lexer": "ipython3",
   "version": "3.9.13"
  },
  "orig_nbformat": 4,
  "vscode": {
   "interpreter": {
    "hash": "d2386c381fab908a4e48f3c5849d193fc799b9f792c037a48abb7a588aa93a14"
   }
  }
 },
 "nbformat": 4,
 "nbformat_minor": 2
}
