{
 "cells": [
  {
   "cell_type": "code",
   "execution_count": 3,
   "metadata": {},
   "outputs": [],
   "source": [
    "from telethon import TelegramClient, events, sync\n",
    "import pandas as pd\n",
    "import asyncio\n",
    "import os\n",
    "from dotenv import load_dotenv\n",
    "load_dotenv() \n",
    "import datetime\n",
    "from tqdm import tqdm \n",
    "\n",
    "\n",
    "# These example values won't work. You must get your own api_id and\n",
    "# api_hash from https://my.telegram.org, under API Development.\n",
    "\n",
    "TELEGRAM_API_ID = os.getenv(\"TELEGRAM_API_ID\")\n",
    "TELEGRAM_API_HASH = os.getenv(\"TELEGRAM_API_HASH\")\n"
   ]
  },
  {
   "cell_type": "code",
   "execution_count": 9,
   "metadata": {},
   "outputs": [],
   "source": [
    "chat = 'https://t.me/StGallenUkraine'\n",
    "async with TelegramClient('testSession', TELEGRAM_API_ID, TELEGRAM_API_HASH) as client:\n",
    "    async for message in client.iter_messages(chat):\n",
    "        chatHttps.append(chat)\n",
    "        messageSender.append(message.sender_id)\n",
    "        messageText.append(message.text)\n",
    "        messageDatetime.append(message.date)"
   ]
  },
  {
   "cell_type": "code",
   "execution_count": 4,
   "metadata": {},
   "outputs": [],
   "source": [
    "chat = 'https://t.me/StGallenUkraine'\n",
    "messageElement = []\n",
    "chatHttps = []\n",
    "messageSender = []\n",
    "messageID = []\n",
    "messageReplyID = []\n",
    "messageText = []\n",
    "messageDatetime = []\n",
    "async with TelegramClient('testSession', TELEGRAM_API_ID, TELEGRAM_API_HASH) as client:\n",
    "    async for message in client.iter_messages(chat):\n",
    "        messageElement.append(message)\n",
    "        chatHttps.append(chat)\n",
    "        messageSender.append(message.sender_id)\n",
    "        messageID.append(message.id)\n",
    "        messageReplyID.append(message.reply_to_msg_id)\n",
    "        messageText.append(message.text)\n",
    "        messageDatetime.append(message.date)\n",
    "    df = pd.DataFrame({'chat':chatHttps, 'messageSender':messageSender, 'messageID':messageID,'messageReplyID':messageReplyID, 'messageDatetime':messageDatetime, 'messageText':messageText})\n",
    "        # # if not message.reply_to_msg_id\n",
    "        # print(message.id)\n",
    "        # print(message.reply_to_msg_id)"
   ]
  },
  {
   "cell_type": "code",
   "execution_count": 10,
   "metadata": {},
   "outputs": [
    {
     "name": "stdout",
     "output_type": "stream",
     "text": [
      "MessageReactions(results=[ReactionCount(reaction='👍', count=1, chosen=False)], min=False, can_see_list=True, recent_reactions=[MessagePeerReaction(peer_id=PeerUser(user_id=2118129538), reaction='👍', big=False, unread=False)])\n"
     ]
    }
   ],
   "source": [
    "print(messageElement[-2].reactions)"
   ]
  },
  {
   "cell_type": "code",
   "execution_count": 13,
   "metadata": {},
   "outputs": [
    {
     "name": "stdout",
     "output_type": "stream",
     "text": [
      "[<telethon.tl.types.ReactionCount object at 0x1675a6760>]\n"
     ]
    }
   ],
   "source": [
    "print(messageElement[-2].reactions.results)"
   ]
  },
  {
   "cell_type": "code",
   "execution_count": 1,
   "metadata": {},
   "outputs": [
    {
     "ename": "NameError",
     "evalue": "name 'df' is not defined",
     "output_type": "error",
     "traceback": [
      "\u001b[0;31m---------------------------------------------------------------------------\u001b[0m",
      "\u001b[0;31mNameError\u001b[0m                                 Traceback (most recent call last)",
      "\u001b[1;32m/Users/kiliansprenkamp/Desktop/OneDrive - Universität Zürich UZH/migrantZurich/unsupervised-migrant-telegram-analysis/reports/telethon_testing.ipynb Cell 5\u001b[0m in \u001b[0;36m<cell line: 1>\u001b[0;34m()\u001b[0m\n\u001b[0;32m----> <a href='vscode-notebook-cell:/Users/kiliansprenkamp/Desktop/OneDrive%20-%20Universit%C3%A4t%20Z%C3%BCrich%20UZH/migrantZurich/unsupervised-migrant-telegram-analysis/reports/telethon_testing.ipynb#W4sZmlsZQ%3D%3D?line=0'>1</a>\u001b[0m df\u001b[39m.\u001b[39mmessageReplyID\u001b[39m.\u001b[39mvalue_counts()\n",
      "\u001b[0;31mNameError\u001b[0m: name 'df' is not defined"
     ]
    }
   ],
   "source": [
    "df.messageReplyID.value_counts()"
   ]
  },
  {
   "cell_type": "code",
   "execution_count": null,
   "metadata": {},
   "outputs": [],
   "source": []
  }
 ],
 "metadata": {
  "kernelspec": {
   "display_name": "Python 3.9.13 ('telegram')",
   "language": "python",
   "name": "python3"
  },
  "language_info": {
   "codemirror_mode": {
    "name": "ipython",
    "version": 3
   },
   "file_extension": ".py",
   "mimetype": "text/x-python",
   "name": "python",
   "nbconvert_exporter": "python",
   "pygments_lexer": "ipython3",
   "version": "3.9.13"
  },
  "orig_nbformat": 4,
  "vscode": {
   "interpreter": {
    "hash": "d2386c381fab908a4e48f3c5849d193fc799b9f792c037a48abb7a588aa93a14"
   }
  }
 },
 "nbformat": 4,
 "nbformat_minor": 2
}
