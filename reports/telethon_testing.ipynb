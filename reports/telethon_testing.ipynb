{
 "cells": [
  {
   "cell_type": "code",
   "execution_count": 3,
   "metadata": {},
   "outputs": [],
   "source": [
    "from telethon import TelegramClient, events, sync\n",
    "import pandas as pd\n",
    "import asyncio\n",
    "import os\n",
    "from dotenv import load_dotenv\n",
    "load_dotenv() \n",
    "import datetime\n",
    "from tqdm import tqdm \n",
    "\n",
    "\n",
    "# These example values won't work. You must get your own api_id and\n",
    "# api_hash from https://my.telegram.org, under API Development.\n",
    "\n",
    "TELEGRAM_API_ID = os.getenv(\"TELEGRAM_API_ID\")\n",
    "TELEGRAM_API_HASH = os.getenv(\"TELEGRAM_API_HASH\")\n"
   ]
  },
  {
   "cell_type": "code",
   "execution_count": 2,
   "metadata": {},
   "outputs": [],
   "source": [
    "chat = 'https://t.me/StGallenUkraine'\n",
    "async with TelegramClient('testSession', TELEGRAM_API_ID, TELEGRAM_API_HASH) as client:\n",
    "    async for message in client.iter_messages(chat):\n",
    "        chatHttps.append(chat)\n",
    "        messageSender.append(message.sender_id)\n",
    "        messageText.append(message.text)\n",
    "        messageDatetime.append(message.date)"
   ]
  },
  {
   "cell_type": "code",
   "execution_count": 24,
   "metadata": {},
   "outputs": [],
   "source": [
    "chat = 'https://t.me/StGallenUkraine'\n",
    "chatHttps = []\n",
    "messageSender = []\n",
    "messageID = []\n",
    "messageReplyID = []\n",
    "messageText = []\n",
    "messageDatetime = []\n",
    "async with TelegramClient('testSession', TELEGRAM_API_ID, TELEGRAM_API_HASH) as client:\n",
    "    async for message in client.iter_messages(chat):\n",
    "        chatHttps.append(chat)\n",
    "        messageSender.append(message.sender_id)\n",
    "        messageID.append(message.id)\n",
    "        messageReplyID.append(message.reply_to_msg_id)\n",
    "        messageText.append(message.text)\n",
    "        messageDatetime.append(message.date)\n",
    "    df = pd.DataFrame({'chat':chatHttps, 'messageSender':messageSender, 'messageID':messageID,'messageReplyID':messageReplyID, 'messageDatetime':messageDatetime, 'messageText':messageText})\n",
    "        # # if not message.reply_to_msg_id\n",
    "        # print(message.id)\n",
    "        # print(message.reply_to_msg_id)"
   ]
  },
  {
   "cell_type": "code",
   "execution_count": 31,
   "metadata": {},
   "outputs": [
    {
     "data": {
      "text/plain": [
       "array(['DORSIN MARKET GMBH\\n078 728 45 50\\nhttps://goo.gl/maps/joDcibX7EzpER1qr8'],\n",
       "      dtype=object)"
      ]
     },
     "execution_count": 31,
     "metadata": {},
     "output_type": "execute_result"
    }
   ],
   "source": [
    "df[df.messageID==9195].messageText.values"
   ]
  },
  {
   "cell_type": "code",
   "execution_count": 28,
   "metadata": {},
   "outputs": [
    {
     "data": {
      "text/plain": [
       "9195.0     27\n",
       "19310.0    16\n",
       "7578.0     11\n",
       "205.0      10\n",
       "15344.0     9\n",
       "           ..\n",
       "13229.0     1\n",
       "13236.0     1\n",
       "13235.0     1\n",
       "13230.0     1\n",
       "11.0        1\n",
       "Name: messageReplyID, Length: 5023, dtype: int64"
      ]
     },
     "execution_count": 28,
     "metadata": {},
     "output_type": "execute_result"
    }
   ],
   "source": [
    "df.messageReplyID.value_counts()"
   ]
  },
  {
   "cell_type": "code",
   "execution_count": null,
   "metadata": {},
   "outputs": [],
   "source": []
  }
 ],
 "metadata": {
  "kernelspec": {
   "display_name": "Python 3.9.13 ('telegram')",
   "language": "python",
   "name": "python3"
  },
  "language_info": {
   "codemirror_mode": {
    "name": "ipython",
    "version": 3
   },
   "file_extension": ".py",
   "mimetype": "text/x-python",
   "name": "python",
   "nbconvert_exporter": "python",
   "pygments_lexer": "ipython3",
   "version": "3.9.13"
  },
  "orig_nbformat": 4,
  "vscode": {
   "interpreter": {
    "hash": "d2386c381fab908a4e48f3c5849d193fc799b9f792c037a48abb7a588aa93a14"
   }
  }
 },
 "nbformat": 4,
 "nbformat_minor": 2
}
