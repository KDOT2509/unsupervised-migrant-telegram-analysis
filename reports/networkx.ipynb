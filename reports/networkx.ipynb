{
 "cells": [
  {
   "cell_type": "code",
   "execution_count": 2,
   "metadata": {},
   "outputs": [],
   "source": [
    "import networkx as nx\n",
    "import pandas as pd\n",
    "import numpy as np\n",
    "from pyvis.network import Network"
   ]
  },
  {
   "cell_type": "code",
   "execution_count": 44,
   "metadata": {},
   "outputs": [],
   "source": [
    "df = pd.read_csv(\"../models/BERTopic100CharMin2500CharMax_10ClassesRedo/df.csv\")"
   ]
  },
  {
   "cell_type": "code",
   "execution_count": 47,
   "metadata": {},
   "outputs": [],
   "source": [
    "df['week']=df['messageDatetime'].apply(lambda x: pd.to_datetime(x).isocalendar()[1])"
   ]
  },
  {
   "cell_type": "code",
   "execution_count": 75,
   "metadata": {},
   "outputs": [
    {
     "name": "stderr",
     "output_type": "stream",
     "text": [
      "  0%|          | 194/262804 [05:32<125:04:31,  1.71s/it]\n"
     ]
    },
    {
     "ename": "KeyboardInterrupt",
     "evalue": "",
     "output_type": "error",
     "traceback": [
      "\u001b[0;31m---------------------------------------------------------------------------\u001b[0m",
      "\u001b[0;31mKeyboardInterrupt\u001b[0m                         Traceback (most recent call last)",
      "\u001b[1;32m/Users/kiliansprenkamp/Desktop/OneDrive - Universität Zürich UZH/migrantZurich/unsupervised-migrant-telegram-analysis/reports/networkx.ipynb Cell 4\u001b[0m in \u001b[0;36m<cell line: 21>\u001b[0;34m()\u001b[0m\n\u001b[1;32m     <a href='vscode-notebook-cell:/Users/kiliansprenkamp/Desktop/OneDrive%20-%20Universit%C3%A4t%20Z%C3%BCrich%20UZH/migrantZurich/unsupervised-migrant-telegram-analysis/reports/networkx.ipynb#X26sZmlsZQ%3D%3D?line=18'>19</a>\u001b[0m \u001b[39mfrom\u001b[39;00m \u001b[39mtqdm\u001b[39;00m \u001b[39mimport\u001b[39;00m tqdm\n\u001b[1;32m     <a href='vscode-notebook-cell:/Users/kiliansprenkamp/Desktop/OneDrive%20-%20Universit%C3%A4t%20Z%C3%BCrich%20UZH/migrantZurich/unsupervised-migrant-telegram-analysis/reports/networkx.ipynb#X26sZmlsZQ%3D%3D?line=19'>20</a>\u001b[0m tqdm\u001b[39m.\u001b[39mpandas()\n\u001b[0;32m---> <a href='vscode-notebook-cell:/Users/kiliansprenkamp/Desktop/OneDrive%20-%20Universit%C3%A4t%20Z%C3%BCrich%20UZH/migrantZurich/unsupervised-migrant-telegram-analysis/reports/networkx.ipynb#X26sZmlsZQ%3D%3D?line=20'>21</a>\u001b[0m df[\u001b[39m'\u001b[39m\u001b[39mmessageTextEnglish\u001b[39m\u001b[39m'\u001b[39m] \u001b[39m=\u001b[39m df[\u001b[39m'\u001b[39;49m\u001b[39mmessageText\u001b[39;49m\u001b[39m'\u001b[39;49m]\u001b[39m.\u001b[39;49mprogress_apply(\u001b[39mlambda\u001b[39;49;00m x: tokenizer\u001b[39m.\u001b[39;49mbatch_decode(model\u001b[39m.\u001b[39;49mgenerate(\u001b[39m*\u001b[39;49m\u001b[39m*\u001b[39;49mtokenizer([x], return_tensors\u001b[39m=\u001b[39;49m\u001b[39m\"\u001b[39;49m\u001b[39mpt\u001b[39;49m\u001b[39m\"\u001b[39;49m)), skip_special_tokens\u001b[39m=\u001b[39;49m\u001b[39mTrue\u001b[39;49;00m)[\u001b[39m0\u001b[39;49m])\n",
      "File \u001b[0;32m~/miniconda3/envs/telegram/lib/python3.9/site-packages/tqdm/std.py:814\u001b[0m, in \u001b[0;36mtqdm.pandas.<locals>.inner_generator.<locals>.inner\u001b[0;34m(df, func, *args, **kwargs)\u001b[0m\n\u001b[1;32m    811\u001b[0m \u001b[39m# Apply the provided function (in **kwargs)\u001b[39;00m\n\u001b[1;32m    812\u001b[0m \u001b[39m# on the df using our wrapper (which provides bar updating)\u001b[39;00m\n\u001b[1;32m    813\u001b[0m \u001b[39mtry\u001b[39;00m:\n\u001b[0;32m--> 814\u001b[0m     \u001b[39mreturn\u001b[39;00m \u001b[39mgetattr\u001b[39;49m(df, df_function)(wrapper, \u001b[39m*\u001b[39;49m\u001b[39m*\u001b[39;49mkwargs)\n\u001b[1;32m    815\u001b[0m \u001b[39mfinally\u001b[39;00m:\n\u001b[1;32m    816\u001b[0m     t\u001b[39m.\u001b[39mclose()\n",
      "File \u001b[0;32m~/miniconda3/envs/telegram/lib/python3.9/site-packages/pandas/core/series.py:4357\u001b[0m, in \u001b[0;36mSeries.apply\u001b[0;34m(self, func, convert_dtype, args, **kwargs)\u001b[0m\n\u001b[1;32m   4247\u001b[0m \u001b[39mdef\u001b[39;00m \u001b[39mapply\u001b[39m(\n\u001b[1;32m   4248\u001b[0m     \u001b[39mself\u001b[39m,\n\u001b[1;32m   4249\u001b[0m     func: AggFuncType,\n\u001b[0;32m   (...)\u001b[0m\n\u001b[1;32m   4252\u001b[0m     \u001b[39m*\u001b[39m\u001b[39m*\u001b[39mkwargs,\n\u001b[1;32m   4253\u001b[0m ) \u001b[39m-\u001b[39m\u001b[39m>\u001b[39m FrameOrSeriesUnion:\n\u001b[1;32m   4254\u001b[0m     \u001b[39m\"\"\"\u001b[39;00m\n\u001b[1;32m   4255\u001b[0m \u001b[39m    Invoke function on values of Series.\u001b[39;00m\n\u001b[1;32m   4256\u001b[0m \n\u001b[0;32m   (...)\u001b[0m\n\u001b[1;32m   4355\u001b[0m \u001b[39m    dtype: float64\u001b[39;00m\n\u001b[1;32m   4356\u001b[0m \u001b[39m    \"\"\"\u001b[39;00m\n\u001b[0;32m-> 4357\u001b[0m     \u001b[39mreturn\u001b[39;00m SeriesApply(\u001b[39mself\u001b[39;49m, func, convert_dtype, args, kwargs)\u001b[39m.\u001b[39;49mapply()\n",
      "File \u001b[0;32m~/miniconda3/envs/telegram/lib/python3.9/site-packages/pandas/core/apply.py:1043\u001b[0m, in \u001b[0;36mSeriesApply.apply\u001b[0;34m(self)\u001b[0m\n\u001b[1;32m   1039\u001b[0m \u001b[39mif\u001b[39;00m \u001b[39misinstance\u001b[39m(\u001b[39mself\u001b[39m\u001b[39m.\u001b[39mf, \u001b[39mstr\u001b[39m):\n\u001b[1;32m   1040\u001b[0m     \u001b[39m# if we are a string, try to dispatch\u001b[39;00m\n\u001b[1;32m   1041\u001b[0m     \u001b[39mreturn\u001b[39;00m \u001b[39mself\u001b[39m\u001b[39m.\u001b[39mapply_str()\n\u001b[0;32m-> 1043\u001b[0m \u001b[39mreturn\u001b[39;00m \u001b[39mself\u001b[39;49m\u001b[39m.\u001b[39;49mapply_standard()\n",
      "File \u001b[0;32m~/miniconda3/envs/telegram/lib/python3.9/site-packages/pandas/core/apply.py:1098\u001b[0m, in \u001b[0;36mSeriesApply.apply_standard\u001b[0;34m(self)\u001b[0m\n\u001b[1;32m   1092\u001b[0m         values \u001b[39m=\u001b[39m obj\u001b[39m.\u001b[39mastype(\u001b[39mobject\u001b[39m)\u001b[39m.\u001b[39m_values\n\u001b[1;32m   1093\u001b[0m         \u001b[39m# error: Argument 2 to \"map_infer\" has incompatible type\u001b[39;00m\n\u001b[1;32m   1094\u001b[0m         \u001b[39m# \"Union[Callable[..., Any], str, List[Union[Callable[..., Any], str]],\u001b[39;00m\n\u001b[1;32m   1095\u001b[0m         \u001b[39m# Dict[Hashable, Union[Union[Callable[..., Any], str],\u001b[39;00m\n\u001b[1;32m   1096\u001b[0m         \u001b[39m# List[Union[Callable[..., Any], str]]]]]\"; expected\u001b[39;00m\n\u001b[1;32m   1097\u001b[0m         \u001b[39m# \"Callable[[Any], Any]\"\u001b[39;00m\n\u001b[0;32m-> 1098\u001b[0m         mapped \u001b[39m=\u001b[39m lib\u001b[39m.\u001b[39;49mmap_infer(\n\u001b[1;32m   1099\u001b[0m             values,\n\u001b[1;32m   1100\u001b[0m             f,  \u001b[39m# type: ignore[arg-type]\u001b[39;49;00m\n\u001b[1;32m   1101\u001b[0m             convert\u001b[39m=\u001b[39;49m\u001b[39mself\u001b[39;49m\u001b[39m.\u001b[39;49mconvert_dtype,\n\u001b[1;32m   1102\u001b[0m         )\n\u001b[1;32m   1104\u001b[0m \u001b[39mif\u001b[39;00m \u001b[39mlen\u001b[39m(mapped) \u001b[39mand\u001b[39;00m \u001b[39misinstance\u001b[39m(mapped[\u001b[39m0\u001b[39m], ABCSeries):\n\u001b[1;32m   1105\u001b[0m     \u001b[39m# GH 25959 use pd.array instead of tolist\u001b[39;00m\n\u001b[1;32m   1106\u001b[0m     \u001b[39m# so extension arrays can be used\u001b[39;00m\n\u001b[1;32m   1107\u001b[0m     \u001b[39mreturn\u001b[39;00m obj\u001b[39m.\u001b[39m_constructor_expanddim(pd_array(mapped), index\u001b[39m=\u001b[39mobj\u001b[39m.\u001b[39mindex)\n",
      "File \u001b[0;32m~/miniconda3/envs/telegram/lib/python3.9/site-packages/pandas/_libs/lib.pyx:2859\u001b[0m, in \u001b[0;36mpandas._libs.lib.map_infer\u001b[0;34m()\u001b[0m\n",
      "File \u001b[0;32m~/miniconda3/envs/telegram/lib/python3.9/site-packages/tqdm/std.py:809\u001b[0m, in \u001b[0;36mtqdm.pandas.<locals>.inner_generator.<locals>.inner.<locals>.wrapper\u001b[0;34m(*args, **kwargs)\u001b[0m\n\u001b[1;32m    803\u001b[0m \u001b[39mdef\u001b[39;00m \u001b[39mwrapper\u001b[39m(\u001b[39m*\u001b[39margs, \u001b[39m*\u001b[39m\u001b[39m*\u001b[39mkwargs):\n\u001b[1;32m    804\u001b[0m     \u001b[39m# update tbar correctly\u001b[39;00m\n\u001b[1;32m    805\u001b[0m     \u001b[39m# it seems `pandas apply` calls `func` twice\u001b[39;00m\n\u001b[1;32m    806\u001b[0m     \u001b[39m# on the first column/row to decide whether it can\u001b[39;00m\n\u001b[1;32m    807\u001b[0m     \u001b[39m# take a fast or slow code path; so stop when t.total==t.n\u001b[39;00m\n\u001b[1;32m    808\u001b[0m     t\u001b[39m.\u001b[39mupdate(n\u001b[39m=\u001b[39m\u001b[39m1\u001b[39m \u001b[39mif\u001b[39;00m \u001b[39mnot\u001b[39;00m t\u001b[39m.\u001b[39mtotal \u001b[39mor\u001b[39;00m t\u001b[39m.\u001b[39mn \u001b[39m<\u001b[39m t\u001b[39m.\u001b[39mtotal \u001b[39melse\u001b[39;00m \u001b[39m0\u001b[39m)\n\u001b[0;32m--> 809\u001b[0m     \u001b[39mreturn\u001b[39;00m func(\u001b[39m*\u001b[39;49margs, \u001b[39m*\u001b[39;49m\u001b[39m*\u001b[39;49mkwargs)\n",
      "\u001b[1;32m/Users/kiliansprenkamp/Desktop/OneDrive - Universität Zürich UZH/migrantZurich/unsupervised-migrant-telegram-analysis/reports/networkx.ipynb Cell 4\u001b[0m in \u001b[0;36m<lambda>\u001b[0;34m(x)\u001b[0m\n\u001b[1;32m     <a href='vscode-notebook-cell:/Users/kiliansprenkamp/Desktop/OneDrive%20-%20Universit%C3%A4t%20Z%C3%BCrich%20UZH/migrantZurich/unsupervised-migrant-telegram-analysis/reports/networkx.ipynb#X26sZmlsZQ%3D%3D?line=18'>19</a>\u001b[0m \u001b[39mfrom\u001b[39;00m \u001b[39mtqdm\u001b[39;00m \u001b[39mimport\u001b[39;00m tqdm\n\u001b[1;32m     <a href='vscode-notebook-cell:/Users/kiliansprenkamp/Desktop/OneDrive%20-%20Universit%C3%A4t%20Z%C3%BCrich%20UZH/migrantZurich/unsupervised-migrant-telegram-analysis/reports/networkx.ipynb#X26sZmlsZQ%3D%3D?line=19'>20</a>\u001b[0m tqdm\u001b[39m.\u001b[39mpandas()\n\u001b[0;32m---> <a href='vscode-notebook-cell:/Users/kiliansprenkamp/Desktop/OneDrive%20-%20Universit%C3%A4t%20Z%C3%BCrich%20UZH/migrantZurich/unsupervised-migrant-telegram-analysis/reports/networkx.ipynb#X26sZmlsZQ%3D%3D?line=20'>21</a>\u001b[0m df[\u001b[39m'\u001b[39m\u001b[39mmessageTextEnglish\u001b[39m\u001b[39m'\u001b[39m] \u001b[39m=\u001b[39m df[\u001b[39m'\u001b[39m\u001b[39mmessageText\u001b[39m\u001b[39m'\u001b[39m]\u001b[39m.\u001b[39mprogress_apply(\u001b[39mlambda\u001b[39;00m x: tokenizer\u001b[39m.\u001b[39mbatch_decode(model\u001b[39m.\u001b[39;49mgenerate(\u001b[39m*\u001b[39;49m\u001b[39m*\u001b[39;49mtokenizer([x], return_tensors\u001b[39m=\u001b[39;49m\u001b[39m\"\u001b[39;49m\u001b[39mpt\u001b[39;49m\u001b[39m\"\u001b[39;49m)), skip_special_tokens\u001b[39m=\u001b[39m\u001b[39mTrue\u001b[39;00m)[\u001b[39m0\u001b[39m])\n",
      "File \u001b[0;32m~/miniconda3/envs/telegram/lib/python3.9/site-packages/torch/autograd/grad_mode.py:28\u001b[0m, in \u001b[0;36m_DecoratorContextManager.__call__.<locals>.decorate_context\u001b[0;34m(*args, **kwargs)\u001b[0m\n\u001b[1;32m     25\u001b[0m \u001b[39m@functools\u001b[39m\u001b[39m.\u001b[39mwraps(func)\n\u001b[1;32m     26\u001b[0m \u001b[39mdef\u001b[39;00m \u001b[39mdecorate_context\u001b[39m(\u001b[39m*\u001b[39margs, \u001b[39m*\u001b[39m\u001b[39m*\u001b[39mkwargs):\n\u001b[1;32m     27\u001b[0m     \u001b[39mwith\u001b[39;00m \u001b[39mself\u001b[39m\u001b[39m.\u001b[39m\u001b[39m__class__\u001b[39m():\n\u001b[0;32m---> 28\u001b[0m         \u001b[39mreturn\u001b[39;00m func(\u001b[39m*\u001b[39;49margs, \u001b[39m*\u001b[39;49m\u001b[39m*\u001b[39;49mkwargs)\n",
      "File \u001b[0;32m~/miniconda3/envs/telegram/lib/python3.9/site-packages/transformers/generation_utils.py:1354\u001b[0m, in \u001b[0;36mGenerationMixin.generate\u001b[0;34m(self, inputs, max_length, min_length, do_sample, early_stopping, num_beams, temperature, top_k, top_p, typical_p, repetition_penalty, bad_words_ids, force_words_ids, bos_token_id, pad_token_id, eos_token_id, length_penalty, no_repeat_ngram_size, encoder_no_repeat_ngram_size, num_return_sequences, max_time, max_new_tokens, decoder_start_token_id, use_cache, num_beam_groups, diversity_penalty, prefix_allowed_tokens_fn, logits_processor, renormalize_logits, stopping_criteria, constraints, output_attentions, output_hidden_states, output_scores, return_dict_in_generate, forced_bos_token_id, forced_eos_token_id, remove_invalid_values, synced_gpus, exponential_decay_length_penalty, **model_kwargs)\u001b[0m\n\u001b[1;32m   1350\u001b[0m     input_ids, model_kwargs \u001b[39m=\u001b[39m \u001b[39mself\u001b[39m\u001b[39m.\u001b[39m_expand_inputs_for_generation(\n\u001b[1;32m   1351\u001b[0m         input_ids, expand_size\u001b[39m=\u001b[39mnum_beams, is_encoder_decoder\u001b[39m=\u001b[39m\u001b[39mself\u001b[39m\u001b[39m.\u001b[39mconfig\u001b[39m.\u001b[39mis_encoder_decoder, \u001b[39m*\u001b[39m\u001b[39m*\u001b[39mmodel_kwargs\n\u001b[1;32m   1352\u001b[0m     )\n\u001b[1;32m   1353\u001b[0m     \u001b[39m# 12. run beam search\u001b[39;00m\n\u001b[0;32m-> 1354\u001b[0m     \u001b[39mreturn\u001b[39;00m \u001b[39mself\u001b[39;49m\u001b[39m.\u001b[39;49mbeam_search(\n\u001b[1;32m   1355\u001b[0m         input_ids,\n\u001b[1;32m   1356\u001b[0m         beam_scorer,\n\u001b[1;32m   1357\u001b[0m         logits_processor\u001b[39m=\u001b[39;49mlogits_processor,\n\u001b[1;32m   1358\u001b[0m         stopping_criteria\u001b[39m=\u001b[39;49mstopping_criteria,\n\u001b[1;32m   1359\u001b[0m         pad_token_id\u001b[39m=\u001b[39;49mpad_token_id,\n\u001b[1;32m   1360\u001b[0m         eos_token_id\u001b[39m=\u001b[39;49meos_token_id,\n\u001b[1;32m   1361\u001b[0m         output_scores\u001b[39m=\u001b[39;49moutput_scores,\n\u001b[1;32m   1362\u001b[0m         return_dict_in_generate\u001b[39m=\u001b[39;49mreturn_dict_in_generate,\n\u001b[1;32m   1363\u001b[0m         synced_gpus\u001b[39m=\u001b[39;49msynced_gpus,\n\u001b[1;32m   1364\u001b[0m         \u001b[39m*\u001b[39;49m\u001b[39m*\u001b[39;49mmodel_kwargs,\n\u001b[1;32m   1365\u001b[0m     )\n\u001b[1;32m   1367\u001b[0m \u001b[39melif\u001b[39;00m is_beam_sample_gen_mode:\n\u001b[1;32m   1368\u001b[0m     \u001b[39m# 10. prepare logits warper\u001b[39;00m\n\u001b[1;32m   1369\u001b[0m     logits_warper \u001b[39m=\u001b[39m \u001b[39mself\u001b[39m\u001b[39m.\u001b[39m_get_logits_warper(\n\u001b[1;32m   1370\u001b[0m         top_k\u001b[39m=\u001b[39mtop_k,\n\u001b[1;32m   1371\u001b[0m         top_p\u001b[39m=\u001b[39mtop_p,\n\u001b[0;32m   (...)\u001b[0m\n\u001b[1;32m   1375\u001b[0m         renormalize_logits\u001b[39m=\u001b[39mrenormalize_logits,\n\u001b[1;32m   1376\u001b[0m     )\n",
      "File \u001b[0;32m~/miniconda3/envs/telegram/lib/python3.9/site-packages/transformers/generation_utils.py:2205\u001b[0m, in \u001b[0;36mGenerationMixin.beam_search\u001b[0;34m(self, input_ids, beam_scorer, logits_processor, stopping_criteria, max_length, pad_token_id, eos_token_id, output_attentions, output_hidden_states, output_scores, return_dict_in_generate, synced_gpus, **model_kwargs)\u001b[0m\n\u001b[1;32m   2201\u001b[0m         \u001b[39mbreak\u001b[39;00m\n\u001b[1;32m   2203\u001b[0m model_inputs \u001b[39m=\u001b[39m \u001b[39mself\u001b[39m\u001b[39m.\u001b[39mprepare_inputs_for_generation(input_ids, \u001b[39m*\u001b[39m\u001b[39m*\u001b[39mmodel_kwargs)\n\u001b[0;32m-> 2205\u001b[0m outputs \u001b[39m=\u001b[39m \u001b[39mself\u001b[39;49m(\n\u001b[1;32m   2206\u001b[0m     \u001b[39m*\u001b[39;49m\u001b[39m*\u001b[39;49mmodel_inputs,\n\u001b[1;32m   2207\u001b[0m     return_dict\u001b[39m=\u001b[39;49m\u001b[39mTrue\u001b[39;49;00m,\n\u001b[1;32m   2208\u001b[0m     output_attentions\u001b[39m=\u001b[39;49moutput_attentions,\n\u001b[1;32m   2209\u001b[0m     output_hidden_states\u001b[39m=\u001b[39;49moutput_hidden_states,\n\u001b[1;32m   2210\u001b[0m )\n\u001b[1;32m   2212\u001b[0m \u001b[39mif\u001b[39;00m synced_gpus \u001b[39mand\u001b[39;00m this_peer_finished:\n\u001b[1;32m   2213\u001b[0m     cur_len \u001b[39m=\u001b[39m cur_len \u001b[39m+\u001b[39m \u001b[39m1\u001b[39m\n",
      "File \u001b[0;32m~/miniconda3/envs/telegram/lib/python3.9/site-packages/torch/nn/modules/module.py:1102\u001b[0m, in \u001b[0;36mModule._call_impl\u001b[0;34m(self, *input, **kwargs)\u001b[0m\n\u001b[1;32m   1098\u001b[0m \u001b[39m# If we don't have any hooks, we want to skip the rest of the logic in\u001b[39;00m\n\u001b[1;32m   1099\u001b[0m \u001b[39m# this function, and just call forward.\u001b[39;00m\n\u001b[1;32m   1100\u001b[0m \u001b[39mif\u001b[39;00m \u001b[39mnot\u001b[39;00m (\u001b[39mself\u001b[39m\u001b[39m.\u001b[39m_backward_hooks \u001b[39mor\u001b[39;00m \u001b[39mself\u001b[39m\u001b[39m.\u001b[39m_forward_hooks \u001b[39mor\u001b[39;00m \u001b[39mself\u001b[39m\u001b[39m.\u001b[39m_forward_pre_hooks \u001b[39mor\u001b[39;00m _global_backward_hooks\n\u001b[1;32m   1101\u001b[0m         \u001b[39mor\u001b[39;00m _global_forward_hooks \u001b[39mor\u001b[39;00m _global_forward_pre_hooks):\n\u001b[0;32m-> 1102\u001b[0m     \u001b[39mreturn\u001b[39;00m forward_call(\u001b[39m*\u001b[39;49m\u001b[39minput\u001b[39;49m, \u001b[39m*\u001b[39;49m\u001b[39m*\u001b[39;49mkwargs)\n\u001b[1;32m   1103\u001b[0m \u001b[39m# Do not call functions when jit is used\u001b[39;00m\n\u001b[1;32m   1104\u001b[0m full_backward_hooks, non_full_backward_hooks \u001b[39m=\u001b[39m [], []\n",
      "File \u001b[0;32m~/miniconda3/envs/telegram/lib/python3.9/site-packages/transformers/models/marian/modeling_marian.py:1438\u001b[0m, in \u001b[0;36mMarianMTModel.forward\u001b[0;34m(self, input_ids, attention_mask, decoder_input_ids, decoder_attention_mask, head_mask, decoder_head_mask, cross_attn_head_mask, encoder_outputs, past_key_values, inputs_embeds, decoder_inputs_embeds, labels, use_cache, output_attentions, output_hidden_states, return_dict)\u001b[0m\n\u001b[1;32m   1433\u001b[0m     \u001b[39mif\u001b[39;00m decoder_input_ids \u001b[39mis\u001b[39;00m \u001b[39mNone\u001b[39;00m:\n\u001b[1;32m   1434\u001b[0m         decoder_input_ids \u001b[39m=\u001b[39m shift_tokens_right(\n\u001b[1;32m   1435\u001b[0m             labels, \u001b[39mself\u001b[39m\u001b[39m.\u001b[39mconfig\u001b[39m.\u001b[39mpad_token_id, \u001b[39mself\u001b[39m\u001b[39m.\u001b[39mconfig\u001b[39m.\u001b[39mdecoder_start_token_id\n\u001b[1;32m   1436\u001b[0m         )\n\u001b[0;32m-> 1438\u001b[0m outputs \u001b[39m=\u001b[39m \u001b[39mself\u001b[39;49m\u001b[39m.\u001b[39;49mmodel(\n\u001b[1;32m   1439\u001b[0m     input_ids,\n\u001b[1;32m   1440\u001b[0m     attention_mask\u001b[39m=\u001b[39;49mattention_mask,\n\u001b[1;32m   1441\u001b[0m     decoder_input_ids\u001b[39m=\u001b[39;49mdecoder_input_ids,\n\u001b[1;32m   1442\u001b[0m     encoder_outputs\u001b[39m=\u001b[39;49mencoder_outputs,\n\u001b[1;32m   1443\u001b[0m     decoder_attention_mask\u001b[39m=\u001b[39;49mdecoder_attention_mask,\n\u001b[1;32m   1444\u001b[0m     head_mask\u001b[39m=\u001b[39;49mhead_mask,\n\u001b[1;32m   1445\u001b[0m     decoder_head_mask\u001b[39m=\u001b[39;49mdecoder_head_mask,\n\u001b[1;32m   1446\u001b[0m     cross_attn_head_mask\u001b[39m=\u001b[39;49mcross_attn_head_mask,\n\u001b[1;32m   1447\u001b[0m     past_key_values\u001b[39m=\u001b[39;49mpast_key_values,\n\u001b[1;32m   1448\u001b[0m     inputs_embeds\u001b[39m=\u001b[39;49minputs_embeds,\n\u001b[1;32m   1449\u001b[0m     decoder_inputs_embeds\u001b[39m=\u001b[39;49mdecoder_inputs_embeds,\n\u001b[1;32m   1450\u001b[0m     use_cache\u001b[39m=\u001b[39;49muse_cache,\n\u001b[1;32m   1451\u001b[0m     output_attentions\u001b[39m=\u001b[39;49moutput_attentions,\n\u001b[1;32m   1452\u001b[0m     output_hidden_states\u001b[39m=\u001b[39;49moutput_hidden_states,\n\u001b[1;32m   1453\u001b[0m     return_dict\u001b[39m=\u001b[39;49mreturn_dict,\n\u001b[1;32m   1454\u001b[0m )\n\u001b[1;32m   1455\u001b[0m lm_logits \u001b[39m=\u001b[39m \u001b[39mself\u001b[39m\u001b[39m.\u001b[39mlm_head(outputs[\u001b[39m0\u001b[39m]) \u001b[39m+\u001b[39m \u001b[39mself\u001b[39m\u001b[39m.\u001b[39mfinal_logits_bias\n\u001b[1;32m   1457\u001b[0m masked_lm_loss \u001b[39m=\u001b[39m \u001b[39mNone\u001b[39;00m\n",
      "File \u001b[0;32m~/miniconda3/envs/telegram/lib/python3.9/site-packages/torch/nn/modules/module.py:1102\u001b[0m, in \u001b[0;36mModule._call_impl\u001b[0;34m(self, *input, **kwargs)\u001b[0m\n\u001b[1;32m   1098\u001b[0m \u001b[39m# If we don't have any hooks, we want to skip the rest of the logic in\u001b[39;00m\n\u001b[1;32m   1099\u001b[0m \u001b[39m# this function, and just call forward.\u001b[39;00m\n\u001b[1;32m   1100\u001b[0m \u001b[39mif\u001b[39;00m \u001b[39mnot\u001b[39;00m (\u001b[39mself\u001b[39m\u001b[39m.\u001b[39m_backward_hooks \u001b[39mor\u001b[39;00m \u001b[39mself\u001b[39m\u001b[39m.\u001b[39m_forward_hooks \u001b[39mor\u001b[39;00m \u001b[39mself\u001b[39m\u001b[39m.\u001b[39m_forward_pre_hooks \u001b[39mor\u001b[39;00m _global_backward_hooks\n\u001b[1;32m   1101\u001b[0m         \u001b[39mor\u001b[39;00m _global_forward_hooks \u001b[39mor\u001b[39;00m _global_forward_pre_hooks):\n\u001b[0;32m-> 1102\u001b[0m     \u001b[39mreturn\u001b[39;00m forward_call(\u001b[39m*\u001b[39;49m\u001b[39minput\u001b[39;49m, \u001b[39m*\u001b[39;49m\u001b[39m*\u001b[39;49mkwargs)\n\u001b[1;32m   1103\u001b[0m \u001b[39m# Do not call functions when jit is used\u001b[39;00m\n\u001b[1;32m   1104\u001b[0m full_backward_hooks, non_full_backward_hooks \u001b[39m=\u001b[39m [], []\n",
      "File \u001b[0;32m~/miniconda3/envs/telegram/lib/python3.9/site-packages/transformers/models/marian/modeling_marian.py:1238\u001b[0m, in \u001b[0;36mMarianModel.forward\u001b[0;34m(self, input_ids, attention_mask, decoder_input_ids, decoder_attention_mask, head_mask, decoder_head_mask, cross_attn_head_mask, encoder_outputs, past_key_values, inputs_embeds, decoder_inputs_embeds, use_cache, output_attentions, output_hidden_states, return_dict)\u001b[0m\n\u001b[1;32m   1231\u001b[0m     encoder_outputs \u001b[39m=\u001b[39m BaseModelOutput(\n\u001b[1;32m   1232\u001b[0m         last_hidden_state\u001b[39m=\u001b[39mencoder_outputs[\u001b[39m0\u001b[39m],\n\u001b[1;32m   1233\u001b[0m         hidden_states\u001b[39m=\u001b[39mencoder_outputs[\u001b[39m1\u001b[39m] \u001b[39mif\u001b[39;00m \u001b[39mlen\u001b[39m(encoder_outputs) \u001b[39m>\u001b[39m \u001b[39m1\u001b[39m \u001b[39melse\u001b[39;00m \u001b[39mNone\u001b[39;00m,\n\u001b[1;32m   1234\u001b[0m         attentions\u001b[39m=\u001b[39mencoder_outputs[\u001b[39m2\u001b[39m] \u001b[39mif\u001b[39;00m \u001b[39mlen\u001b[39m(encoder_outputs) \u001b[39m>\u001b[39m \u001b[39m2\u001b[39m \u001b[39melse\u001b[39;00m \u001b[39mNone\u001b[39;00m,\n\u001b[1;32m   1235\u001b[0m     )\n\u001b[1;32m   1237\u001b[0m \u001b[39m# decoder outputs consists of (dec_features, past_key_value, dec_hidden, dec_attn)\u001b[39;00m\n\u001b[0;32m-> 1238\u001b[0m decoder_outputs \u001b[39m=\u001b[39m \u001b[39mself\u001b[39;49m\u001b[39m.\u001b[39;49mdecoder(\n\u001b[1;32m   1239\u001b[0m     input_ids\u001b[39m=\u001b[39;49mdecoder_input_ids,\n\u001b[1;32m   1240\u001b[0m     attention_mask\u001b[39m=\u001b[39;49mdecoder_attention_mask,\n\u001b[1;32m   1241\u001b[0m     encoder_hidden_states\u001b[39m=\u001b[39;49mencoder_outputs[\u001b[39m0\u001b[39;49m],\n\u001b[1;32m   1242\u001b[0m     encoder_attention_mask\u001b[39m=\u001b[39;49mattention_mask,\n\u001b[1;32m   1243\u001b[0m     head_mask\u001b[39m=\u001b[39;49mdecoder_head_mask,\n\u001b[1;32m   1244\u001b[0m     cross_attn_head_mask\u001b[39m=\u001b[39;49mcross_attn_head_mask,\n\u001b[1;32m   1245\u001b[0m     past_key_values\u001b[39m=\u001b[39;49mpast_key_values,\n\u001b[1;32m   1246\u001b[0m     inputs_embeds\u001b[39m=\u001b[39;49mdecoder_inputs_embeds,\n\u001b[1;32m   1247\u001b[0m     use_cache\u001b[39m=\u001b[39;49muse_cache,\n\u001b[1;32m   1248\u001b[0m     output_attentions\u001b[39m=\u001b[39;49moutput_attentions,\n\u001b[1;32m   1249\u001b[0m     output_hidden_states\u001b[39m=\u001b[39;49moutput_hidden_states,\n\u001b[1;32m   1250\u001b[0m     return_dict\u001b[39m=\u001b[39;49mreturn_dict,\n\u001b[1;32m   1251\u001b[0m )\n\u001b[1;32m   1253\u001b[0m \u001b[39mif\u001b[39;00m \u001b[39mnot\u001b[39;00m return_dict:\n\u001b[1;32m   1254\u001b[0m     \u001b[39mreturn\u001b[39;00m decoder_outputs \u001b[39m+\u001b[39m encoder_outputs\n",
      "File \u001b[0;32m~/miniconda3/envs/telegram/lib/python3.9/site-packages/torch/nn/modules/module.py:1102\u001b[0m, in \u001b[0;36mModule._call_impl\u001b[0;34m(self, *input, **kwargs)\u001b[0m\n\u001b[1;32m   1098\u001b[0m \u001b[39m# If we don't have any hooks, we want to skip the rest of the logic in\u001b[39;00m\n\u001b[1;32m   1099\u001b[0m \u001b[39m# this function, and just call forward.\u001b[39;00m\n\u001b[1;32m   1100\u001b[0m \u001b[39mif\u001b[39;00m \u001b[39mnot\u001b[39;00m (\u001b[39mself\u001b[39m\u001b[39m.\u001b[39m_backward_hooks \u001b[39mor\u001b[39;00m \u001b[39mself\u001b[39m\u001b[39m.\u001b[39m_forward_hooks \u001b[39mor\u001b[39;00m \u001b[39mself\u001b[39m\u001b[39m.\u001b[39m_forward_pre_hooks \u001b[39mor\u001b[39;00m _global_backward_hooks\n\u001b[1;32m   1101\u001b[0m         \u001b[39mor\u001b[39;00m _global_forward_hooks \u001b[39mor\u001b[39;00m _global_forward_pre_hooks):\n\u001b[0;32m-> 1102\u001b[0m     \u001b[39mreturn\u001b[39;00m forward_call(\u001b[39m*\u001b[39;49m\u001b[39minput\u001b[39;49m, \u001b[39m*\u001b[39;49m\u001b[39m*\u001b[39;49mkwargs)\n\u001b[1;32m   1103\u001b[0m \u001b[39m# Do not call functions when jit is used\u001b[39;00m\n\u001b[1;32m   1104\u001b[0m full_backward_hooks, non_full_backward_hooks \u001b[39m=\u001b[39m [], []\n",
      "File \u001b[0;32m~/miniconda3/envs/telegram/lib/python3.9/site-packages/transformers/models/marian/modeling_marian.py:1040\u001b[0m, in \u001b[0;36mMarianDecoder.forward\u001b[0;34m(self, input_ids, attention_mask, encoder_hidden_states, encoder_attention_mask, head_mask, cross_attn_head_mask, past_key_values, inputs_embeds, use_cache, output_attentions, output_hidden_states, return_dict)\u001b[0m\n\u001b[1;32m   1028\u001b[0m     layer_outputs \u001b[39m=\u001b[39m torch\u001b[39m.\u001b[39mutils\u001b[39m.\u001b[39mcheckpoint\u001b[39m.\u001b[39mcheckpoint(\n\u001b[1;32m   1029\u001b[0m         create_custom_forward(decoder_layer),\n\u001b[1;32m   1030\u001b[0m         hidden_states,\n\u001b[0;32m   (...)\u001b[0m\n\u001b[1;32m   1036\u001b[0m         \u001b[39mNone\u001b[39;00m,\n\u001b[1;32m   1037\u001b[0m     )\n\u001b[1;32m   1038\u001b[0m \u001b[39melse\u001b[39;00m:\n\u001b[0;32m-> 1040\u001b[0m     layer_outputs \u001b[39m=\u001b[39m decoder_layer(\n\u001b[1;32m   1041\u001b[0m         hidden_states,\n\u001b[1;32m   1042\u001b[0m         attention_mask\u001b[39m=\u001b[39;49mattention_mask,\n\u001b[1;32m   1043\u001b[0m         encoder_hidden_states\u001b[39m=\u001b[39;49mencoder_hidden_states,\n\u001b[1;32m   1044\u001b[0m         encoder_attention_mask\u001b[39m=\u001b[39;49mencoder_attention_mask,\n\u001b[1;32m   1045\u001b[0m         layer_head_mask\u001b[39m=\u001b[39;49m(head_mask[idx] \u001b[39mif\u001b[39;49;00m head_mask \u001b[39mis\u001b[39;49;00m \u001b[39mnot\u001b[39;49;00m \u001b[39mNone\u001b[39;49;00m \u001b[39melse\u001b[39;49;00m \u001b[39mNone\u001b[39;49;00m),\n\u001b[1;32m   1046\u001b[0m         cross_attn_layer_head_mask\u001b[39m=\u001b[39;49m(\n\u001b[1;32m   1047\u001b[0m             cross_attn_head_mask[idx] \u001b[39mif\u001b[39;49;00m cross_attn_head_mask \u001b[39mis\u001b[39;49;00m \u001b[39mnot\u001b[39;49;00m \u001b[39mNone\u001b[39;49;00m \u001b[39melse\u001b[39;49;00m \u001b[39mNone\u001b[39;49;00m\n\u001b[1;32m   1048\u001b[0m         ),\n\u001b[1;32m   1049\u001b[0m         past_key_value\u001b[39m=\u001b[39;49mpast_key_value,\n\u001b[1;32m   1050\u001b[0m         output_attentions\u001b[39m=\u001b[39;49moutput_attentions,\n\u001b[1;32m   1051\u001b[0m         use_cache\u001b[39m=\u001b[39;49muse_cache,\n\u001b[1;32m   1052\u001b[0m     )\n\u001b[1;32m   1053\u001b[0m hidden_states \u001b[39m=\u001b[39m layer_outputs[\u001b[39m0\u001b[39m]\n\u001b[1;32m   1055\u001b[0m \u001b[39mif\u001b[39;00m use_cache:\n",
      "File \u001b[0;32m~/miniconda3/envs/telegram/lib/python3.9/site-packages/torch/nn/modules/module.py:1102\u001b[0m, in \u001b[0;36mModule._call_impl\u001b[0;34m(self, *input, **kwargs)\u001b[0m\n\u001b[1;32m   1098\u001b[0m \u001b[39m# If we don't have any hooks, we want to skip the rest of the logic in\u001b[39;00m\n\u001b[1;32m   1099\u001b[0m \u001b[39m# this function, and just call forward.\u001b[39;00m\n\u001b[1;32m   1100\u001b[0m \u001b[39mif\u001b[39;00m \u001b[39mnot\u001b[39;00m (\u001b[39mself\u001b[39m\u001b[39m.\u001b[39m_backward_hooks \u001b[39mor\u001b[39;00m \u001b[39mself\u001b[39m\u001b[39m.\u001b[39m_forward_hooks \u001b[39mor\u001b[39;00m \u001b[39mself\u001b[39m\u001b[39m.\u001b[39m_forward_pre_hooks \u001b[39mor\u001b[39;00m _global_backward_hooks\n\u001b[1;32m   1101\u001b[0m         \u001b[39mor\u001b[39;00m _global_forward_hooks \u001b[39mor\u001b[39;00m _global_forward_pre_hooks):\n\u001b[0;32m-> 1102\u001b[0m     \u001b[39mreturn\u001b[39;00m forward_call(\u001b[39m*\u001b[39;49m\u001b[39minput\u001b[39;49m, \u001b[39m*\u001b[39;49m\u001b[39m*\u001b[39;49mkwargs)\n\u001b[1;32m   1103\u001b[0m \u001b[39m# Do not call functions when jit is used\u001b[39;00m\n\u001b[1;32m   1104\u001b[0m full_backward_hooks, non_full_backward_hooks \u001b[39m=\u001b[39m [], []\n",
      "File \u001b[0;32m~/miniconda3/envs/telegram/lib/python3.9/site-packages/transformers/models/marian/modeling_marian.py:460\u001b[0m, in \u001b[0;36mMarianDecoderLayer.forward\u001b[0;34m(self, hidden_states, attention_mask, encoder_hidden_states, encoder_attention_mask, layer_head_mask, cross_attn_layer_head_mask, past_key_value, output_attentions, use_cache)\u001b[0m\n\u001b[1;32m    458\u001b[0m \u001b[39m# Fully Connected\u001b[39;00m\n\u001b[1;32m    459\u001b[0m residual \u001b[39m=\u001b[39m hidden_states\n\u001b[0;32m--> 460\u001b[0m hidden_states \u001b[39m=\u001b[39m \u001b[39mself\u001b[39m\u001b[39m.\u001b[39mactivation_fn(\u001b[39mself\u001b[39;49m\u001b[39m.\u001b[39;49mfc1(hidden_states))\n\u001b[1;32m    461\u001b[0m hidden_states \u001b[39m=\u001b[39m nn\u001b[39m.\u001b[39mfunctional\u001b[39m.\u001b[39mdropout(hidden_states, p\u001b[39m=\u001b[39m\u001b[39mself\u001b[39m\u001b[39m.\u001b[39mactivation_dropout, training\u001b[39m=\u001b[39m\u001b[39mself\u001b[39m\u001b[39m.\u001b[39mtraining)\n\u001b[1;32m    462\u001b[0m hidden_states \u001b[39m=\u001b[39m \u001b[39mself\u001b[39m\u001b[39m.\u001b[39mfc2(hidden_states)\n",
      "File \u001b[0;32m~/miniconda3/envs/telegram/lib/python3.9/site-packages/torch/nn/modules/module.py:1102\u001b[0m, in \u001b[0;36mModule._call_impl\u001b[0;34m(self, *input, **kwargs)\u001b[0m\n\u001b[1;32m   1098\u001b[0m \u001b[39m# If we don't have any hooks, we want to skip the rest of the logic in\u001b[39;00m\n\u001b[1;32m   1099\u001b[0m \u001b[39m# this function, and just call forward.\u001b[39;00m\n\u001b[1;32m   1100\u001b[0m \u001b[39mif\u001b[39;00m \u001b[39mnot\u001b[39;00m (\u001b[39mself\u001b[39m\u001b[39m.\u001b[39m_backward_hooks \u001b[39mor\u001b[39;00m \u001b[39mself\u001b[39m\u001b[39m.\u001b[39m_forward_hooks \u001b[39mor\u001b[39;00m \u001b[39mself\u001b[39m\u001b[39m.\u001b[39m_forward_pre_hooks \u001b[39mor\u001b[39;00m _global_backward_hooks\n\u001b[1;32m   1101\u001b[0m         \u001b[39mor\u001b[39;00m _global_forward_hooks \u001b[39mor\u001b[39;00m _global_forward_pre_hooks):\n\u001b[0;32m-> 1102\u001b[0m     \u001b[39mreturn\u001b[39;00m forward_call(\u001b[39m*\u001b[39;49m\u001b[39minput\u001b[39;49m, \u001b[39m*\u001b[39;49m\u001b[39m*\u001b[39;49mkwargs)\n\u001b[1;32m   1103\u001b[0m \u001b[39m# Do not call functions when jit is used\u001b[39;00m\n\u001b[1;32m   1104\u001b[0m full_backward_hooks, non_full_backward_hooks \u001b[39m=\u001b[39m [], []\n",
      "File \u001b[0;32m~/miniconda3/envs/telegram/lib/python3.9/site-packages/torch/nn/modules/linear.py:103\u001b[0m, in \u001b[0;36mLinear.forward\u001b[0;34m(self, input)\u001b[0m\n\u001b[1;32m    102\u001b[0m \u001b[39mdef\u001b[39;00m \u001b[39mforward\u001b[39m(\u001b[39mself\u001b[39m, \u001b[39minput\u001b[39m: Tensor) \u001b[39m-\u001b[39m\u001b[39m>\u001b[39m Tensor:\n\u001b[0;32m--> 103\u001b[0m     \u001b[39mreturn\u001b[39;00m F\u001b[39m.\u001b[39;49mlinear(\u001b[39minput\u001b[39;49m, \u001b[39mself\u001b[39;49m\u001b[39m.\u001b[39;49mweight, \u001b[39mself\u001b[39;49m\u001b[39m.\u001b[39;49mbias)\n",
      "File \u001b[0;32m~/miniconda3/envs/telegram/lib/python3.9/site-packages/torch/nn/functional.py:1848\u001b[0m, in \u001b[0;36mlinear\u001b[0;34m(input, weight, bias)\u001b[0m\n\u001b[1;32m   1846\u001b[0m \u001b[39mif\u001b[39;00m has_torch_function_variadic(\u001b[39minput\u001b[39m, weight, bias):\n\u001b[1;32m   1847\u001b[0m     \u001b[39mreturn\u001b[39;00m handle_torch_function(linear, (\u001b[39minput\u001b[39m, weight, bias), \u001b[39minput\u001b[39m, weight, bias\u001b[39m=\u001b[39mbias)\n\u001b[0;32m-> 1848\u001b[0m \u001b[39mreturn\u001b[39;00m torch\u001b[39m.\u001b[39;49m_C\u001b[39m.\u001b[39;49m_nn\u001b[39m.\u001b[39;49mlinear(\u001b[39minput\u001b[39;49m, weight, bias)\n",
      "\u001b[0;31mKeyboardInterrupt\u001b[0m: "
     ]
    }
   ],
   "source": [
    "from transformers import MarianTokenizer, MarianMTModel\n",
    "import torch\n",
    "\n",
    "# src = \"uk\"  # source language\n",
    "# trg = \"en\"  # target language\n",
    "\n",
    "model_name = f\"Helsinki-NLP/opus-mt-tc-big-zle-en\"\n",
    "model = MarianMTModel.from_pretrained(model_name)\n",
    "tokenizer = MarianTokenizer.from_pretrained(model_name)\n",
    "# tokenizer.to(\"mps\")\n",
    "\n",
    "# model.to(torch.device(\"mps\"))\n",
    "sample_text =  df.messageText[0]\n",
    "batch = tokenizer([sample_text], return_tensors=\"pt\")\n",
    "\n",
    "generated_ids = model.generate(**batch)\n",
    "tokenizer.batch_decode(generated_ids, skip_special_tokens=True)[0]\n",
    "df = df[df[\"messageText\"].str.len()<512]\n",
    "from tqdm import tqdm\n",
    "tqdm.pandas()\n",
    "df['messageTextEnglish'] = df['messageText'].progress_apply(lambda x: tokenizer.batch_decode(model.generate(**tokenizer([x], return_tensors=\"pt\")), skip_special_tokens=True)[0])\n",
    "# df_classifier.to_csv(\"../data/results/testingClassifier.csv\", index=False)"
   ]
  },
  {
   "cell_type": "code",
   "execution_count": null,
   "metadata": {},
   "outputs": [],
   "source": []
  },
  {
   "cell_type": "code",
   "execution_count": 48,
   "metadata": {},
   "outputs": [],
   "source": [
    "df_value_counts = df.value_counts(['cluster', 'week']).reset_index()\n",
    "df_value_counts.columns = ['cluster', 'week', 'count']"
   ]
  },
  {
   "cell_type": "code",
   "execution_count": null,
   "metadata": {},
   "outputs": [],
   "source": [
    "df_value_counts = df[df.chat.isin(['https://t.me/zh_helps_ukraine', 'https://t.me/zh_helps_UArefugee',\n",
    "       'https://t.me/zurich_hb_help', 'https://t.me/zh_housing',\n",
    "       'https://t.me/Zurich_UA', 'https://t.me/zh_helps_UArefugees', 'https://t.me/Zh_helps_UA_mums', 'https://t.me/job_sw_ukrainians',\n",
    "       'https://t.me/zh_back_ukraine', 'https://t.me/zh_helps_logistics',])].value_counts(['cluster', 'week']).reset_index()\n",
    "df_value_counts.columns = ['cluster', 'week', 'count']\n",
    "mydict = {'no_class':-1,\n",
    "          'medical': 0, \n",
    "          'teaching': 1,\n",
    "          'banking': 2,\n",
    "          'transport_UKR_CH': 3,\n",
    "          'pets': 4,\n",
    "          'immigration': 5,\n",
    "          'transport_train_EU': 6,\n",
    "          'website_links': 7,\n",
    "          'volunteering': 8,\n",
    "          'transport_train_CH': 9}\n",
    "df_value_counts['cluster_names'] = df_value_counts['cluster'].apply(lambda x: list(mydict.keys())[list(mydict.values()).index(x)])"
   ]
  },
  {
   "cell_type": "code",
   "execution_count": 49,
   "metadata": {},
   "outputs": [
    {
     "data": {
      "application/vnd.plotly.v1+json": {
       "config": {
        "plotlyServerURL": "https://plot.ly"
       },
       "data": [
        {
         "hovertemplate": "cluster=4<br>week=%{x}<br>count=%{y}<extra></extra>",
         "legendgroup": "4",
         "line": {
          "color": "#636efa",
          "dash": "solid"
         },
         "marker": {
          "symbol": "circle"
         },
         "mode": "lines",
         "name": "4",
         "orientation": "v",
         "showlegend": true,
         "type": "scatter",
         "x": [
          9,
          10,
          11,
          12,
          13,
          14,
          15,
          16,
          17,
          18,
          19,
          20,
          21,
          22,
          23,
          24,
          25,
          26,
          27,
          28,
          29,
          30,
          31,
          32,
          33,
          34,
          35,
          36,
          37,
          38,
          39,
          40,
          41
         ],
         "xaxis": "x",
         "y": [
          1,
          51,
          191,
          281,
          243,
          117,
          73,
          144,
          109,
          151,
          112,
          90,
          62,
          104,
          99,
          55,
          94,
          88,
          70,
          80,
          61,
          60,
          93,
          110,
          92,
          152,
          77,
          81,
          92,
          52,
          27,
          54,
          16
         ],
         "yaxis": "y"
        },
        {
         "hovertemplate": "cluster=3<br>week=%{x}<br>count=%{y}<extra></extra>",
         "legendgroup": "3",
         "line": {
          "color": "#EF553B",
          "dash": "solid"
         },
         "marker": {
          "symbol": "circle"
         },
         "mode": "lines",
         "name": "3",
         "orientation": "v",
         "showlegend": true,
         "type": "scatter",
         "x": [
          9,
          10,
          11,
          12,
          13,
          14,
          15,
          16,
          17,
          18,
          19,
          20,
          21,
          22,
          23,
          24,
          25,
          26,
          27,
          28,
          29,
          30,
          31,
          32,
          33,
          34,
          35,
          36,
          37,
          38,
          39,
          40,
          41
         ],
         "xaxis": "x",
         "y": [
          3,
          31,
          218,
          421,
          317,
          292,
          188,
          253,
          205,
          173,
          146,
          140,
          112,
          114,
          117,
          96,
          89,
          112,
          99,
          70,
          81,
          74,
          69,
          51,
          66,
          81,
          60,
          65,
          63,
          35,
          65,
          62,
          7
         ],
         "yaxis": "y"
        },
        {
         "hovertemplate": "cluster=5<br>week=%{x}<br>count=%{y}<extra></extra>",
         "legendgroup": "5",
         "line": {
          "color": "#00cc96",
          "dash": "solid"
         },
         "marker": {
          "symbol": "circle"
         },
         "mode": "lines",
         "name": "5",
         "orientation": "v",
         "showlegend": true,
         "type": "scatter",
         "x": [
          9,
          10,
          11,
          12,
          13,
          14,
          15,
          16,
          17,
          18,
          19,
          20,
          21,
          22,
          23,
          24,
          25,
          26,
          27,
          28,
          29,
          30,
          31,
          32,
          33,
          34,
          35,
          36,
          37,
          38,
          39,
          40,
          41
         ],
         "xaxis": "x",
         "y": [
          5,
          36,
          180,
          195,
          193,
          135,
          102,
          133,
          127,
          105,
          99,
          65,
          60,
          92,
          90,
          86,
          84,
          61,
          56,
          68,
          102,
          54,
          83,
          68,
          60,
          71,
          64,
          49,
          65,
          52,
          29,
          36,
          2
         ],
         "yaxis": "y"
        },
        {
         "hovertemplate": "cluster=0<br>week=%{x}<br>count=%{y}<extra></extra>",
         "legendgroup": "0",
         "line": {
          "color": "#ab63fa",
          "dash": "solid"
         },
         "marker": {
          "symbol": "circle"
         },
         "mode": "lines",
         "name": "0",
         "orientation": "v",
         "showlegend": true,
         "type": "scatter",
         "x": [
          9,
          10,
          11,
          12,
          13,
          14,
          15,
          16,
          17,
          18,
          19,
          20,
          21,
          22,
          23,
          24,
          25,
          26,
          27,
          28,
          29,
          30,
          31,
          32,
          33,
          34,
          35,
          36,
          37,
          38,
          39,
          40,
          41
         ],
         "xaxis": "x",
         "y": [
          6,
          34,
          118,
          268,
          273,
          192,
          193,
          253,
          284,
          209,
          221,
          179,
          197,
          205,
          119,
          199,
          196,
          245,
          196,
          123,
          242,
          93,
          143,
          115,
          115,
          80,
          134,
          172,
          155,
          133,
          155,
          154,
          29
         ],
         "yaxis": "y"
        },
        {
         "hovertemplate": "cluster=8<br>week=%{x}<br>count=%{y}<extra></extra>",
         "legendgroup": "8",
         "line": {
          "color": "#FFA15A",
          "dash": "solid"
         },
         "marker": {
          "symbol": "circle"
         },
         "mode": "lines",
         "name": "8",
         "orientation": "v",
         "showlegend": true,
         "type": "scatter",
         "x": [
          9,
          10,
          11,
          12,
          13,
          14,
          15,
          16,
          17,
          18,
          19,
          20,
          21,
          22,
          23,
          24,
          25,
          26,
          27,
          28,
          29,
          30,
          31,
          32,
          33,
          34,
          35,
          36,
          37,
          38,
          39,
          40,
          41
         ],
         "xaxis": "x",
         "y": [
          8,
          54,
          122,
          175,
          108,
          84,
          77,
          81,
          87,
          82,
          91,
          63,
          85,
          54,
          43,
          60,
          59,
          55,
          42,
          76,
          54,
          70,
          64,
          51,
          55,
          45,
          49,
          47,
          38,
          37,
          45,
          44,
          5
         ],
         "yaxis": "y"
        },
        {
         "hovertemplate": "cluster=2<br>week=%{x}<br>count=%{y}<extra></extra>",
         "legendgroup": "2",
         "line": {
          "color": "#19d3f3",
          "dash": "solid"
         },
         "marker": {
          "symbol": "circle"
         },
         "mode": "lines",
         "name": "2",
         "orientation": "v",
         "showlegend": true,
         "type": "scatter",
         "x": [
          9,
          10,
          11,
          12,
          13,
          14,
          15,
          16,
          17,
          18,
          19,
          20,
          21,
          22,
          23,
          24,
          25,
          26,
          27,
          28,
          29,
          30,
          31,
          32,
          33,
          34,
          35,
          36,
          37,
          38,
          39,
          40,
          41
         ],
         "xaxis": "x",
         "y": [
          13,
          79,
          224,
          153,
          115,
          73,
          109,
          131,
          93,
          120,
          130,
          156,
          252,
          419,
          217,
          215,
          224,
          185,
          155,
          93,
          115,
          136,
          135,
          157,
          138,
          97,
          124,
          112,
          100,
          58,
          103,
          67,
          16
         ],
         "yaxis": "y"
        },
        {
         "hovertemplate": "cluster=9<br>week=%{x}<br>count=%{y}<extra></extra>",
         "legendgroup": "9",
         "line": {
          "color": "#FF6692",
          "dash": "solid"
         },
         "marker": {
          "symbol": "circle"
         },
         "mode": "lines",
         "name": "9",
         "orientation": "v",
         "showlegend": true,
         "type": "scatter",
         "x": [
          9,
          10,
          11,
          12,
          13,
          14,
          15,
          16,
          17,
          18,
          19,
          20,
          21,
          22,
          23,
          24,
          25,
          26,
          27,
          28,
          29,
          30,
          31,
          32,
          33,
          34,
          35,
          36,
          37,
          38,
          39,
          40,
          41
         ],
         "xaxis": "x",
         "y": [
          16,
          88,
          209,
          167,
          106,
          116,
          72,
          72,
          110,
          81,
          61,
          67,
          57,
          91,
          92,
          66,
          94,
          74,
          63,
          64,
          66,
          74,
          70,
          52,
          77,
          45,
          44,
          54,
          45,
          40,
          31,
          35,
          15
         ],
         "yaxis": "y"
        },
        {
         "hovertemplate": "cluster=6<br>week=%{x}<br>count=%{y}<extra></extra>",
         "legendgroup": "6",
         "line": {
          "color": "#B6E880",
          "dash": "solid"
         },
         "marker": {
          "symbol": "circle"
         },
         "mode": "lines",
         "name": "6",
         "orientation": "v",
         "showlegend": true,
         "type": "scatter",
         "x": [
          9,
          10,
          11,
          12,
          13,
          14,
          15,
          16,
          17,
          18,
          19,
          20,
          21,
          22,
          23,
          24,
          25,
          26,
          27,
          28,
          29,
          30,
          31,
          32,
          33,
          34,
          35,
          36,
          37,
          38,
          39,
          40,
          41
         ],
         "xaxis": "x",
         "y": [
          17,
          69,
          160,
          244,
          235,
          137,
          124,
          173,
          106,
          103,
          101,
          78,
          49,
          62,
          67,
          68,
          55,
          56,
          69,
          45,
          100,
          61,
          47,
          61,
          52,
          46,
          57,
          44,
          21,
          48,
          51,
          52,
          4
         ],
         "yaxis": "y"
        },
        {
         "hovertemplate": "cluster=7<br>week=%{x}<br>count=%{y}<extra></extra>",
         "legendgroup": "7",
         "line": {
          "color": "#FF97FF",
          "dash": "solid"
         },
         "marker": {
          "symbol": "circle"
         },
         "mode": "lines",
         "name": "7",
         "orientation": "v",
         "showlegend": true,
         "type": "scatter",
         "x": [
          9,
          10,
          11,
          12,
          13,
          14,
          15,
          16,
          17,
          18,
          19,
          20,
          21,
          22,
          23,
          24,
          25,
          26,
          27,
          28,
          29,
          30,
          31,
          32,
          33,
          34,
          35,
          36,
          37,
          38,
          39,
          40,
          41
         ],
         "xaxis": "x",
         "y": [
          1,
          7,
          99,
          123,
          112,
          150,
          157,
          111,
          172,
          144,
          82,
          125,
          143,
          123,
          108,
          90,
          169,
          91,
          89,
          105,
          102,
          86,
          54,
          102,
          49,
          31,
          47,
          61,
          51,
          40,
          53,
          70,
          5
         ],
         "yaxis": "y"
        },
        {
         "hovertemplate": "cluster=1<br>week=%{x}<br>count=%{y}<extra></extra>",
         "legendgroup": "1",
         "line": {
          "color": "#FECB52",
          "dash": "solid"
         },
         "marker": {
          "symbol": "circle"
         },
         "mode": "lines",
         "name": "1",
         "orientation": "v",
         "showlegend": true,
         "type": "scatter",
         "x": [
          9,
          10,
          11,
          12,
          13,
          14,
          15,
          16,
          17,
          18,
          19,
          20,
          21,
          22,
          23,
          24,
          25,
          26,
          27,
          28,
          29,
          30,
          31,
          32,
          33,
          34,
          35,
          36,
          37,
          38,
          39,
          40,
          41
         ],
         "xaxis": "x",
         "y": [
          35,
          141,
          434,
          389,
          319,
          241,
          195,
          172,
          145,
          165,
          117,
          129,
          78,
          134,
          79,
          80,
          79,
          100,
          75,
          76,
          84,
          88,
          88,
          70,
          78,
          76,
          64,
          62,
          54,
          53,
          66,
          37,
          13
         ],
         "yaxis": "y"
        }
       ],
       "layout": {
        "legend": {
         "title": {
          "text": "cluster"
         },
         "tracegroupgap": 0
        },
        "template": {
         "data": {
          "bar": [
           {
            "error_x": {
             "color": "#2a3f5f"
            },
            "error_y": {
             "color": "#2a3f5f"
            },
            "marker": {
             "line": {
              "color": "#E5ECF6",
              "width": 0.5
             },
             "pattern": {
              "fillmode": "overlay",
              "size": 10,
              "solidity": 0.2
             }
            },
            "type": "bar"
           }
          ],
          "barpolar": [
           {
            "marker": {
             "line": {
              "color": "#E5ECF6",
              "width": 0.5
             },
             "pattern": {
              "fillmode": "overlay",
              "size": 10,
              "solidity": 0.2
             }
            },
            "type": "barpolar"
           }
          ],
          "carpet": [
           {
            "aaxis": {
             "endlinecolor": "#2a3f5f",
             "gridcolor": "white",
             "linecolor": "white",
             "minorgridcolor": "white",
             "startlinecolor": "#2a3f5f"
            },
            "baxis": {
             "endlinecolor": "#2a3f5f",
             "gridcolor": "white",
             "linecolor": "white",
             "minorgridcolor": "white",
             "startlinecolor": "#2a3f5f"
            },
            "type": "carpet"
           }
          ],
          "choropleth": [
           {
            "colorbar": {
             "outlinewidth": 0,
             "ticks": ""
            },
            "type": "choropleth"
           }
          ],
          "contour": [
           {
            "colorbar": {
             "outlinewidth": 0,
             "ticks": ""
            },
            "colorscale": [
             [
              0,
              "#0d0887"
             ],
             [
              0.1111111111111111,
              "#46039f"
             ],
             [
              0.2222222222222222,
              "#7201a8"
             ],
             [
              0.3333333333333333,
              "#9c179e"
             ],
             [
              0.4444444444444444,
              "#bd3786"
             ],
             [
              0.5555555555555556,
              "#d8576b"
             ],
             [
              0.6666666666666666,
              "#ed7953"
             ],
             [
              0.7777777777777778,
              "#fb9f3a"
             ],
             [
              0.8888888888888888,
              "#fdca26"
             ],
             [
              1,
              "#f0f921"
             ]
            ],
            "type": "contour"
           }
          ],
          "contourcarpet": [
           {
            "colorbar": {
             "outlinewidth": 0,
             "ticks": ""
            },
            "type": "contourcarpet"
           }
          ],
          "heatmap": [
           {
            "colorbar": {
             "outlinewidth": 0,
             "ticks": ""
            },
            "colorscale": [
             [
              0,
              "#0d0887"
             ],
             [
              0.1111111111111111,
              "#46039f"
             ],
             [
              0.2222222222222222,
              "#7201a8"
             ],
             [
              0.3333333333333333,
              "#9c179e"
             ],
             [
              0.4444444444444444,
              "#bd3786"
             ],
             [
              0.5555555555555556,
              "#d8576b"
             ],
             [
              0.6666666666666666,
              "#ed7953"
             ],
             [
              0.7777777777777778,
              "#fb9f3a"
             ],
             [
              0.8888888888888888,
              "#fdca26"
             ],
             [
              1,
              "#f0f921"
             ]
            ],
            "type": "heatmap"
           }
          ],
          "heatmapgl": [
           {
            "colorbar": {
             "outlinewidth": 0,
             "ticks": ""
            },
            "colorscale": [
             [
              0,
              "#0d0887"
             ],
             [
              0.1111111111111111,
              "#46039f"
             ],
             [
              0.2222222222222222,
              "#7201a8"
             ],
             [
              0.3333333333333333,
              "#9c179e"
             ],
             [
              0.4444444444444444,
              "#bd3786"
             ],
             [
              0.5555555555555556,
              "#d8576b"
             ],
             [
              0.6666666666666666,
              "#ed7953"
             ],
             [
              0.7777777777777778,
              "#fb9f3a"
             ],
             [
              0.8888888888888888,
              "#fdca26"
             ],
             [
              1,
              "#f0f921"
             ]
            ],
            "type": "heatmapgl"
           }
          ],
          "histogram": [
           {
            "marker": {
             "pattern": {
              "fillmode": "overlay",
              "size": 10,
              "solidity": 0.2
             }
            },
            "type": "histogram"
           }
          ],
          "histogram2d": [
           {
            "colorbar": {
             "outlinewidth": 0,
             "ticks": ""
            },
            "colorscale": [
             [
              0,
              "#0d0887"
             ],
             [
              0.1111111111111111,
              "#46039f"
             ],
             [
              0.2222222222222222,
              "#7201a8"
             ],
             [
              0.3333333333333333,
              "#9c179e"
             ],
             [
              0.4444444444444444,
              "#bd3786"
             ],
             [
              0.5555555555555556,
              "#d8576b"
             ],
             [
              0.6666666666666666,
              "#ed7953"
             ],
             [
              0.7777777777777778,
              "#fb9f3a"
             ],
             [
              0.8888888888888888,
              "#fdca26"
             ],
             [
              1,
              "#f0f921"
             ]
            ],
            "type": "histogram2d"
           }
          ],
          "histogram2dcontour": [
           {
            "colorbar": {
             "outlinewidth": 0,
             "ticks": ""
            },
            "colorscale": [
             [
              0,
              "#0d0887"
             ],
             [
              0.1111111111111111,
              "#46039f"
             ],
             [
              0.2222222222222222,
              "#7201a8"
             ],
             [
              0.3333333333333333,
              "#9c179e"
             ],
             [
              0.4444444444444444,
              "#bd3786"
             ],
             [
              0.5555555555555556,
              "#d8576b"
             ],
             [
              0.6666666666666666,
              "#ed7953"
             ],
             [
              0.7777777777777778,
              "#fb9f3a"
             ],
             [
              0.8888888888888888,
              "#fdca26"
             ],
             [
              1,
              "#f0f921"
             ]
            ],
            "type": "histogram2dcontour"
           }
          ],
          "mesh3d": [
           {
            "colorbar": {
             "outlinewidth": 0,
             "ticks": ""
            },
            "type": "mesh3d"
           }
          ],
          "parcoords": [
           {
            "line": {
             "colorbar": {
              "outlinewidth": 0,
              "ticks": ""
             }
            },
            "type": "parcoords"
           }
          ],
          "pie": [
           {
            "automargin": true,
            "type": "pie"
           }
          ],
          "scatter": [
           {
            "fillpattern": {
             "fillmode": "overlay",
             "size": 10,
             "solidity": 0.2
            },
            "type": "scatter"
           }
          ],
          "scatter3d": [
           {
            "line": {
             "colorbar": {
              "outlinewidth": 0,
              "ticks": ""
             }
            },
            "marker": {
             "colorbar": {
              "outlinewidth": 0,
              "ticks": ""
             }
            },
            "type": "scatter3d"
           }
          ],
          "scattercarpet": [
           {
            "marker": {
             "colorbar": {
              "outlinewidth": 0,
              "ticks": ""
             }
            },
            "type": "scattercarpet"
           }
          ],
          "scattergeo": [
           {
            "marker": {
             "colorbar": {
              "outlinewidth": 0,
              "ticks": ""
             }
            },
            "type": "scattergeo"
           }
          ],
          "scattergl": [
           {
            "marker": {
             "colorbar": {
              "outlinewidth": 0,
              "ticks": ""
             }
            },
            "type": "scattergl"
           }
          ],
          "scattermapbox": [
           {
            "marker": {
             "colorbar": {
              "outlinewidth": 0,
              "ticks": ""
             }
            },
            "type": "scattermapbox"
           }
          ],
          "scatterpolar": [
           {
            "marker": {
             "colorbar": {
              "outlinewidth": 0,
              "ticks": ""
             }
            },
            "type": "scatterpolar"
           }
          ],
          "scatterpolargl": [
           {
            "marker": {
             "colorbar": {
              "outlinewidth": 0,
              "ticks": ""
             }
            },
            "type": "scatterpolargl"
           }
          ],
          "scatterternary": [
           {
            "marker": {
             "colorbar": {
              "outlinewidth": 0,
              "ticks": ""
             }
            },
            "type": "scatterternary"
           }
          ],
          "surface": [
           {
            "colorbar": {
             "outlinewidth": 0,
             "ticks": ""
            },
            "colorscale": [
             [
              0,
              "#0d0887"
             ],
             [
              0.1111111111111111,
              "#46039f"
             ],
             [
              0.2222222222222222,
              "#7201a8"
             ],
             [
              0.3333333333333333,
              "#9c179e"
             ],
             [
              0.4444444444444444,
              "#bd3786"
             ],
             [
              0.5555555555555556,
              "#d8576b"
             ],
             [
              0.6666666666666666,
              "#ed7953"
             ],
             [
              0.7777777777777778,
              "#fb9f3a"
             ],
             [
              0.8888888888888888,
              "#fdca26"
             ],
             [
              1,
              "#f0f921"
             ]
            ],
            "type": "surface"
           }
          ],
          "table": [
           {
            "cells": {
             "fill": {
              "color": "#EBF0F8"
             },
             "line": {
              "color": "white"
             }
            },
            "header": {
             "fill": {
              "color": "#C8D4E3"
             },
             "line": {
              "color": "white"
             }
            },
            "type": "table"
           }
          ]
         },
         "layout": {
          "annotationdefaults": {
           "arrowcolor": "#2a3f5f",
           "arrowhead": 0,
           "arrowwidth": 1
          },
          "autotypenumbers": "strict",
          "coloraxis": {
           "colorbar": {
            "outlinewidth": 0,
            "ticks": ""
           }
          },
          "colorscale": {
           "diverging": [
            [
             0,
             "#8e0152"
            ],
            [
             0.1,
             "#c51b7d"
            ],
            [
             0.2,
             "#de77ae"
            ],
            [
             0.3,
             "#f1b6da"
            ],
            [
             0.4,
             "#fde0ef"
            ],
            [
             0.5,
             "#f7f7f7"
            ],
            [
             0.6,
             "#e6f5d0"
            ],
            [
             0.7,
             "#b8e186"
            ],
            [
             0.8,
             "#7fbc41"
            ],
            [
             0.9,
             "#4d9221"
            ],
            [
             1,
             "#276419"
            ]
           ],
           "sequential": [
            [
             0,
             "#0d0887"
            ],
            [
             0.1111111111111111,
             "#46039f"
            ],
            [
             0.2222222222222222,
             "#7201a8"
            ],
            [
             0.3333333333333333,
             "#9c179e"
            ],
            [
             0.4444444444444444,
             "#bd3786"
            ],
            [
             0.5555555555555556,
             "#d8576b"
            ],
            [
             0.6666666666666666,
             "#ed7953"
            ],
            [
             0.7777777777777778,
             "#fb9f3a"
            ],
            [
             0.8888888888888888,
             "#fdca26"
            ],
            [
             1,
             "#f0f921"
            ]
           ],
           "sequentialminus": [
            [
             0,
             "#0d0887"
            ],
            [
             0.1111111111111111,
             "#46039f"
            ],
            [
             0.2222222222222222,
             "#7201a8"
            ],
            [
             0.3333333333333333,
             "#9c179e"
            ],
            [
             0.4444444444444444,
             "#bd3786"
            ],
            [
             0.5555555555555556,
             "#d8576b"
            ],
            [
             0.6666666666666666,
             "#ed7953"
            ],
            [
             0.7777777777777778,
             "#fb9f3a"
            ],
            [
             0.8888888888888888,
             "#fdca26"
            ],
            [
             1,
             "#f0f921"
            ]
           ]
          },
          "colorway": [
           "#636efa",
           "#EF553B",
           "#00cc96",
           "#ab63fa",
           "#FFA15A",
           "#19d3f3",
           "#FF6692",
           "#B6E880",
           "#FF97FF",
           "#FECB52"
          ],
          "font": {
           "color": "#2a3f5f"
          },
          "geo": {
           "bgcolor": "white",
           "lakecolor": "white",
           "landcolor": "#E5ECF6",
           "showlakes": true,
           "showland": true,
           "subunitcolor": "white"
          },
          "hoverlabel": {
           "align": "left"
          },
          "hovermode": "closest",
          "mapbox": {
           "style": "light"
          },
          "paper_bgcolor": "white",
          "plot_bgcolor": "#E5ECF6",
          "polar": {
           "angularaxis": {
            "gridcolor": "white",
            "linecolor": "white",
            "ticks": ""
           },
           "bgcolor": "#E5ECF6",
           "radialaxis": {
            "gridcolor": "white",
            "linecolor": "white",
            "ticks": ""
           }
          },
          "scene": {
           "xaxis": {
            "backgroundcolor": "#E5ECF6",
            "gridcolor": "white",
            "gridwidth": 2,
            "linecolor": "white",
            "showbackground": true,
            "ticks": "",
            "zerolinecolor": "white"
           },
           "yaxis": {
            "backgroundcolor": "#E5ECF6",
            "gridcolor": "white",
            "gridwidth": 2,
            "linecolor": "white",
            "showbackground": true,
            "ticks": "",
            "zerolinecolor": "white"
           },
           "zaxis": {
            "backgroundcolor": "#E5ECF6",
            "gridcolor": "white",
            "gridwidth": 2,
            "linecolor": "white",
            "showbackground": true,
            "ticks": "",
            "zerolinecolor": "white"
           }
          },
          "shapedefaults": {
           "line": {
            "color": "#2a3f5f"
           }
          },
          "ternary": {
           "aaxis": {
            "gridcolor": "white",
            "linecolor": "white",
            "ticks": ""
           },
           "baxis": {
            "gridcolor": "white",
            "linecolor": "white",
            "ticks": ""
           },
           "bgcolor": "#E5ECF6",
           "caxis": {
            "gridcolor": "white",
            "linecolor": "white",
            "ticks": ""
           }
          },
          "title": {
           "x": 0.05
          },
          "xaxis": {
           "automargin": true,
           "gridcolor": "white",
           "linecolor": "white",
           "ticks": "",
           "title": {
            "standoff": 15
           },
           "zerolinecolor": "white",
           "zerolinewidth": 2
          },
          "yaxis": {
           "automargin": true,
           "gridcolor": "white",
           "linecolor": "white",
           "ticks": "",
           "title": {
            "standoff": 15
           },
           "zerolinecolor": "white",
           "zerolinewidth": 2
          }
         }
        },
        "title": {
         "text": "Cluster over time"
        },
        "xaxis": {
         "anchor": "y",
         "domain": [
          0,
          1
         ],
         "title": {
          "text": "week"
         }
        },
        "yaxis": {
         "anchor": "x",
         "domain": [
          0,
          1
         ],
         "title": {
          "text": "count"
         }
        }
       }
      }
     },
     "metadata": {},
     "output_type": "display_data"
    }
   ],
   "source": [
    "import plotly.express as px\n",
    "# for i in df_value_counts.cluster.unique()[1:]:\n",
    "fig = px.line(df_value_counts[df_value_counts.cluster != -1].sort_values(['week']), x=\"week\", y=\"count\", color='cluster', title='Cluster over time')\n",
    "fig.show()"
   ]
  },
  {
   "cell_type": "code",
   "execution_count": 51,
   "metadata": {},
   "outputs": [],
   "source": [
    "df_actors = pd.DataFrame(columns=[\"cluster\", \"message_sender\", \"nr_post\"])\n",
    "for i in df.cluster.unique():\n",
    "    df[df['cluster']==i].value_counts('messageSender').iloc[:10]\n",
    "    df_actors_i = df[df['cluster']==i].value_counts('messageSender').iloc[:10].reset_index()\n",
    "    df_actors_i[\"cluster\"] = i\n",
    "    df_actors_i = df_actors_i[[\"cluster\", \"messageSender\", 0]]\n",
    "    df_actors_i.columns = [\"cluster\", \"message_sender\", \"nr_post\"]\n",
    "    df_actors = pd.concat([df_actors, df_actors_i], axis=0)"
   ]
  },
  {
   "cell_type": "code",
   "execution_count": 76,
   "metadata": {},
   "outputs": [],
   "source": [
    "df_actors[df_actors.cluster!=-1].to_csv(\"../models/BERTopic100CharMin2500CharMax_10ClassesRedo/df_actors.csv\", index=False)"
   ]
  },
  {
   "cell_type": "code",
   "execution_count": 64,
   "metadata": {},
   "outputs": [
    {
     "data": {
      "text/plain": [
       "'Доедет. Кстати, подать на статус можно онлайн в течение нескольких минут. Главное быть подключенным к швейцарскому инету, иначе форма не откроется.'"
      ]
     },
     "execution_count": 64,
     "metadata": {},
     "output_type": "execute_result"
    }
   ],
   "source": [
    "df[(df.messageSender==5228353505) & (df.messageSender!=-1)].reset_index().messageText[5]"
   ]
  },
  {
   "cell_type": "code",
   "execution_count": 66,
   "metadata": {},
   "outputs": [
    {
     "data": {
      "text/html": [
       "<div>\n",
       "<style scoped>\n",
       "    .dataframe tbody tr th:only-of-type {\n",
       "        vertical-align: middle;\n",
       "    }\n",
       "\n",
       "    .dataframe tbody tr th {\n",
       "        vertical-align: top;\n",
       "    }\n",
       "\n",
       "    .dataframe thead th {\n",
       "        text-align: right;\n",
       "    }\n",
       "</style>\n",
       "<table border=\"1\" class=\"dataframe\">\n",
       "  <thead>\n",
       "    <tr style=\"text-align: right;\">\n",
       "      <th></th>\n",
       "      <th>chat</th>\n",
       "      <th>messageSender</th>\n",
       "      <th>messageID</th>\n",
       "      <th>messageReplyID</th>\n",
       "      <th>messageDatetime</th>\n",
       "      <th>messageText</th>\n",
       "      <th>cluster</th>\n",
       "      <th>prob_0</th>\n",
       "      <th>prob_1</th>\n",
       "      <th>prob_2</th>\n",
       "      <th>prob_3</th>\n",
       "      <th>prob_4</th>\n",
       "      <th>prob_5</th>\n",
       "      <th>prob_6</th>\n",
       "      <th>prob_7</th>\n",
       "      <th>prob_8</th>\n",
       "      <th>prob_9</th>\n",
       "      <th>week</th>\n",
       "    </tr>\n",
       "  </thead>\n",
       "  <tbody>\n",
       "    <tr>\n",
       "      <th>46108</th>\n",
       "      <td>https://t.me/refugeesinSwitzerland</td>\n",
       "      <td>5228353505</td>\n",
       "      <td>89423</td>\n",
       "      <td>89421.0</td>\n",
       "      <td>2022-05-16 07:04:46+00:00</td>\n",
       "      <td>У многих в Швейцарии рабочий день до 17.</td>\n",
       "      <td>-1</td>\n",
       "      <td>7.755288e-177</td>\n",
       "      <td>3.095624e-177</td>\n",
       "      <td>6.453734e-177</td>\n",
       "      <td>8.723596e-177</td>\n",
       "      <td>1.970368e-177</td>\n",
       "      <td>1.897770e-176</td>\n",
       "      <td>1.091709e-182</td>\n",
       "      <td>2.102877e-177</td>\n",
       "      <td>5.502016e-177</td>\n",
       "      <td>8.604332e-162</td>\n",
       "      <td>20</td>\n",
       "    </tr>\n",
       "    <tr>\n",
       "      <th>46121</th>\n",
       "      <td>https://t.me/refugeesinSwitzerland</td>\n",
       "      <td>5228353505</td>\n",
       "      <td>89407</td>\n",
       "      <td>NaN</td>\n",
       "      <td>2022-05-16 06:39:15+00:00</td>\n",
       "      <td>У мамы может быть такая работа, что она тоже п...</td>\n",
       "      <td>-1</td>\n",
       "      <td>3.933224e-273</td>\n",
       "      <td>3.647101e-271</td>\n",
       "      <td>1.537818e-270</td>\n",
       "      <td>9.869355e-272</td>\n",
       "      <td>3.703741e-271</td>\n",
       "      <td>4.036725e-230</td>\n",
       "      <td>1.490637e-277</td>\n",
       "      <td>6.276072e-271</td>\n",
       "      <td>1.007103e-270</td>\n",
       "      <td>2.350890e-270</td>\n",
       "      <td>20</td>\n",
       "    </tr>\n",
       "    <tr>\n",
       "      <th>46123</th>\n",
       "      <td>https://t.me/refugeesinSwitzerland</td>\n",
       "      <td>5228353505</td>\n",
       "      <td>89405</td>\n",
       "      <td>89402.0</td>\n",
       "      <td>2022-05-16 06:37:39+00:00</td>\n",
       "      <td>Продленка, тагесмуттер. Дома ребенок может как...</td>\n",
       "      <td>4</td>\n",
       "      <td>0.000000e+00</td>\n",
       "      <td>0.000000e+00</td>\n",
       "      <td>0.000000e+00</td>\n",
       "      <td>0.000000e+00</td>\n",
       "      <td>0.000000e+00</td>\n",
       "      <td>0.000000e+00</td>\n",
       "      <td>0.000000e+00</td>\n",
       "      <td>0.000000e+00</td>\n",
       "      <td>0.000000e+00</td>\n",
       "      <td>0.000000e+00</td>\n",
       "      <td>20</td>\n",
       "    </tr>\n",
       "    <tr>\n",
       "      <th>46125</th>\n",
       "      <td>https://t.me/refugeesinSwitzerland</td>\n",
       "      <td>5228353505</td>\n",
       "      <td>89403</td>\n",
       "      <td>89401.0</td>\n",
       "      <td>2022-05-16 06:34:05+00:00</td>\n",
       "      <td>Это проблемы родителей организовать все так, ч...</td>\n",
       "      <td>-1</td>\n",
       "      <td>1.400650e-02</td>\n",
       "      <td>1.731708e-03</td>\n",
       "      <td>1.071765e-02</td>\n",
       "      <td>1.181832e-02</td>\n",
       "      <td>2.505382e-03</td>\n",
       "      <td>2.929109e-03</td>\n",
       "      <td>4.836461e-05</td>\n",
       "      <td>1.519216e-01</td>\n",
       "      <td>2.379871e-03</td>\n",
       "      <td>4.658374e-03</td>\n",
       "      <td>20</td>\n",
       "    </tr>\n",
       "    <tr>\n",
       "      <th>46129</th>\n",
       "      <td>https://t.me/refugeesinSwitzerland</td>\n",
       "      <td>5228353505</td>\n",
       "      <td>89399</td>\n",
       "      <td>89398.0</td>\n",
       "      <td>2022-05-16 06:29:31+00:00</td>\n",
       "      <td>Дети идут с 12 до 13-40 обедать домой, на прод...</td>\n",
       "      <td>4</td>\n",
       "      <td>3.887711e-97</td>\n",
       "      <td>9.176028e-03</td>\n",
       "      <td>2.119437e-01</td>\n",
       "      <td>1.166258e-02</td>\n",
       "      <td>1.108168e-90</td>\n",
       "      <td>1.112515e-90</td>\n",
       "      <td>4.802345e-99</td>\n",
       "      <td>4.543964e-94</td>\n",
       "      <td>9.084301e-02</td>\n",
       "      <td>1.671582e-02</td>\n",
       "      <td>20</td>\n",
       "    </tr>\n",
       "    <tr>\n",
       "      <th>...</th>\n",
       "      <td>...</td>\n",
       "      <td>...</td>\n",
       "      <td>...</td>\n",
       "      <td>...</td>\n",
       "      <td>...</td>\n",
       "      <td>...</td>\n",
       "      <td>...</td>\n",
       "      <td>...</td>\n",
       "      <td>...</td>\n",
       "      <td>...</td>\n",
       "      <td>...</td>\n",
       "      <td>...</td>\n",
       "      <td>...</td>\n",
       "      <td>...</td>\n",
       "      <td>...</td>\n",
       "      <td>...</td>\n",
       "      <td>...</td>\n",
       "      <td>...</td>\n",
       "    </tr>\n",
       "    <tr>\n",
       "      <th>155875</th>\n",
       "      <td>https://t.me/Zh_helps_UA_mums</td>\n",
       "      <td>5228353505</td>\n",
       "      <td>537</td>\n",
       "      <td>NaN</td>\n",
       "      <td>2022-03-16 21:36:16+00:00</td>\n",
       "      <td>В Швейцарии можно пить воду не только из крана...</td>\n",
       "      <td>-1</td>\n",
       "      <td>8.170329e-48</td>\n",
       "      <td>2.498087e-48</td>\n",
       "      <td>9.546526e-48</td>\n",
       "      <td>9.572988e-48</td>\n",
       "      <td>2.575708e-48</td>\n",
       "      <td>4.804034e-48</td>\n",
       "      <td>9.165123e-50</td>\n",
       "      <td>9.824086e-01</td>\n",
       "      <td>3.566525e-48</td>\n",
       "      <td>7.397047e-48</td>\n",
       "      <td>11</td>\n",
       "    </tr>\n",
       "    <tr>\n",
       "      <th>155885</th>\n",
       "      <td>https://t.me/Zh_helps_UA_mums</td>\n",
       "      <td>5228353505</td>\n",
       "      <td>527</td>\n",
       "      <td>NaN</td>\n",
       "      <td>2022-03-16 21:24:01+00:00</td>\n",
       "      <td>Лично я эмигрировала из Украины большей частью...</td>\n",
       "      <td>-1</td>\n",
       "      <td>7.459098e-58</td>\n",
       "      <td>9.822388e-58</td>\n",
       "      <td>2.934303e-57</td>\n",
       "      <td>1.022939e-57</td>\n",
       "      <td>7.676344e-58</td>\n",
       "      <td>6.667783e-56</td>\n",
       "      <td>2.452181e-74</td>\n",
       "      <td>1.046253e-57</td>\n",
       "      <td>2.091917e-51</td>\n",
       "      <td>4.190233e-57</td>\n",
       "      <td>11</td>\n",
       "    </tr>\n",
       "    <tr>\n",
       "      <th>155886</th>\n",
       "      <td>https://t.me/Zh_helps_UA_mums</td>\n",
       "      <td>5228353505</td>\n",
       "      <td>526</td>\n",
       "      <td>515.0</td>\n",
       "      <td>2022-03-16 21:22:37+00:00</td>\n",
       "      <td>Здесь намного более правильный подход к медици...</td>\n",
       "      <td>0</td>\n",
       "      <td>1.593023e-02</td>\n",
       "      <td>1.532546e-02</td>\n",
       "      <td>1.701756e-02</td>\n",
       "      <td>2.787684e-02</td>\n",
       "      <td>9.058614e-03</td>\n",
       "      <td>1.225878e-02</td>\n",
       "      <td>1.456201e-04</td>\n",
       "      <td>7.519776e-03</td>\n",
       "      <td>1.207613e-02</td>\n",
       "      <td>1.970994e-02</td>\n",
       "      <td>11</td>\n",
       "    </tr>\n",
       "    <tr>\n",
       "      <th>156022</th>\n",
       "      <td>https://t.me/Zh_helps_UA_mums</td>\n",
       "      <td>5228353505</td>\n",
       "      <td>161</td>\n",
       "      <td>NaN</td>\n",
       "      <td>2022-03-15 07:26:03+00:00</td>\n",
       "      <td>В Швейцарии садики до 4 лет являются платными,...</td>\n",
       "      <td>-1</td>\n",
       "      <td>7.687162e-04</td>\n",
       "      <td>3.120987e-02</td>\n",
       "      <td>6.076296e-02</td>\n",
       "      <td>5.810764e-03</td>\n",
       "      <td>1.974652e-02</td>\n",
       "      <td>2.564479e-02</td>\n",
       "      <td>2.242581e-05</td>\n",
       "      <td>1.011430e-02</td>\n",
       "      <td>5.716211e-02</td>\n",
       "      <td>5.057143e-02</td>\n",
       "      <td>11</td>\n",
       "    </tr>\n",
       "    <tr>\n",
       "      <th>217486</th>\n",
       "      <td>https://t.me/TicinoLuganoUkraine</td>\n",
       "      <td>5228353505</td>\n",
       "      <td>3940</td>\n",
       "      <td>NaN</td>\n",
       "      <td>2022-04-11 15:37:36+00:00</td>\n",
       "      <td>Привет. Мы хотим съездить с украинскими беженц...</td>\n",
       "      <td>-1</td>\n",
       "      <td>7.583832e-03</td>\n",
       "      <td>9.572943e-03</td>\n",
       "      <td>2.883210e-02</td>\n",
       "      <td>1.017458e-02</td>\n",
       "      <td>7.544969e-03</td>\n",
       "      <td>2.508101e-02</td>\n",
       "      <td>1.421578e-04</td>\n",
       "      <td>1.046696e-02</td>\n",
       "      <td>1.639122e-02</td>\n",
       "      <td>5.901901e-02</td>\n",
       "      <td>15</td>\n",
       "    </tr>\n",
       "  </tbody>\n",
       "</table>\n",
       "<p>2825 rows × 18 columns</p>\n",
       "</div>"
      ],
      "text/plain": [
       "                                      chat  messageSender  messageID  \\\n",
       "46108   https://t.me/refugeesinSwitzerland     5228353505      89423   \n",
       "46121   https://t.me/refugeesinSwitzerland     5228353505      89407   \n",
       "46123   https://t.me/refugeesinSwitzerland     5228353505      89405   \n",
       "46125   https://t.me/refugeesinSwitzerland     5228353505      89403   \n",
       "46129   https://t.me/refugeesinSwitzerland     5228353505      89399   \n",
       "...                                    ...            ...        ...   \n",
       "155875       https://t.me/Zh_helps_UA_mums     5228353505        537   \n",
       "155885       https://t.me/Zh_helps_UA_mums     5228353505        527   \n",
       "155886       https://t.me/Zh_helps_UA_mums     5228353505        526   \n",
       "156022       https://t.me/Zh_helps_UA_mums     5228353505        161   \n",
       "217486    https://t.me/TicinoLuganoUkraine     5228353505       3940   \n",
       "\n",
       "        messageReplyID            messageDatetime  \\\n",
       "46108          89421.0  2022-05-16 07:04:46+00:00   \n",
       "46121              NaN  2022-05-16 06:39:15+00:00   \n",
       "46123          89402.0  2022-05-16 06:37:39+00:00   \n",
       "46125          89401.0  2022-05-16 06:34:05+00:00   \n",
       "46129          89398.0  2022-05-16 06:29:31+00:00   \n",
       "...                ...                        ...   \n",
       "155875             NaN  2022-03-16 21:36:16+00:00   \n",
       "155885             NaN  2022-03-16 21:24:01+00:00   \n",
       "155886           515.0  2022-03-16 21:22:37+00:00   \n",
       "156022             NaN  2022-03-15 07:26:03+00:00   \n",
       "217486             NaN  2022-04-11 15:37:36+00:00   \n",
       "\n",
       "                                              messageText  cluster  \\\n",
       "46108            У многих в Швейцарии рабочий день до 17.       -1   \n",
       "46121   У мамы может быть такая работа, что она тоже п...       -1   \n",
       "46123   Продленка, тагесмуттер. Дома ребенок может как...        4   \n",
       "46125   Это проблемы родителей организовать все так, ч...       -1   \n",
       "46129   Дети идут с 12 до 13-40 обедать домой, на прод...        4   \n",
       "...                                                   ...      ...   \n",
       "155875  В Швейцарии можно пить воду не только из крана...       -1   \n",
       "155885  Лично я эмигрировала из Украины большей частью...       -1   \n",
       "155886  Здесь намного более правильный подход к медици...        0   \n",
       "156022  В Швейцарии садики до 4 лет являются платными,...       -1   \n",
       "217486  Привет. Мы хотим съездить с украинскими беженц...       -1   \n",
       "\n",
       "               prob_0         prob_1         prob_2         prob_3  \\\n",
       "46108   7.755288e-177  3.095624e-177  6.453734e-177  8.723596e-177   \n",
       "46121   3.933224e-273  3.647101e-271  1.537818e-270  9.869355e-272   \n",
       "46123    0.000000e+00   0.000000e+00   0.000000e+00   0.000000e+00   \n",
       "46125    1.400650e-02   1.731708e-03   1.071765e-02   1.181832e-02   \n",
       "46129    3.887711e-97   9.176028e-03   2.119437e-01   1.166258e-02   \n",
       "...               ...            ...            ...            ...   \n",
       "155875   8.170329e-48   2.498087e-48   9.546526e-48   9.572988e-48   \n",
       "155885   7.459098e-58   9.822388e-58   2.934303e-57   1.022939e-57   \n",
       "155886   1.593023e-02   1.532546e-02   1.701756e-02   2.787684e-02   \n",
       "156022   7.687162e-04   3.120987e-02   6.076296e-02   5.810764e-03   \n",
       "217486   7.583832e-03   9.572943e-03   2.883210e-02   1.017458e-02   \n",
       "\n",
       "               prob_4         prob_5         prob_6         prob_7  \\\n",
       "46108   1.970368e-177  1.897770e-176  1.091709e-182  2.102877e-177   \n",
       "46121   3.703741e-271  4.036725e-230  1.490637e-277  6.276072e-271   \n",
       "46123    0.000000e+00   0.000000e+00   0.000000e+00   0.000000e+00   \n",
       "46125    2.505382e-03   2.929109e-03   4.836461e-05   1.519216e-01   \n",
       "46129    1.108168e-90   1.112515e-90   4.802345e-99   4.543964e-94   \n",
       "...               ...            ...            ...            ...   \n",
       "155875   2.575708e-48   4.804034e-48   9.165123e-50   9.824086e-01   \n",
       "155885   7.676344e-58   6.667783e-56   2.452181e-74   1.046253e-57   \n",
       "155886   9.058614e-03   1.225878e-02   1.456201e-04   7.519776e-03   \n",
       "156022   1.974652e-02   2.564479e-02   2.242581e-05   1.011430e-02   \n",
       "217486   7.544969e-03   2.508101e-02   1.421578e-04   1.046696e-02   \n",
       "\n",
       "               prob_8         prob_9  week  \n",
       "46108   5.502016e-177  8.604332e-162    20  \n",
       "46121   1.007103e-270  2.350890e-270    20  \n",
       "46123    0.000000e+00   0.000000e+00    20  \n",
       "46125    2.379871e-03   4.658374e-03    20  \n",
       "46129    9.084301e-02   1.671582e-02    20  \n",
       "...               ...            ...   ...  \n",
       "155875   3.566525e-48   7.397047e-48    11  \n",
       "155885   2.091917e-51   4.190233e-57    11  \n",
       "155886   1.207613e-02   1.970994e-02    11  \n",
       "156022   5.716211e-02   5.057143e-02    11  \n",
       "217486   1.639122e-02   5.901901e-02    15  \n",
       "\n",
       "[2825 rows x 18 columns]"
      ]
     },
     "execution_count": 66,
     "metadata": {},
     "output_type": "execute_result"
    }
   ],
   "source": [
    "df[(df.messageSender==5228353505) & (df.messageSender!=-1)]"
   ]
  },
  {
   "cell_type": "code",
   "execution_count": null,
   "metadata": {},
   "outputs": [],
   "source": []
  },
  {
   "cell_type": "code",
   "execution_count": 71,
   "metadata": {},
   "outputs": [
    {
     "data": {
      "text/html": [
       "<div>\n",
       "<style scoped>\n",
       "    .dataframe tbody tr th:only-of-type {\n",
       "        vertical-align: middle;\n",
       "    }\n",
       "\n",
       "    .dataframe tbody tr th {\n",
       "        vertical-align: top;\n",
       "    }\n",
       "\n",
       "    .dataframe thead th {\n",
       "        text-align: right;\n",
       "    }\n",
       "</style>\n",
       "<table border=\"1\" class=\"dataframe\">\n",
       "  <thead>\n",
       "    <tr style=\"text-align: right;\">\n",
       "      <th></th>\n",
       "      <th>chat</th>\n",
       "      <th>messageSender</th>\n",
       "      <th>messageID</th>\n",
       "      <th>messageReplyID</th>\n",
       "      <th>messageDatetime</th>\n",
       "      <th>messageText</th>\n",
       "      <th>cluster</th>\n",
       "      <th>prob_0</th>\n",
       "      <th>prob_1</th>\n",
       "      <th>prob_2</th>\n",
       "      <th>prob_3</th>\n",
       "      <th>prob_4</th>\n",
       "      <th>prob_5</th>\n",
       "      <th>prob_6</th>\n",
       "      <th>prob_7</th>\n",
       "      <th>prob_8</th>\n",
       "      <th>prob_9</th>\n",
       "      <th>week</th>\n",
       "    </tr>\n",
       "  </thead>\n",
       "  <tbody>\n",
       "    <tr>\n",
       "      <th>58611</th>\n",
       "      <td>https://t.me/refugeesinSwitzerland</td>\n",
       "      <td>828331495</td>\n",
       "      <td>72764</td>\n",
       "      <td>47355.0</td>\n",
       "      <td>2022-04-26 09:50:38+00:00</td>\n",
       "      <td>Здраствуйте. Нашли группу Швиц?</td>\n",
       "      <td>-1</td>\n",
       "      <td>1.048897e-02</td>\n",
       "      <td>9.965063e-03</td>\n",
       "      <td>2.015103e-02</td>\n",
       "      <td>1.810899e-02</td>\n",
       "      <td>6.668440e-03</td>\n",
       "      <td>1.785504e-02</td>\n",
       "      <td>2.850263e-04</td>\n",
       "      <td>7.667757e-03</td>\n",
       "      <td>1.095866e-02</td>\n",
       "      <td>2.519652e-02</td>\n",
       "      <td>17</td>\n",
       "    </tr>\n",
       "    <tr>\n",
       "      <th>68778</th>\n",
       "      <td>https://t.me/refugeesinSwitzerland</td>\n",
       "      <td>269969015</td>\n",
       "      <td>57987</td>\n",
       "      <td>57983.0</td>\n",
       "      <td>2022-04-11 11:34:17+00:00</td>\n",
       "      <td>Ищите по #тегу здоровье и врач, я сегодня писала</td>\n",
       "      <td>0</td>\n",
       "      <td>2.105121e-143</td>\n",
       "      <td>4.383459e-149</td>\n",
       "      <td>5.559348e-60</td>\n",
       "      <td>3.457137e-79</td>\n",
       "      <td>2.745958e-149</td>\n",
       "      <td>1.244062e-156</td>\n",
       "      <td>1.182213e-166</td>\n",
       "      <td>2.423736e-149</td>\n",
       "      <td>2.433594e-149</td>\n",
       "      <td>2.353949e-149</td>\n",
       "      <td>15</td>\n",
       "    </tr>\n",
       "    <tr>\n",
       "      <th>68996</th>\n",
       "      <td>https://t.me/refugeesinSwitzerland</td>\n",
       "      <td>269969015</td>\n",
       "      <td>57682</td>\n",
       "      <td>57678.0</td>\n",
       "      <td>2022-04-11 06:52:41+00:00</td>\n",
       "      <td>Идите в пункт приема беженцев, скажите, что не...</td>\n",
       "      <td>1</td>\n",
       "      <td>2.918891e-04</td>\n",
       "      <td>3.047558e-04</td>\n",
       "      <td>8.848523e-04</td>\n",
       "      <td>3.262541e-04</td>\n",
       "      <td>2.269646e-04</td>\n",
       "      <td>9.308362e-04</td>\n",
       "      <td>2.040124e-05</td>\n",
       "      <td>2.983882e-04</td>\n",
       "      <td>4.536601e-04</td>\n",
       "      <td>1.340397e-03</td>\n",
       "      <td>15</td>\n",
       "    </tr>\n",
       "    <tr>\n",
       "      <th>69120</th>\n",
       "      <td>https://t.me/refugeesinSwitzerland</td>\n",
       "      <td>5163121543</td>\n",
       "      <td>57507</td>\n",
       "      <td>57501.0</td>\n",
       "      <td>2022-04-10 22:13:57+00:00</td>\n",
       "      <td>Понятия не имею 🤷‍♀️, где в это время были их ...</td>\n",
       "      <td>-1</td>\n",
       "      <td>1.335496e-02</td>\n",
       "      <td>1.053956e-02</td>\n",
       "      <td>2.292767e-02</td>\n",
       "      <td>3.243752e-02</td>\n",
       "      <td>8.565719e-03</td>\n",
       "      <td>1.916096e-02</td>\n",
       "      <td>3.398459e-04</td>\n",
       "      <td>9.551150e-03</td>\n",
       "      <td>1.722752e-02</td>\n",
       "      <td>2.801575e-02</td>\n",
       "      <td>14</td>\n",
       "    </tr>\n",
       "    <tr>\n",
       "      <th>69123</th>\n",
       "      <td>https://t.me/refugeesinSwitzerland</td>\n",
       "      <td>305262202</td>\n",
       "      <td>57503</td>\n",
       "      <td>57500.0</td>\n",
       "      <td>2022-04-10 22:12:22+00:00</td>\n",
       "      <td>Я интересовался за конкретный банк. А вы мне р...</td>\n",
       "      <td>7</td>\n",
       "      <td>1.368406e-22</td>\n",
       "      <td>1.633452e-06</td>\n",
       "      <td>6.421784e-06</td>\n",
       "      <td>4.279717e-07</td>\n",
       "      <td>1.636353e-06</td>\n",
       "      <td>4.386625e-06</td>\n",
       "      <td>1.073138e-26</td>\n",
       "      <td>2.852951e-06</td>\n",
       "      <td>4.592523e-06</td>\n",
       "      <td>9.345897e-06</td>\n",
       "      <td>14</td>\n",
       "    </tr>\n",
       "    <tr>\n",
       "      <th>...</th>\n",
       "      <td>...</td>\n",
       "      <td>...</td>\n",
       "      <td>...</td>\n",
       "      <td>...</td>\n",
       "      <td>...</td>\n",
       "      <td>...</td>\n",
       "      <td>...</td>\n",
       "      <td>...</td>\n",
       "      <td>...</td>\n",
       "      <td>...</td>\n",
       "      <td>...</td>\n",
       "      <td>...</td>\n",
       "      <td>...</td>\n",
       "      <td>...</td>\n",
       "      <td>...</td>\n",
       "      <td>...</td>\n",
       "      <td>...</td>\n",
       "      <td>...</td>\n",
       "    </tr>\n",
       "    <tr>\n",
       "      <th>268349</th>\n",
       "      <td>https://t.me/SwissUA</td>\n",
       "      <td>5139964420</td>\n",
       "      <td>10956</td>\n",
       "      <td>10908.0</td>\n",
       "      <td>2022-03-24 07:27:23+00:00</td>\n",
       "      <td>Не знаю если волонтеры расселяют или самим над...</td>\n",
       "      <td>-1</td>\n",
       "      <td>7.295959e-03</td>\n",
       "      <td>6.582143e-03</td>\n",
       "      <td>4.506252e-01</td>\n",
       "      <td>1.346253e-02</td>\n",
       "      <td>4.270472e-03</td>\n",
       "      <td>1.216234e-02</td>\n",
       "      <td>1.739528e-04</td>\n",
       "      <td>6.755228e-03</td>\n",
       "      <td>8.970455e-03</td>\n",
       "      <td>1.816644e-02</td>\n",
       "      <td>12</td>\n",
       "    </tr>\n",
       "    <tr>\n",
       "      <th>272224</th>\n",
       "      <td>https://t.me/SwissUA</td>\n",
       "      <td>716209930</td>\n",
       "      <td>4108</td>\n",
       "      <td>4035.0</td>\n",
       "      <td>2022-03-12 18:16:42+00:00</td>\n",
       "      <td>Інформація підтверджується на цьому сайті http...</td>\n",
       "      <td>9</td>\n",
       "      <td>8.847484e-06</td>\n",
       "      <td>3.222257e-06</td>\n",
       "      <td>3.207164e-06</td>\n",
       "      <td>1.816050e-01</td>\n",
       "      <td>4.962245e-06</td>\n",
       "      <td>8.610350e-08</td>\n",
       "      <td>2.323646e-10</td>\n",
       "      <td>2.975165e-06</td>\n",
       "      <td>2.478803e-06</td>\n",
       "      <td>2.717354e-06</td>\n",
       "      <td>10</td>\n",
       "    </tr>\n",
       "    <tr>\n",
       "      <th>272225</th>\n",
       "      <td>https://t.me/SwissUA</td>\n",
       "      <td>716209930</td>\n",
       "      <td>4107</td>\n",
       "      <td>4035.0</td>\n",
       "      <td>2022-03-12 18:14:34+00:00</td>\n",
       "      <td>Був сьогодні в аеропорту. Сказали їхати в Boudry</td>\n",
       "      <td>-1</td>\n",
       "      <td>3.518694e-03</td>\n",
       "      <td>7.662189e-01</td>\n",
       "      <td>9.617653e-03</td>\n",
       "      <td>5.570359e-03</td>\n",
       "      <td>2.487953e-03</td>\n",
       "      <td>8.643021e-03</td>\n",
       "      <td>2.186995e-04</td>\n",
       "      <td>3.194839e-03</td>\n",
       "      <td>5.425180e-03</td>\n",
       "      <td>1.289831e-02</td>\n",
       "      <td>10</td>\n",
       "    </tr>\n",
       "    <tr>\n",
       "      <th>272249</th>\n",
       "      <td>https://t.me/SwissUA</td>\n",
       "      <td>23244478</td>\n",
       "      <td>4044</td>\n",
       "      <td>4034.0</td>\n",
       "      <td>2022-03-12 11:34:48+00:00</td>\n",
       "      <td>До речі, виглядає так нібито видачу звичайного...</td>\n",
       "      <td>-1</td>\n",
       "      <td>0.000000e+00</td>\n",
       "      <td>0.000000e+00</td>\n",
       "      <td>2.743619e-277</td>\n",
       "      <td>0.000000e+00</td>\n",
       "      <td>0.000000e+00</td>\n",
       "      <td>0.000000e+00</td>\n",
       "      <td>0.000000e+00</td>\n",
       "      <td>0.000000e+00</td>\n",
       "      <td>0.000000e+00</td>\n",
       "      <td>0.000000e+00</td>\n",
       "      <td>10</td>\n",
       "    </tr>\n",
       "    <tr>\n",
       "      <th>272251</th>\n",
       "      <td>https://t.me/SwissUA</td>\n",
       "      <td>85241790</td>\n",
       "      <td>4040</td>\n",
       "      <td>4035.0</td>\n",
       "      <td>2022-03-12 11:30:19+00:00</td>\n",
       "      <td>спробуйте звернутися сюди: Secrétariat d’État ...</td>\n",
       "      <td>-1</td>\n",
       "      <td>2.786689e-04</td>\n",
       "      <td>1.302302e-04</td>\n",
       "      <td>1.486856e-04</td>\n",
       "      <td>9.490399e-01</td>\n",
       "      <td>1.455617e-04</td>\n",
       "      <td>5.681554e-05</td>\n",
       "      <td>3.681249e-07</td>\n",
       "      <td>1.095648e-04</td>\n",
       "      <td>3.159042e-03</td>\n",
       "      <td>1.522646e-04</td>\n",
       "      <td>10</td>\n",
       "    </tr>\n",
       "  </tbody>\n",
       "</table>\n",
       "<p>469 rows × 18 columns</p>\n",
       "</div>"
      ],
      "text/plain": [
       "                                      chat  messageSender  messageID  \\\n",
       "58611   https://t.me/refugeesinSwitzerland      828331495      72764   \n",
       "68778   https://t.me/refugeesinSwitzerland      269969015      57987   \n",
       "68996   https://t.me/refugeesinSwitzerland      269969015      57682   \n",
       "69120   https://t.me/refugeesinSwitzerland     5163121543      57507   \n",
       "69123   https://t.me/refugeesinSwitzerland      305262202      57503   \n",
       "...                                    ...            ...        ...   \n",
       "268349                https://t.me/SwissUA     5139964420      10956   \n",
       "272224                https://t.me/SwissUA      716209930       4108   \n",
       "272225                https://t.me/SwissUA      716209930       4107   \n",
       "272249                https://t.me/SwissUA       23244478       4044   \n",
       "272251                https://t.me/SwissUA       85241790       4040   \n",
       "\n",
       "        messageReplyID            messageDatetime  \\\n",
       "58611          47355.0  2022-04-26 09:50:38+00:00   \n",
       "68778          57983.0  2022-04-11 11:34:17+00:00   \n",
       "68996          57678.0  2022-04-11 06:52:41+00:00   \n",
       "69120          57501.0  2022-04-10 22:13:57+00:00   \n",
       "69123          57500.0  2022-04-10 22:12:22+00:00   \n",
       "...                ...                        ...   \n",
       "268349         10908.0  2022-03-24 07:27:23+00:00   \n",
       "272224          4035.0  2022-03-12 18:16:42+00:00   \n",
       "272225          4035.0  2022-03-12 18:14:34+00:00   \n",
       "272249          4034.0  2022-03-12 11:34:48+00:00   \n",
       "272251          4035.0  2022-03-12 11:30:19+00:00   \n",
       "\n",
       "                                              messageText  cluster  \\\n",
       "58611                     Здраствуйте. Нашли группу Швиц?       -1   \n",
       "68778    Ищите по #тегу здоровье и врач, я сегодня писала        0   \n",
       "68996   Идите в пункт приема беженцев, скажите, что не...        1   \n",
       "69120   Понятия не имею 🤷‍♀️, где в это время были их ...       -1   \n",
       "69123   Я интересовался за конкретный банк. А вы мне р...        7   \n",
       "...                                                   ...      ...   \n",
       "268349  Не знаю если волонтеры расселяют или самим над...       -1   \n",
       "272224  Інформація підтверджується на цьому сайті http...        9   \n",
       "272225   Був сьогодні в аеропорту. Сказали їхати в Boudry       -1   \n",
       "272249  До речі, виглядає так нібито видачу звичайного...       -1   \n",
       "272251  спробуйте звернутися сюди: Secrétariat d’État ...       -1   \n",
       "\n",
       "               prob_0         prob_1         prob_2        prob_3  \\\n",
       "58611    1.048897e-02   9.965063e-03   2.015103e-02  1.810899e-02   \n",
       "68778   2.105121e-143  4.383459e-149   5.559348e-60  3.457137e-79   \n",
       "68996    2.918891e-04   3.047558e-04   8.848523e-04  3.262541e-04   \n",
       "69120    1.335496e-02   1.053956e-02   2.292767e-02  3.243752e-02   \n",
       "69123    1.368406e-22   1.633452e-06   6.421784e-06  4.279717e-07   \n",
       "...               ...            ...            ...           ...   \n",
       "268349   7.295959e-03   6.582143e-03   4.506252e-01  1.346253e-02   \n",
       "272224   8.847484e-06   3.222257e-06   3.207164e-06  1.816050e-01   \n",
       "272225   3.518694e-03   7.662189e-01   9.617653e-03  5.570359e-03   \n",
       "272249   0.000000e+00   0.000000e+00  2.743619e-277  0.000000e+00   \n",
       "272251   2.786689e-04   1.302302e-04   1.486856e-04  9.490399e-01   \n",
       "\n",
       "               prob_4         prob_5         prob_6         prob_7  \\\n",
       "58611    6.668440e-03   1.785504e-02   2.850263e-04   7.667757e-03   \n",
       "68778   2.745958e-149  1.244062e-156  1.182213e-166  2.423736e-149   \n",
       "68996    2.269646e-04   9.308362e-04   2.040124e-05   2.983882e-04   \n",
       "69120    8.565719e-03   1.916096e-02   3.398459e-04   9.551150e-03   \n",
       "69123    1.636353e-06   4.386625e-06   1.073138e-26   2.852951e-06   \n",
       "...               ...            ...            ...            ...   \n",
       "268349   4.270472e-03   1.216234e-02   1.739528e-04   6.755228e-03   \n",
       "272224   4.962245e-06   8.610350e-08   2.323646e-10   2.975165e-06   \n",
       "272225   2.487953e-03   8.643021e-03   2.186995e-04   3.194839e-03   \n",
       "272249   0.000000e+00   0.000000e+00   0.000000e+00   0.000000e+00   \n",
       "272251   1.455617e-04   5.681554e-05   3.681249e-07   1.095648e-04   \n",
       "\n",
       "               prob_8         prob_9  week  \n",
       "58611    1.095866e-02   2.519652e-02    17  \n",
       "68778   2.433594e-149  2.353949e-149    15  \n",
       "68996    4.536601e-04   1.340397e-03    15  \n",
       "69120    1.722752e-02   2.801575e-02    14  \n",
       "69123    4.592523e-06   9.345897e-06    14  \n",
       "...               ...            ...   ...  \n",
       "268349   8.970455e-03   1.816644e-02    12  \n",
       "272224   2.478803e-06   2.717354e-06    10  \n",
       "272225   5.425180e-03   1.289831e-02    10  \n",
       "272249   0.000000e+00   0.000000e+00    10  \n",
       "272251   3.159042e-03   1.522646e-04    10  \n",
       "\n",
       "[469 rows x 18 columns]"
      ]
     },
     "execution_count": 71,
     "metadata": {},
     "output_type": "execute_result"
    }
   ],
   "source": [
    "df[df.messageReplyID.isin((df[(df.messageSender==-1001282380951) & (df.cluster!=-1)].messageID))]"
   ]
  },
  {
   "cell_type": "code",
   "execution_count": 30,
   "metadata": {},
   "outputs": [],
   "source": [
    "G= nx.Graph() #TODO check other than symmetric networks\n",
    "for nr, i in enumerate(df[(df.messageSender==-1001506638003)].iterrows()):\n",
    "    G.add_edge(i[1][\"messageSender\"],i[1]['cluster_name']) #TODO change to messageID\n",
    "    "
   ]
  },
  {
   "cell_type": "code",
   "execution_count": 26,
   "metadata": {},
   "outputs": [
    {
     "ename": "TypeError",
     "evalue": "'AtlasView' object does not support item assignment",
     "output_type": "error",
     "traceback": [
      "\u001b[0;31m---------------------------------------------------------------------------\u001b[0m",
      "\u001b[0;31mTypeError\u001b[0m                                 Traceback (most recent call last)",
      "\u001b[1;32m/Users/kiliansprenkamp/Desktop/OneDrive - Universität Zürich UZH/migrantZurich/unsupervised-migrant-telegram-analysis/reports/networkx.ipynb Cell 4\u001b[0m in \u001b[0;36m<cell line: 3>\u001b[0;34m()\u001b[0m\n\u001b[1;32m      <a href='vscode-notebook-cell:/Users/kiliansprenkamp/Desktop/OneDrive%20-%20Universit%C3%A4t%20Z%C3%BCrich%20UZH/migrantZurich/unsupervised-migrant-telegram-analysis/reports/networkx.ipynb#X14sZmlsZQ%3D%3D?line=0'>1</a>\u001b[0m G\u001b[39m=\u001b[39m nx\u001b[39m.\u001b[39mGraph()\n\u001b[1;32m      <a href='vscode-notebook-cell:/Users/kiliansprenkamp/Desktop/OneDrive%20-%20Universit%C3%A4t%20Z%C3%BCrich%20UZH/migrantZurich/unsupervised-migrant-telegram-analysis/reports/networkx.ipynb#X14sZmlsZQ%3D%3D?line=1'>2</a>\u001b[0m G\u001b[39m.\u001b[39madd_node(\u001b[39m5\u001b[39m)\n\u001b[0;32m----> <a href='vscode-notebook-cell:/Users/kiliansprenkamp/Desktop/OneDrive%20-%20Universit%C3%A4t%20Z%C3%BCrich%20UZH/migrantZurich/unsupervised-migrant-telegram-analysis/reports/networkx.ipynb#X14sZmlsZQ%3D%3D?line=2'>3</a>\u001b[0m G[\u001b[39m5\u001b[39m][\u001b[39m'\u001b[39m\u001b[39mcolor\u001b[39m\u001b[39m'\u001b[39m]\u001b[39m=\u001b[39m\u001b[39m'\u001b[39m\u001b[39mred\u001b[39m\u001b[39m'\u001b[39m\n",
      "\u001b[0;31mTypeError\u001b[0m: 'AtlasView' object does not support item assignment"
     ]
    }
   ],
   "source": [
    "G= nx.Graph()\n",
    "G.add_node(5)\n",
    "G[5]['color']='red'"
   ]
  },
  {
   "cell_type": "code",
   "execution_count": 27,
   "metadata": {},
   "outputs": [
    {
     "data": {
      "text/plain": [
       "{0: Text(-0.9987429475918784, -0.35020835947619644, '0'),\n",
       " 1: Text(-0.23141723201825112, -0.12620422302094197, '1'),\n",
       " 2: Text(0.14393301288764032, 0.8721407492324282, '2'),\n",
       " 3: Text(-0.6912915793791871, 0.596826748568767, '3'),\n",
       " 4: Text(-0.14338054040765238, -0.8695649009622017, '4'),\n",
       " 5: Text(0.2315420964331387, 0.1246526945489983, '5'),\n",
       " 6: Text(1.0, 0.3510448679482861, '6'),\n",
       " 7: Text(0.6893571900761896, -0.5986875768391395, '7')}"
      ]
     },
     "execution_count": 27,
     "metadata": {},
     "output_type": "execute_result"
    },
    {
     "data": {
      "image/png": "[encoded data removed]",
      "text/plain": [
       "<Figure size 432x288 with 1 Axes>"
      ]
     },
     "metadata": {},
     "output_type": "display_data"
    }
   ],
   "source": [
    "G = nx.cubical_graph()\n",
    "pos = nx.spring_layout(G)\n",
    "\n",
    "nodes = {\n",
    "    'r': [1, 3, 5],\n",
    "    'b': [0, 2],\n",
    "    'g': [4]\n",
    "}\n",
    "for node_color, nodelist in nodes.items():\n",
    "    nx.draw_networkx_nodes(G, pos, nodelist=nodelist, node_color=node_color)\n",
    "\n",
    "labels = {x: x for x in G.nodes}\n",
    "nx.draw_networkx_labels(G, pos, labels, font_size=16, font_color='w')"
   ]
  },
  {
   "cell_type": "code",
   "execution_count": 20,
   "metadata": {},
   "outputs": [
    {
     "ename": "KeyError",
     "evalue": "1",
     "output_type": "error",
     "traceback": [
      "\u001b[0;31m---------------------------------------------------------------------------\u001b[0m",
      "\u001b[0;31mKeyError\u001b[0m                                  Traceback (most recent call last)",
      "\u001b[1;32m/Users/kiliansprenkamp/Desktop/OneDrive - Universität Zürich UZH/migrantZurich/unsupervised-migrant-telegram-analysis/reports/networkx.ipynb Cell 4\u001b[0m in \u001b[0;36m<cell line: 1>\u001b[0;34m()\u001b[0m\n\u001b[0;32m----> <a href='vscode-notebook-cell:/Users/kiliansprenkamp/Desktop/OneDrive%20-%20Universit%C3%A4t%20Z%C3%BCrich%20UZH/migrantZurich/unsupervised-migrant-telegram-analysis/reports/networkx.ipynb#X12sZmlsZQ%3D%3D?line=0'>1</a>\u001b[0m G[\u001b[39m1\u001b[39;49m][\u001b[39m3\u001b[39m][\u001b[39m'\u001b[39m\u001b[39mcolor\u001b[39m\u001b[39m'\u001b[39m]\u001b[39m=\u001b[39m\u001b[39m'\u001b[39m\u001b[39mblue\u001b[39m\u001b[39m'\u001b[39m\n",
      "File \u001b[0;32m~/miniconda3/envs/telegram/lib/python3.9/site-packages/networkx/classes/graph.py:517\u001b[0m, in \u001b[0;36mGraph.__getitem__\u001b[0;34m(self, n)\u001b[0m\n\u001b[1;32m    493\u001b[0m \u001b[39mdef\u001b[39;00m \u001b[39m__getitem__\u001b[39m(\u001b[39mself\u001b[39m, n):\n\u001b[1;32m    494\u001b[0m     \u001b[39m\"\"\"Returns a dict of neighbors of node n.  Use: 'G[n]'.\u001b[39;00m\n\u001b[1;32m    495\u001b[0m \n\u001b[1;32m    496\u001b[0m \u001b[39m    Parameters\u001b[39;00m\n\u001b[0;32m   (...)\u001b[0m\n\u001b[1;32m    515\u001b[0m \u001b[39m    AtlasView({1: {}})\u001b[39;00m\n\u001b[1;32m    516\u001b[0m \u001b[39m    \"\"\"\u001b[39;00m\n\u001b[0;32m--> 517\u001b[0m     \u001b[39mreturn\u001b[39;00m \u001b[39mself\u001b[39;49m\u001b[39m.\u001b[39;49madj[n]\n",
      "File \u001b[0;32m~/miniconda3/envs/telegram/lib/python3.9/site-packages/networkx/classes/coreviews.py:82\u001b[0m, in \u001b[0;36mAdjacencyView.__getitem__\u001b[0;34m(self, name)\u001b[0m\n\u001b[1;32m     81\u001b[0m \u001b[39mdef\u001b[39;00m \u001b[39m__getitem__\u001b[39m(\u001b[39mself\u001b[39m, name):\n\u001b[0;32m---> 82\u001b[0m     \u001b[39mreturn\u001b[39;00m AtlasView(\u001b[39mself\u001b[39;49m\u001b[39m.\u001b[39;49m_atlas[name])\n",
      "\u001b[0;31mKeyError\u001b[0m: 1"
     ]
    }
   ],
   "source": [
    "G[1][3]['color']='blue'"
   ]
  },
  {
   "cell_type": "code",
   "execution_count": 19,
   "metadata": {},
   "outputs": [
    {
     "ename": "TypeError",
     "evalue": "'AtlasView' object does not support item assignment",
     "output_type": "error",
     "traceback": [
      "\u001b[0;31m---------------------------------------------------------------------------\u001b[0m",
      "\u001b[0;31mTypeError\u001b[0m                                 Traceback (most recent call last)",
      "\u001b[1;32m/Users/kiliansprenkamp/Desktop/OneDrive - Universität Zürich UZH/migrantZurich/unsupervised-migrant-telegram-analysis/reports/networkx.ipynb Cell 5\u001b[0m in \u001b[0;36m<cell line: 1>\u001b[0;34m()\u001b[0m\n\u001b[0;32m----> <a href='vscode-notebook-cell:/Users/kiliansprenkamp/Desktop/OneDrive%20-%20Universit%C3%A4t%20Z%C3%BCrich%20UZH/migrantZurich/unsupervised-migrant-telegram-analysis/reports/networkx.ipynb#X13sZmlsZQ%3D%3D?line=0'>1</a>\u001b[0m G[\u001b[39m-\u001b[39m\u001b[39m1001506638003\u001b[39m][\u001b[39m'\u001b[39m\u001b[39mcolor\u001b[39m\u001b[39m'\u001b[39m]\u001b[39m=\u001b[39m\u001b[39m'\u001b[39m\u001b[39mblue\u001b[39m\u001b[39m'\u001b[39m\n",
      "\u001b[0;31mTypeError\u001b[0m: 'AtlasView' object does not support item assignment"
     ]
    }
   ],
   "source": [
    "G[-1001506638003]['color']='blue'\n"
   ]
  },
  {
   "cell_type": "code",
   "execution_count": 34,
   "metadata": {},
   "outputs": [
    {
     "data": {
      "text/plain": [
       "int"
      ]
     },
     "execution_count": 34,
     "metadata": {},
     "output_type": "execute_result"
    }
   ],
   "source": [
    "type(-1001506638003)"
   ]
  },
  {
   "cell_type": "code",
   "execution_count": 43,
   "metadata": {},
   "outputs": [
    {
     "data": {
      "image/png": "[encoded data removed]",
      "text/plain": [
       "<Figure size 432x288 with 1 Axes>"
      ]
     },
     "metadata": {},
     "output_type": "display_data"
    }
   ],
   "source": [
    "nx.draw_networkx(G, node_color=color_map, with_labels=True)"
   ]
  },
  {
   "cell_type": "code",
   "execution_count": null,
   "metadata": {},
   "outputs": [],
   "source": [
    "net = Network(notebook=True)\n",
    "net.from_nx(G_symmetric)\n",
    "net.show(\"example.html\")"
   ]
  },
  {
   "cell_type": "code",
   "execution_count": 11,
   "metadata": {},
   "outputs": [],
   "source": [
    "from pyvis.network import Network\n",
    "\n",
    "g = Network()\n",
    "g.add_node(0)\n",
    "g.add_node(1)\n",
    "g.add_edge(0, 1)\n",
    "g.show(\"basic.html\")"
   ]
  },
  {
   "cell_type": "code",
   "execution_count": null,
   "metadata": {},
   "outputs": [],
   "source": [
    "net.show(\"example.html\")"
   ]
  },
  {
   "cell_type": "code",
   "execution_count": 42,
   "metadata": {},
   "outputs": [
    {
     "name": "stdout",
     "output_type": "stream",
     "text": [
      "-1001506638003 <class 'int'>\n",
      "website_links <class 'str'>\n",
      "teaching <class 'str'>\n",
      "transport_train_CH <class 'str'>\n",
      "immigration <class 'str'>\n",
      "banking <class 'str'>\n",
      "pets <class 'str'>\n",
      "volunteering <class 'str'>\n",
      "medical <class 'str'>\n"
     ]
    }
   ],
   "source": [
    "color_map = []\n",
    "for node in G:\n",
    "    print(node, type(node))\n",
    "    if isinstance(node, int):\n",
    "        color_map.append('red')\n",
    "    if isinstance(node, str):\n",
    "        color_map.append('blue')"
   ]
  },
  {
   "cell_type": "code",
   "execution_count": null,
   "metadata": {},
   "outputs": [],
   "source": [
    "for node in G\n",
    "\n",
    "color_map = []\n",
    "for node in G:\n",
    "    if node < 10:\n",
    "        color_map.append('blue')\n",
    "    else: \n",
    "        color_map.append('green')      \n",
    "nx.draw(G, node_color=color_map, with_labels=True)\n",
    "plt.show()"
   ]
  }
 ],
 "metadata": {
  "kernelspec": {
   "display_name": "Python 3.9.13 ('telegram')",
   "language": "python",
   "name": "python3"
  },
  "language_info": {
   "codemirror_mode": {
    "name": "ipython",
    "version": 3
   },
   "file_extension": ".py",
   "mimetype": "text/x-python",
   "name": "python",
   "nbconvert_exporter": "python",
   "pygments_lexer": "ipython3",
   "version": "3.9.13"
  },
  "orig_nbformat": 4,
  "vscode": {
   "interpreter": {
    "hash": "d2386c381fab908a4e48f3c5849d193fc799b9f792c037a48abb7a588aa93a14"
   }
  }
 },
 "nbformat": 4,
 "nbformat_minor": 2
}
