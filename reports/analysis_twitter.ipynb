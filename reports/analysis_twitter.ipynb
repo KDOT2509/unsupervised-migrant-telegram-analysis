{
 "cells": [
  {
   "cell_type": "code",
   "execution_count": 1,
   "metadata": {},
   "outputs": [],
   "source": [
    "import json\n",
    "import pandas as pd\n",
    "from searchtweets import ResultStream, gen_request_parameters, load_credentials, collect_results\n",
    "import pandas \n",
    "\n",
    "\n"
   ]
  },
  {
   "cell_type": "markdown",
   "metadata": {},
   "source": [
    "# Count tweets"
   ]
  },
  {
   "cell_type": "code",
   "execution_count": 2,
   "metadata": {},
   "outputs": [],
   "source": [
    "v2_search_args = load_credentials(\"~/.twitter_keys.yaml\",\n",
    "                                          yaml_key=\"count_tweets_v2\",\n",
    "                                          env_overwrite=False)\n",
    "\n",
    "def count_total_tweets(count_list):\n",
    "    for index, count in enumerate(count_list):\n",
    "        if index == 0:\n",
    "            total_counts = count[\"meta\"]['total_tweet_count']\n",
    "        else:\n",
    "            total_counts += count[\"meta\"]['total_tweet_count']\n",
    "    return total_counts\n",
    "\n"
   ]
  },
  {
   "cell_type": "code",
   "execution_count": 62,
   "metadata": {},
   "outputs": [
    {
     "data": {
      "text/plain": [
       "1377986"
      ]
     },
     "execution_count": 62,
     "metadata": {},
     "output_type": "execute_result"
    }
   ],
   "source": [
    "#search_string = \"(#Ukraine OR #Ukrainian) (#refugee OR #refugees OR #migration OR #migrants OR #migrant OR #flüchtlinge)  (place_country:CH OR place_country:UA)\"\n",
    "search_string = '''\n",
    "            (Ukraine OR Ukrainian) \n",
    "            (refugee OR refugees OR migration OR migrants OR migrant OR flüchtlinge) \n",
    "            (place_country:AT OR place_country:BE OR place_country:BG OR place_country:HR OR place_country:CY\n",
    "            OR place_country:CZ OR place_country:DK OR place_country:EE OR place_country:FI OR place_country:FR \n",
    "            OR place_country:DE OR place_country:GR OR place_country:HU OR place_country:IE OR place_country:IT \n",
    "            OR place_country:LV OR place_country:LT OR place_country:LU OR place_country:MT OR place_country:NL \n",
    "            OR place_country:PL OR place_country:PT OR place_country:RO OR place_country:SK OR place_country:SI \n",
    "            OR place_country:ES OR place_country:SE OR place_country:CH OR place_country:NO OR place_country:GB \n",
    "            OR place_country:LI OR place_country:IS OR place_country:MD)\n",
    "            '''\n",
    "search_string2 = '''\n",
    "            (Ukraine OR Ukrainian) \n",
    "            (refugee OR refugees OR migration OR migrants OR migrant) \n",
    "            (Austria OR Belgium OR Bulgaria OR Croatia OR Cyprus OR Czech Republic OR Denmark \n",
    "            OR Estonia OR Finland OR France OR Germany OR Greece OR Hungary OR Ireland OR Italy \n",
    "            OR Latvia OR Lithuania OR Luxembourg OR Malta OR Netherlands OR Poland OR Portugal \n",
    "            OR Romania OR Slovakia OR Slovenia OR Spain OR Sweden OR Switzerland OR Norwegia OR \n",
    "            (United Kingdom) OR Liechtenstein OR Iceland OR Moldova) \n",
    "            '''\n",
    "# search_string = '(#Ukraine OR #Ukrainian) (#refugee OR #refugees OR #migrants OR #migrants OR #migration OR #RefugeesWelcome)' \n",
    "# search_string = '(Ukraine OR Ukrainian) (refugee OR refugees OR migrants OR migrants OR migration OR RefugeesWelcome) (Switzerland)' \n",
    "count_rule = gen_request_parameters(search_string2,\n",
    "                                    granularity=\"day\",\n",
    "                                    #end_time=\"2022-11-10\",\n",
    "                                    start_time=\"2022-02-24\")\n",
    "\n",
    "# bounding_box:[west_long south_lat east_long north_lat] bounding_box:[-105.301758 39.964069 -105.178505 40.09455]\n",
    "\n",
    "counts = collect_results(count_rule, result_stream_args=v2_search_args)\n",
    "count_total_tweets(counts)"
   ]
  },
  {
   "cell_type": "code",
   "execution_count": 59,
   "metadata": {},
   "outputs": [
    {
     "data": {
      "text/plain": [
       "577"
      ]
     },
     "execution_count": 59,
     "metadata": {},
     "output_type": "execute_result"
    }
   ],
   "source": [
    "len(search_string2) "
   ]
  },
  {
   "cell_type": "markdown",
   "metadata": {},
   "source": [
    "# Analyse Data"
   ]
  },
  {
   "cell_type": "code",
   "execution_count": 27,
   "metadata": {},
   "outputs": [
    {
     "ename": "FileNotFoundError",
     "evalue": "File ../data/twitter/test2.json does not exist",
     "output_type": "error",
     "traceback": [
      "\u001b[0;31m---------------------------------------------------------------------------\u001b[0m",
      "\u001b[0;31mFileNotFoundError\u001b[0m                         Traceback (most recent call last)",
      "\u001b[1;32m/Users/kiliansprenkamp/Library/CloudStorage/OneDrive-UniversitätZürichUZH/migrantZurich/unsupervised-migrant-telegram-analysis/reports/analysis_twitter.ipynb Cell 6\u001b[0m in \u001b[0;36m<cell line: 1>\u001b[0;34m()\u001b[0m\n\u001b[0;32m----> <a href='vscode-notebook-cell:/Users/kiliansprenkamp/Library/CloudStorage/OneDrive-Universita%CC%88tZu%CC%88richUZH/migrantZurich/unsupervised-migrant-telegram-analysis/reports/analysis_twitter.ipynb#W1sZmlsZQ%3D%3D?line=0'>1</a>\u001b[0m df \u001b[39m=\u001b[39m pd\u001b[39m.\u001b[39;49mread_json(\u001b[39m'\u001b[39;49m\u001b[39m../data/twitter/test2.json\u001b[39;49m\u001b[39m'\u001b[39;49m)\n",
      "File \u001b[0;32m~/miniconda3/envs/refugeeAnalysis/lib/python3.9/site-packages/pandas/util/_decorators.py:211\u001b[0m, in \u001b[0;36mdeprecate_kwarg.<locals>._deprecate_kwarg.<locals>.wrapper\u001b[0;34m(*args, **kwargs)\u001b[0m\n\u001b[1;32m    209\u001b[0m     \u001b[39melse\u001b[39;00m:\n\u001b[1;32m    210\u001b[0m         kwargs[new_arg_name] \u001b[39m=\u001b[39m new_arg_value\n\u001b[0;32m--> 211\u001b[0m \u001b[39mreturn\u001b[39;00m func(\u001b[39m*\u001b[39;49margs, \u001b[39m*\u001b[39;49m\u001b[39m*\u001b[39;49mkwargs)\n",
      "File \u001b[0;32m~/miniconda3/envs/refugeeAnalysis/lib/python3.9/site-packages/pandas/util/_decorators.py:331\u001b[0m, in \u001b[0;36mdeprecate_nonkeyword_arguments.<locals>.decorate.<locals>.wrapper\u001b[0;34m(*args, **kwargs)\u001b[0m\n\u001b[1;32m    325\u001b[0m \u001b[39mif\u001b[39;00m \u001b[39mlen\u001b[39m(args) \u001b[39m>\u001b[39m num_allow_args:\n\u001b[1;32m    326\u001b[0m     warnings\u001b[39m.\u001b[39mwarn(\n\u001b[1;32m    327\u001b[0m         msg\u001b[39m.\u001b[39mformat(arguments\u001b[39m=\u001b[39m_format_argument_list(allow_args)),\n\u001b[1;32m    328\u001b[0m         \u001b[39mFutureWarning\u001b[39;00m,\n\u001b[1;32m    329\u001b[0m         stacklevel\u001b[39m=\u001b[39mfind_stack_level(),\n\u001b[1;32m    330\u001b[0m     )\n\u001b[0;32m--> 331\u001b[0m \u001b[39mreturn\u001b[39;00m func(\u001b[39m*\u001b[39;49margs, \u001b[39m*\u001b[39;49m\u001b[39m*\u001b[39;49mkwargs)\n",
      "File \u001b[0;32m~/miniconda3/envs/refugeeAnalysis/lib/python3.9/site-packages/pandas/io/json/_json.py:733\u001b[0m, in \u001b[0;36mread_json\u001b[0;34m(path_or_buf, orient, typ, dtype, convert_axes, convert_dates, keep_default_dates, numpy, precise_float, date_unit, encoding, encoding_errors, lines, chunksize, compression, nrows, storage_options)\u001b[0m\n\u001b[1;32m    730\u001b[0m \u001b[39mif\u001b[39;00m convert_axes \u001b[39mis\u001b[39;00m \u001b[39mNone\u001b[39;00m \u001b[39mand\u001b[39;00m orient \u001b[39m!=\u001b[39m \u001b[39m\"\u001b[39m\u001b[39mtable\u001b[39m\u001b[39m\"\u001b[39m:\n\u001b[1;32m    731\u001b[0m     convert_axes \u001b[39m=\u001b[39m \u001b[39mTrue\u001b[39;00m\n\u001b[0;32m--> 733\u001b[0m json_reader \u001b[39m=\u001b[39m JsonReader(\n\u001b[1;32m    734\u001b[0m     path_or_buf,\n\u001b[1;32m    735\u001b[0m     orient\u001b[39m=\u001b[39;49morient,\n\u001b[1;32m    736\u001b[0m     typ\u001b[39m=\u001b[39;49mtyp,\n\u001b[1;32m    737\u001b[0m     dtype\u001b[39m=\u001b[39;49mdtype,\n\u001b[1;32m    738\u001b[0m     convert_axes\u001b[39m=\u001b[39;49mconvert_axes,\n\u001b[1;32m    739\u001b[0m     convert_dates\u001b[39m=\u001b[39;49mconvert_dates,\n\u001b[1;32m    740\u001b[0m     keep_default_dates\u001b[39m=\u001b[39;49mkeep_default_dates,\n\u001b[1;32m    741\u001b[0m     numpy\u001b[39m=\u001b[39;49mnumpy,\n\u001b[1;32m    742\u001b[0m     precise_float\u001b[39m=\u001b[39;49mprecise_float,\n\u001b[1;32m    743\u001b[0m     date_unit\u001b[39m=\u001b[39;49mdate_unit,\n\u001b[1;32m    744\u001b[0m     encoding\u001b[39m=\u001b[39;49mencoding,\n\u001b[1;32m    745\u001b[0m     lines\u001b[39m=\u001b[39;49mlines,\n\u001b[1;32m    746\u001b[0m     chunksize\u001b[39m=\u001b[39;49mchunksize,\n\u001b[1;32m    747\u001b[0m     compression\u001b[39m=\u001b[39;49mcompression,\n\u001b[1;32m    748\u001b[0m     nrows\u001b[39m=\u001b[39;49mnrows,\n\u001b[1;32m    749\u001b[0m     storage_options\u001b[39m=\u001b[39;49mstorage_options,\n\u001b[1;32m    750\u001b[0m     encoding_errors\u001b[39m=\u001b[39;49mencoding_errors,\n\u001b[1;32m    751\u001b[0m )\n\u001b[1;32m    753\u001b[0m \u001b[39mif\u001b[39;00m chunksize:\n\u001b[1;32m    754\u001b[0m     \u001b[39mreturn\u001b[39;00m json_reader\n",
      "File \u001b[0;32m~/miniconda3/envs/refugeeAnalysis/lib/python3.9/site-packages/pandas/io/json/_json.py:818\u001b[0m, in \u001b[0;36mJsonReader.__init__\u001b[0;34m(self, filepath_or_buffer, orient, typ, dtype, convert_axes, convert_dates, keep_default_dates, numpy, precise_float, date_unit, encoding, lines, chunksize, compression, nrows, storage_options, encoding_errors)\u001b[0m\n\u001b[1;32m    815\u001b[0m     \u001b[39mif\u001b[39;00m \u001b[39mnot\u001b[39;00m \u001b[39mself\u001b[39m\u001b[39m.\u001b[39mlines:\n\u001b[1;32m    816\u001b[0m         \u001b[39mraise\u001b[39;00m \u001b[39mValueError\u001b[39;00m(\u001b[39m\"\u001b[39m\u001b[39mnrows can only be passed if lines=True\u001b[39m\u001b[39m\"\u001b[39m)\n\u001b[0;32m--> 818\u001b[0m data \u001b[39m=\u001b[39m \u001b[39mself\u001b[39;49m\u001b[39m.\u001b[39;49m_get_data_from_filepath(filepath_or_buffer)\n\u001b[1;32m    819\u001b[0m \u001b[39mself\u001b[39m\u001b[39m.\u001b[39mdata \u001b[39m=\u001b[39m \u001b[39mself\u001b[39m\u001b[39m.\u001b[39m_preprocess_data(data)\n",
      "File \u001b[0;32m~/miniconda3/envs/refugeeAnalysis/lib/python3.9/site-packages/pandas/io/json/_json.py:874\u001b[0m, in \u001b[0;36mJsonReader._get_data_from_filepath\u001b[0;34m(self, filepath_or_buffer)\u001b[0m\n\u001b[1;32m    866\u001b[0m     filepath_or_buffer \u001b[39m=\u001b[39m \u001b[39mself\u001b[39m\u001b[39m.\u001b[39mhandles\u001b[39m.\u001b[39mhandle\n\u001b[1;32m    867\u001b[0m \u001b[39melif\u001b[39;00m (\n\u001b[1;32m    868\u001b[0m     \u001b[39misinstance\u001b[39m(filepath_or_buffer, \u001b[39mstr\u001b[39m)\n\u001b[1;32m    869\u001b[0m     \u001b[39mand\u001b[39;00m filepath_or_buffer\u001b[39m.\u001b[39mlower()\u001b[39m.\u001b[39mendswith(\n\u001b[0;32m   (...)\u001b[0m\n\u001b[1;32m    872\u001b[0m     \u001b[39mand\u001b[39;00m \u001b[39mnot\u001b[39;00m file_exists(filepath_or_buffer)\n\u001b[1;32m    873\u001b[0m ):\n\u001b[0;32m--> 874\u001b[0m     \u001b[39mraise\u001b[39;00m \u001b[39mFileNotFoundError\u001b[39;00m(\u001b[39mf\u001b[39m\u001b[39m\"\u001b[39m\u001b[39mFile \u001b[39m\u001b[39m{\u001b[39;00mfilepath_or_buffer\u001b[39m}\u001b[39;00m\u001b[39m does not exist\u001b[39m\u001b[39m\"\u001b[39m)\n\u001b[1;32m    876\u001b[0m \u001b[39mreturn\u001b[39;00m filepath_or_buffer\n",
      "\u001b[0;31mFileNotFoundError\u001b[0m: File ../data/twitter/test2.json does not exist"
     ]
    }
   ],
   "source": [
    "df = pd.read_json('../data/twitter/test2.json')"
   ]
  },
  {
   "cell_type": "code",
   "execution_count": 32,
   "metadata": {},
   "outputs": [],
   "source": [
    "import json\n",
    "\n",
    "data = []\n",
    "with open('../data/twitter/switzerland/test_switzerland.json') as f:\n",
    "    for line in f:\n",
    "        for i in json.loads(line)['data']:\n",
    "            data.append(i)"
   ]
  },
  {
   "cell_type": "code",
   "execution_count": 33,
   "metadata": {},
   "outputs": [
    {
     "data": {
      "text/plain": [
       "119"
      ]
     },
     "execution_count": 33,
     "metadata": {},
     "output_type": "execute_result"
    }
   ],
   "source": [
    "len(data)"
   ]
  },
  {
   "cell_type": "code",
   "execution_count": 34,
   "metadata": {},
   "outputs": [],
   "source": [
    "df = pd.DataFrame(data)"
   ]
  },
  {
   "cell_type": "code",
   "execution_count": 35,
   "metadata": {},
   "outputs": [
    {
     "data": {
      "text/html": [
       "<div>\n",
       "<style scoped>\n",
       "    .dataframe tbody tr th:only-of-type {\n",
       "        vertical-align: middle;\n",
       "    }\n",
       "\n",
       "    .dataframe tbody tr th {\n",
       "        vertical-align: top;\n",
       "    }\n",
       "\n",
       "    .dataframe thead th {\n",
       "        text-align: right;\n",
       "    }\n",
       "</style>\n",
       "<table border=\"1\" class=\"dataframe\">\n",
       "  <thead>\n",
       "    <tr style=\"text-align: right;\">\n",
       "      <th></th>\n",
       "      <th>text</th>\n",
       "      <th>edit_history_tweet_ids</th>\n",
       "      <th>id</th>\n",
       "      <th>created_at</th>\n",
       "    </tr>\n",
       "  </thead>\n",
       "  <tbody>\n",
       "    <tr>\n",
       "      <th>0</th>\n",
       "      <td>RT @KBoz3: Luxury cars of #Ukrainian \"#refugee...</td>\n",
       "      <td>[1590886824456908805]</td>\n",
       "      <td>1590886824456908805</td>\n",
       "      <td>2022-11-11T01:59:10.000Z</td>\n",
       "    </tr>\n",
       "    <tr>\n",
       "      <th>1</th>\n",
       "      <td>Switzerland extended until March 2024 a specia...</td>\n",
       "      <td>[1590444316836745217]</td>\n",
       "      <td>1590444316836745217</td>\n",
       "      <td>2022-11-09T20:40:48.000Z</td>\n",
       "    </tr>\n",
       "    <tr>\n",
       "      <th>2</th>\n",
       "      <td>RT @KBoz3: Luxury cars of #Ukrainian \"#refugee...</td>\n",
       "      <td>[1589654017478897665]</td>\n",
       "      <td>1589654017478897665</td>\n",
       "      <td>2022-11-07T16:20:26.000Z</td>\n",
       "    </tr>\n",
       "    <tr>\n",
       "      <th>3</th>\n",
       "      <td>RT @KBoz3: Luxury cars of #Ukrainian \"#refugee...</td>\n",
       "      <td>[1589567595123908609]</td>\n",
       "      <td>1589567595123908609</td>\n",
       "      <td>2022-11-07T10:37:02.000Z</td>\n",
       "    </tr>\n",
       "    <tr>\n",
       "      <th>4</th>\n",
       "      <td>RT @KBoz3: Luxury cars of #Ukrainian \"#refugee...</td>\n",
       "      <td>[1589555848309018624]</td>\n",
       "      <td>1589555848309018624</td>\n",
       "      <td>2022-11-07T09:50:21.000Z</td>\n",
       "    </tr>\n",
       "    <tr>\n",
       "      <th>...</th>\n",
       "      <td>...</td>\n",
       "      <td>...</td>\n",
       "      <td>...</td>\n",
       "      <td>...</td>\n",
       "    </tr>\n",
       "    <tr>\n",
       "      <th>114</th>\n",
       "      <td>Switzerland to adopt EU sanctions against Russ...</td>\n",
       "      <td>[1498315001165193218]</td>\n",
       "      <td>1498315001165193218</td>\n",
       "      <td>2022-02-28T15:11:48.000Z</td>\n",
       "    </tr>\n",
       "    <tr>\n",
       "      <th>115</th>\n",
       "      <td>#Ukraine #Russia #Belarus #Switzerland #NATO #...</td>\n",
       "      <td>[1498313896624590848]</td>\n",
       "      <td>1498313896624590848</td>\n",
       "      <td>2022-02-28T15:07:24.000Z</td>\n",
       "    </tr>\n",
       "    <tr>\n",
       "      <th>116</th>\n",
       "      <td>🇺🇦🇨🇭\\nStatus S - for a temporary protection sh...</td>\n",
       "      <td>[1498297861125062663]</td>\n",
       "      <td>1498297861125062663</td>\n",
       "      <td>2022-02-28T14:03:41.000Z</td>\n",
       "    </tr>\n",
       "    <tr>\n",
       "      <th>117</th>\n",
       "      <td>RT @ChuckDalldorf: Dear people and government ...</td>\n",
       "      <td>[1497991211893723137]</td>\n",
       "      <td>1497991211893723137</td>\n",
       "      <td>2022-02-27T17:45:10.000Z</td>\n",
       "    </tr>\n",
       "    <tr>\n",
       "      <th>118</th>\n",
       "      <td>Dear people and government of #Switzerland -  ...</td>\n",
       "      <td>[1497987217209401352]</td>\n",
       "      <td>1497987217209401352</td>\n",
       "      <td>2022-02-27T17:29:18.000Z</td>\n",
       "    </tr>\n",
       "  </tbody>\n",
       "</table>\n",
       "<p>119 rows × 4 columns</p>\n",
       "</div>"
      ],
      "text/plain": [
       "                                                  text edit_history_tweet_ids  \\\n",
       "0    RT @KBoz3: Luxury cars of #Ukrainian \"#refugee...  [1590886824456908805]   \n",
       "1    Switzerland extended until March 2024 a specia...  [1590444316836745217]   \n",
       "2    RT @KBoz3: Luxury cars of #Ukrainian \"#refugee...  [1589654017478897665]   \n",
       "3    RT @KBoz3: Luxury cars of #Ukrainian \"#refugee...  [1589567595123908609]   \n",
       "4    RT @KBoz3: Luxury cars of #Ukrainian \"#refugee...  [1589555848309018624]   \n",
       "..                                                 ...                    ...   \n",
       "114  Switzerland to adopt EU sanctions against Russ...  [1498315001165193218]   \n",
       "115  #Ukraine #Russia #Belarus #Switzerland #NATO #...  [1498313896624590848]   \n",
       "116  🇺🇦🇨🇭\\nStatus S - for a temporary protection sh...  [1498297861125062663]   \n",
       "117  RT @ChuckDalldorf: Dear people and government ...  [1497991211893723137]   \n",
       "118  Dear people and government of #Switzerland -  ...  [1497987217209401352]   \n",
       "\n",
       "                      id                created_at  \n",
       "0    1590886824456908805  2022-11-11T01:59:10.000Z  \n",
       "1    1590444316836745217  2022-11-09T20:40:48.000Z  \n",
       "2    1589654017478897665  2022-11-07T16:20:26.000Z  \n",
       "3    1589567595123908609  2022-11-07T10:37:02.000Z  \n",
       "4    1589555848309018624  2022-11-07T09:50:21.000Z  \n",
       "..                   ...                       ...  \n",
       "114  1498315001165193218  2022-02-28T15:11:48.000Z  \n",
       "115  1498313896624590848  2022-02-28T15:07:24.000Z  \n",
       "116  1498297861125062663  2022-02-28T14:03:41.000Z  \n",
       "117  1497991211893723137  2022-02-27T17:45:10.000Z  \n",
       "118  1497987217209401352  2022-02-27T17:29:18.000Z  \n",
       "\n",
       "[119 rows x 4 columns]"
      ]
     },
     "execution_count": 35,
     "metadata": {},
     "output_type": "execute_result"
    }
   ],
   "source": [
    "df"
   ]
  },
  {
   "cell_type": "code",
   "execution_count": 22,
   "metadata": {},
   "outputs": [
    {
     "name": "stdout",
     "output_type": "stream",
     "text": [
      "{'edit_history_tweet_ids': ['1587313814671970304'], 'id': '1587313814671970304', 'text': 'When can we have the Minister for #Refugees appointed to fulfill said Responsibilities: Ukraine Family Scheme/Homes for Ukraine/Afghan Citizens Resettlement Scheme/Afghan Relocation &amp; Assistance Policy/Hong Kong BN(O) \\u2066@RishiSunak\\u2069 #ukraine #afghan  https://t.co/am4MbLZAQz'}\n",
      "{'edit_history_tweet_ids': ['1587298640447447041'], 'id': '1587298640447447041', 'text': 'RT @HFR_USA: Are you ready to welcome displaced Ukrainians? \\n\\nDid you know there’s a need to sponsor Ukrainians?\\n\\nFor more info  join us vi…'}\n",
      "{'edit_history_tweet_ids': ['1587298538479755264'], 'id': '1587298538479755264', 'text': 'Are you ready to welcome displaced Ukrainians? \\n\\nDid you know there’s a need to sponsor Ukrainians?\\n\\nFor more info  join us virtually for #sponsortuesday every Tue at 5p PT/8p ET. RSVP info@hfrusa.org.\\n\\n#u4u #unitingforukraine\\n#communitysponsorship\\n#refugees\\n#ukraine #halloween https://t.co/saM5BK0XUn'}\n",
      "{'edit_history_tweet_ids': ['1587281648525008896'], 'id': '1587281648525008896', 'text': 'RT @HFR_USA: What would you do? Who would you turn to? \\n\\nFor Ukrainians fleeing the war, you can help them get to the United States by beco…'}\n",
      "{'edit_history_tweet_ids': ['1587281576907329538'], 'id': '1587281576907329538', 'text': 'What would you do? Who would you turn to? \\n\\nFor Ukrainians fleeing the war, you can help them get to the United States by becoming a sponsor.\\n\\nhttps://t.co/WXgRW9DU3h\\n\\n#homeforrefugees #u4u #unitingforukraine #communitysponsorship #refugees #refugeeswelcome #ukraine #Halloween https://t.co/bJx3ly3BGu'}\n",
      "{'edit_history_tweet_ids': ['1587251717875417090'], 'id': '1587251717875417090', 'text': 'RT @VladDavidzon: I got my nieces out of Ukraine. They have never been on a airplane before … here is one of them flying the Ukrainian flag…'}\n",
      "{'edit_history_tweet_ids': ['1587250369771745280'], 'id': '1587250369771745280', 'text': 'RT @DrShea_DC: Few can speak about #RussiaUkraineWar better than Hungary’s Foreign Minister Péter Szijjártó:\\n\\n#Hungary shares a border w/ #…'}\n",
      "{'edit_history_tweet_ids': ['1587240316393820160'], 'id': '1587240316393820160', 'text': 'Cheer up at the Ukrainian restaurant\\u3000\\nCooking for Lilia, who was evacuated to Yokohama\\nNext time, we will open a store in Zushi on the 6th\\n\\nウクライナ食堂で元気に\\u3000#横浜 に避難のリリアさん調理\\u3000次回は6日、#逗子 で出店 \\n#Japan #UkraineWar #Refugees\\n#Ukraine #Ukrainian #Україна https://t.co/lSQQbIdcgO https://t.co/7cetwgYn8d'}\n",
      "{'edit_history_tweet_ids': ['1587235913184206848'], 'id': '1587235913184206848', 'text': \"1-2) Do you want to reduce the influx of #asylum seekers and #refugees towards the #EU? I mention 2 urgent tasks, not more: A- Don't let #Russia- #Ukraine war overspil into #MOLDOVA. B- Deescalate the tension between #Turkey, #Greece and #Cyprus. I leave aside hotspots in Africa.\"}\n",
      "{'edit_history_tweet_ids': ['1587217092012564481'], 'id': '1587217092012564481', 'text': 'We are now at 103 million people who have been forced to flee worldwide, with the biggest six-month increase ever recorded.#Refugees #ukraine #ukrainerussiawar  https://t.co/OguD9ri5di'}\n"
     ]
    }
   ],
   "source": [
    "for i in json.loads(line)['data']:\n",
    "    print(i)"
   ]
  },
  {
   "cell_type": "code",
   "execution_count": 33,
   "metadata": {},
   "outputs": [
    {
     "data": {
      "text/html": [
       "<div>\n",
       "<style scoped>\n",
       "    .dataframe tbody tr th:only-of-type {\n",
       "        vertical-align: middle;\n",
       "    }\n",
       "\n",
       "    .dataframe tbody tr th {\n",
       "        vertical-align: top;\n",
       "    }\n",
       "\n",
       "    .dataframe thead th {\n",
       "        text-align: right;\n",
       "    }\n",
       "</style>\n",
       "<table border=\"1\" class=\"dataframe\">\n",
       "  <thead>\n",
       "    <tr style=\"text-align: right;\">\n",
       "      <th></th>\n",
       "      <th>tweet</th>\n",
       "    </tr>\n",
       "  </thead>\n",
       "  <tbody>\n",
       "    <tr>\n",
       "      <th>0</th>\n",
       "      <td>RT @ga_richardson: How Vladimir Putin weaponis...</td>\n",
       "    </tr>\n",
       "    <tr>\n",
       "      <th>1</th>\n",
       "      <td>RT @NewsPerpetual: PPN World News - 7 Nov 2022...</td>\n",
       "    </tr>\n",
       "    <tr>\n",
       "      <th>2</th>\n",
       "      <td>RT @katyasoldak: Day 257. Monday, November 7. ...</td>\n",
       "    </tr>\n",
       "    <tr>\n",
       "      <th>3</th>\n",
       "      <td>Day 257. Monday, November 7. Russia’s War On U...</td>\n",
       "    </tr>\n",
       "    <tr>\n",
       "      <th>4</th>\n",
       "      <td>#Ukraine #Russia #Belarus #war #NATO #EU #UK #...</td>\n",
       "    </tr>\n",
       "    <tr>\n",
       "      <th>...</th>\n",
       "      <td>...</td>\n",
       "    </tr>\n",
       "    <tr>\n",
       "      <th>352</th>\n",
       "      <td>What would you do? Who would you turn to? \\n\\n...</td>\n",
       "    </tr>\n",
       "    <tr>\n",
       "      <th>353</th>\n",
       "      <td>RT @VladDavidzon: I got my nieces out of Ukrai...</td>\n",
       "    </tr>\n",
       "    <tr>\n",
       "      <th>354</th>\n",
       "      <td>RT @DrShea_DC: Few can speak about #RussiaUkra...</td>\n",
       "    </tr>\n",
       "    <tr>\n",
       "      <th>355</th>\n",
       "      <td>Cheer up at the Ukrainian restaurant　\\nCooking...</td>\n",
       "    </tr>\n",
       "    <tr>\n",
       "      <th>356</th>\n",
       "      <td>1-2) Do you want to reduce the influx of #asyl...</td>\n",
       "    </tr>\n",
       "  </tbody>\n",
       "</table>\n",
       "<p>357 rows × 1 columns</p>\n",
       "</div>"
      ],
      "text/plain": [
       "                                                 tweet\n",
       "0    RT @ga_richardson: How Vladimir Putin weaponis...\n",
       "1    RT @NewsPerpetual: PPN World News - 7 Nov 2022...\n",
       "2    RT @katyasoldak: Day 257. Monday, November 7. ...\n",
       "3    Day 257. Monday, November 7. Russia’s War On U...\n",
       "4    #Ukraine #Russia #Belarus #war #NATO #EU #UK #...\n",
       "..                                                 ...\n",
       "352  What would you do? Who would you turn to? \\n\\n...\n",
       "353  RT @VladDavidzon: I got my nieces out of Ukrai...\n",
       "354  RT @DrShea_DC: Few can speak about #RussiaUkra...\n",
       "355  Cheer up at the Ukrainian restaurant　\\nCooking...\n",
       "356  1-2) Do you want to reduce the influx of #asyl...\n",
       "\n",
       "[357 rows x 1 columns]"
      ]
     },
     "execution_count": 33,
     "metadata": {},
     "output_type": "execute_result"
    }
   ],
   "source": [
    "df"
   ]
  },
  {
   "cell_type": "code",
   "execution_count": 2,
   "metadata": {},
   "outputs": [],
   "source": [
    "from bertopic import BERTopic\n",
    "import pandas as pd"
   ]
  },
  {
   "cell_type": "code",
   "execution_count": 8,
   "metadata": {},
   "outputs": [],
   "source": [
    "df = pd.read_csv(\"../data/twitter/df_pred.csv\", header=None)\n",
    "df.columns = [\"tweet\"]"
   ]
  },
  {
   "cell_type": "code",
   "execution_count": 4,
   "metadata": {},
   "outputs": [],
   "source": [
    "model=BERTopic.load(\"../models/BERTopicTwitterTest/BERTopicmodel\")"
   ]
  },
  {
   "cell_type": "code",
   "execution_count": 9,
   "metadata": {},
   "outputs": [
    {
     "name": "stderr",
     "output_type": "stream",
     "text": [
      "Batches: 100%|██████████| 12/12 [00:04<00:00,  2.80it/s]\n"
     ]
    }
   ],
   "source": [
    "pred, probs=model.transform(df['tweet'])\n",
    "df['cluster'] = pred"
   ]
  },
  {
   "cell_type": "code",
   "execution_count": 10,
   "metadata": {},
   "outputs": [],
   "source": [
    "df.to_csv(\"../models/BERTopicTwitterTest/df_pred.csv\", index=None)"
   ]
  },
  {
   "cell_type": "code",
   "execution_count": null,
   "metadata": {},
   "outputs": [],
   "source": []
  }
 ],
 "metadata": {
  "kernelspec": {
   "display_name": "Python 3.10.6 ('refugeeAnalysis')",
   "language": "python",
   "name": "python3"
  },
  "language_info": {
   "codemirror_mode": {
    "name": "ipython",
    "version": 3
   },
   "file_extension": ".py",
   "mimetype": "text/x-python",
   "name": "python",
   "nbconvert_exporter": "python",
   "pygments_lexer": "ipython3",
   "version": "3.9.13"
  },
  "orig_nbformat": 4,
  "vscode": {
   "interpreter": {
    "hash": "38bb9b58d9ea7be5a20c75aa0b89a578c4bb72fb8d5231ed76f30ad5b765ca05"
   }
  }
 },
 "nbformat": 4,
 "nbformat_minor": 2
}
